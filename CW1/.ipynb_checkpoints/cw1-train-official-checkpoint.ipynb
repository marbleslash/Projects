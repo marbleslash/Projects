{
 "cells": [
  {
   "cell_type": "markdown",
   "metadata": {},
   "source": [
    "# Coursework 1: Train a Sentiment Analysis Classifier\n"
   ]
  },
  {
   "cell_type": "code",
   "execution_count": 1,
   "metadata": {},
   "outputs": [],
   "source": [
    "# load data and take a quick look\n",
    "import pandas as pd\n",
    "from sklearn.linear_model import LogisticRegression\n",
    "from sklearn.metrics import precision_recall_fscore_support,accuracy_score\n",
    "from sklearn.model_selection import cross_validate\n",
    "import numpy as np\n",
    "from sklearn.feature_extraction.text import TfidfVectorizer\n",
    "from nltk.util import ngrams\n",
    "from sklearn.model_selection import cross_validate\n",
    "from sklearn.metrics import precision_recall_fscore_support,accuracy_score\n",
    "\n",
    "\n",
    "raw_data = pd.read_csv('coursework1_train.csv')"
   ]
  },
  {
   "cell_type": "code",
   "execution_count": 991,
   "metadata": {},
   "outputs": [
    {
     "name": "stdout",
     "output_type": "stream",
     "text": [
      "entry num 40000\n",
      "num of pos entries 20000\n",
      "num of neg entries 20000\n"
     ]
    }
   ],
   "source": [
    "# check the size of the data and its class distribution\n",
    "all_text = raw_data['text'].tolist()\n",
    "all_lables = raw_data['sentiment'].tolist()\n",
    "\n",
    "\n",
    "print('entry num', len(all_text))\n",
    "print('num of pos entries', len([l for l in all_lables if l=='pos']))\n",
    "print('num of neg entries', len([l for l in all_lables if l=='neg']))"
   ]
  },
  {
   "cell_type": "code",
   "execution_count": null,
   "metadata": {},
   "outputs": [],
   "source": [
    "# This is the split given by the Professor. We do not really use this split. We will end up cross-validating.\n",
    "train_text = all_text[:35000]\n",
    "train_labels = all_lables[:35000]\n",
    "test_text = all_text[35000:]\n",
    "test_labels = all_lables[35000:]"
   ]
  },
  {
   "cell_type": "markdown",
   "metadata": {},
   "source": [
    "## Text Cleaning and Preprocessing:\n",
    "In this sample code I do not perform any text normalization/pre-processing on the text. However, using the tdf-idf  text pre-processor yields better results. So, we will just use the tdf-idf Vectorizer for lowercasing, splitting the the text, and removing punctuation and specifying the stop words to be removed. "
   ]
  },
  {
   "cell_type": "code",
   "execution_count": 993,
   "metadata": {},
   "outputs": [],
   "source": [
    "import re\n",
    "lowercase_text = []\n",
    "for text in (raw_data['text']): \n",
    "    lowercase_text.append(re.sub(puncs, \"\",  text.lower())   )\n",
    "    #lowercase_text.append(text.lower())\n",
    "\n",
    "raw_copy = raw_data.copy()\n",
    "raw_copy['lowercase_text'] = lowercase_text\n",
    "neg_sent = raw_copy[raw_copy['sentiment'] == 'neg']\n",
    "pos_sent = raw_copy[raw_copy['sentiment'] == 'pos']\n",
    "\n",
    "neg_sent_combined = \"\"\n",
    "for sent in neg_sent['lowercase_text'][1:10000]:\n",
    "    neg_sent_combined = neg_sent_combined + \" \" + sent\n",
    "\n",
    "pos_sent_combined = \"\"\n",
    "for sent in pos_sent['lowercase_text'][1:10000]:\n",
    "     pos_sent_combined = pos_sent_combined + \" \" + sent\n",
    "    \n",
    "\n",
    "neg_splits = neg_sent_combined.split()\n",
    "pos_splits = pos_sent_combined.split()"
   ]
  },
  {
   "cell_type": "markdown",
   "metadata": {},
   "source": [
    "## How to Determine Which Stop Words to Remove\n",
    "#### Read the PDF under \"Why Stop Words should be Kept\" to understand process of code"
   ]
  },
  {
   "cell_type": "code",
   "execution_count": 1208,
   "metadata": {},
   "outputs": [
    {
     "ename": "SyntaxError",
     "evalue": "invalid syntax (<ipython-input-1208-5eea22224466>, line 21)",
     "output_type": "error",
     "traceback": [
      "\u001b[0;36m  File \u001b[0;32m\"<ipython-input-1208-5eea22224466>\"\u001b[0;36m, line \u001b[0;32m21\u001b[0m\n\u001b[0;31m    5\u001b[0m\n\u001b[0m    ^\u001b[0m\n\u001b[0;31mSyntaxError\u001b[0m\u001b[0;31m:\u001b[0m invalid syntax\n"
     ]
    }
   ],
   "source": [
    "#Getting a distribution of the stop words for negative sentiment and positive sentiment \n",
    "from nltk.corpus import stopwords\n",
    "from collections import Counter\n",
    "\n",
    "# Specifying the stop words with the stopwords package\n",
    "stop_words = set(stopwords.words('english'))\n",
    "list_stops = list(stop_words)\n",
    "\n",
    "# Getting a dictionary for the distribution of all words for the positive and negative texts respectively\n",
    "neg_dict = Counter(neg_splits)\n",
    "pos_dict = Counter(pos_splits)\n",
    "\n",
    "# Converting the dictionaries to list\n",
    "neg_list = [(k,v) for k,v in neg_dict.items()]\n",
    "pos_list = [(k,v) for k,v in pos_dict.items()]\n",
    "\n",
    "# Getting a list of the distribution of only the stop worsd\n",
    "neg_stops = [tup for tup in neg_list if tup[0] in list_stops]\n",
    "pos_stops = [tup for tup in pos_list if tup[0] in list_stops]\n"
   ]
  },
  {
   "cell_type": "code",
   "execution_count": 1079,
   "metadata": {},
   "outputs": [
    {
     "name": "stdout",
     "output_type": "stream",
     "text": [
      "0.4737236567002008 0.46778368733190817\n"
     ]
    }
   ],
   "source": [
    "# This number compares the proportion of total words (by frequency) stop words have in\n",
    "# negative sentiment text (on left) vs positive sentiment texts (on right.)\n",
    "\n",
    "neg_stops_sum = sum([tup[1] for tup in neg_stops])\n",
    "neg_words_sum = sum([tup[1] for tup in neg_list])\n",
    "pos_stops_sum = sum([tup[1] for tup in pos_stops])\n",
    "pos_words_sum = sum([tup[1] for tup in pos_list])\n",
    "print(neg_stops_sum/neg_words_sum, pos_stops_sum/pos_words_sum)\n",
    "\n",
    "## As you can see below, the negative text has a higher proportion of stop words than does postive text\n",
    "## This might be an indicator that stop words to in fact make a difference in classification accuracy"
   ]
  },
  {
   "cell_type": "code",
   "execution_count": 1080,
   "metadata": {},
   "outputs": [],
   "source": [
    "\n",
    "## Obtaining a list of stop words sorted by frequency for both the positive text and the negative text \n",
    "\n",
    "# The stop words in the negative and positive texts respectively\n",
    "neg_stops_words = [i[0] for i in neg_stops]\n",
    "pos_stops_words = [i[0] for i in pos_stops]\n",
    "\n",
    "# Obtaining the stop words that only appear in the negative text and not the positive text\n",
    "only_in_neg = [i for i in sorted(neg_stops_words) if i not in sorted(pos_stops_words)]\n",
    "\n",
    "# Obtaining the stop words that only appear in the positive text and not the negative text\n",
    "only_in_pos = [i for i in sorted(pos_stops_words) if i not in sorted(neg_stops_words)]\n",
    "\n",
    "# Obtaining the stop words to be dropped because they only appear in one of the positive or negative texts\n",
    "# We are trying to visualize the data, that is why we are dropping these stop words (we do not actually drop them \n",
    "# in the final tdf-idf vectorized data)\n",
    "drop_words = only_in_neg + only_in_pos\n",
    "neg_stops_equal = [tup for tup in neg_stops if tup[0] not in drop_words]\n",
    "pos_stops_equal = [tup for tup in pos_stops if tup[0] not in drop_words]\n",
    "\n",
    "neg_stops_equal = sorted(neg_stops_equal, key=lambda x: x[0])\n",
    "pos_stops_equal = sorted(pos_stops_equal, key=lambda x: x[0])\n",
    "n = neg_stops_equal\n",
    "p = pos_stops_equal"
   ]
  },
  {
   "cell_type": "markdown",
   "metadata": {},
   "source": [
    "### Quick Explanation of Code thus Far\n",
    "\n",
    "The stop words defined as \"early stops\" are the stop words that when removed, yield improvements to accuracy. These are organized in order of the stop words that the least different in terms of proportion frequency  in the positive and negative sentiment texts respectively. For instance, if the word \"the\" has a 15% appearance rate in positive sentiment and 15% appearance rate in negative, there is little difference between the two. Thus, it is unlikely the is an important word to determine between positive and negative texts and can thus be removed. However, if, for instance, \"only\" appeared 5% in negative and 10% in positive. This difference is larger and it would probably be best to keep \"only\" as a stop word.\n",
    "\n",
    "###### Further explanation can be found in the PDF under the \"Why Stop Words Should be Kept\" Section\n",
    "\n"
   ]
  },
  {
   "cell_type": "code",
   "execution_count": 1211,
   "metadata": {},
   "outputs": [],
   "source": [
    "\n",
    "# My arbitrary list of stop words that I want to remove. I do NOT want to remove all the possible stopwords, as this\n",
    "# results in a reduction in accuracy. \n",
    "easy_stops = ['the', 'a', 'and', 'of', 'to', 'is', 'in', 'it', 'this', 'i', 'are', 'an', \"it's\", \"me\", \"they\",\"they're\", 'we', 'am'\\\n",
    "             'its', 'be', 'from', 'how']\n",
    "\n",
    "# Getting the stop word plus frequencies in the negative and positive texts, combined in a tuple\n",
    "stops = [(n[i][0], n[i][1], p[i][1]) for i in range(len(n))]\n",
    "\n",
    "# Getting only the stop words as specified above\n",
    "stops_easy = [i for i in stops if i[0] in easy_stops]\n",
    "\n",
    "# Getting the ratio of the stop words (as percent difference)\n",
    "stops_easy_ratios = [(i[0],   abs(i[1] - i[2])/(i[1] + i[2])) for i in stops_easy]\n",
    "\n",
    "# Getting only the percentages without the keys\n",
    "ratios = [i[1] for i in stops_easy_ratios]\n",
    "\n",
    "# The maximum percentage value in the easy_stops list (This functions as a threshold, baseline value)\n",
    "# If any percentage exceeds this value, it may be too significant a stop word to remove\n",
    "max_ratio = max(ratios)"
   ]
  },
  {
   "cell_type": "code",
   "execution_count": 1261,
   "metadata": {},
   "outputs": [
    {
     "data": {
      "text/plain": [
       "<matplotlib.legend.Legend at 0x1b87226e80>"
      ]
     },
     "execution_count": 1261,
     "metadata": {},
     "output_type": "execute_result"
    },
    {
     "data": {
      "image/png": "[encoded data removed]",
      "text/plain": [
       "<Figure size 432x288 with 1 Axes>"
      ]
     },
     "metadata": {
      "needs_background": "light"
     },
     "output_type": "display_data"
    }
   ],
   "source": [
    "# Setting the stop words as defined by the ntlk package\n",
    "from nltk.corpus import stopwords\n",
    "stop_words = set(stopwords.words('english'))\n",
    "list_stops = list(stop_words)\n",
    "\n",
    "# Below is a ratio difference of stop words between positive and negative sentiment, arranged alphabetically\n",
    "all_ratios =  [(i[0],   abs(i[1] - i[2])/(i[2])) for i in stops]\n",
    "\n",
    "# Only includes the stop words that do not mass a certain threshold\n",
    "all_ratios_maxed = [i for i in all_ratios if i[1] <= max_ratio]\n",
    "\n",
    "# Sorting the ratio from smallest to largest\n",
    "all_ratios_sorted = sorted(all_ratios_maxed, key = lambda x: x[1])\n",
    "easy_stops2 = [i for i in (all_ratios_sorted) if i[0] not in easy_stops]\n",
    "all_ratios_sorted_words = [i[0] for i in all_ratios_sorted]\n",
    "all_ratios_sorted_vals = [i[1] for i in all_ratios_sorted]\n",
    "\n",
    "\n",
    "# Obtaining the proportion for each stop word in negative text\n",
    "negs = [i[1]/nsum for i in stops]\n",
    "\n",
    "# Obtaining the proportion for each stop word in positive text\n",
    "posivs = [i[2]/psum for i in stops]\n",
    "\n",
    "# Obtaining all the list of stop words\n",
    "wrds = [i[0] for i in stops]\n",
    "\n",
    "# The indices of the words with the smallest percent difference between negative and positive text\n",
    "neg2 = np.array(negs)[np.array([122,42,11,25,88,150,0,67,34,53])]\n",
    "posivs2 = np.array(posivs)[np.array([122,42,11,25,88,150,0,67,34,53])]\n",
    "wrds2 = np.array(wrds)[np.array([122,42,11,25,88,150,0,67,34,53])]\n",
    "\n",
    "\n",
    "# Plotting the top stop words that show very little difference in frequency between positive and negative text\n",
    "plt.title('Percentage of Stop Words in Positive and Negative Text')\n",
    "a = np.array([0,2,4,6,8,10,12,16,18,20])\n",
    "plt.bar(a - 0.4, neg2)\n",
    "plt.bar(a + 0.4, posivs2)\n",
    "plt.xticks(a, ['these', \"further\", \"are\", \"it\", \"can\", \"on\", \"won't\", \"a\", \"it's\", \"don\", \"here\"])\n",
    "plt.legend(['Negative', 'Positive'])"
   ]
  },
  {
   "cell_type": "markdown",
   "metadata": {},
   "source": [
    "## POS Tagging and How Tags Play a Role in Predicting Sentiment\n",
    "\n",
    "#### This section is explained under the \"Why Lemmatizing and Stemming May not be a Good Idea\" section of the PDF"
   ]
  },
  {
   "cell_type": "code",
   "execution_count": 1260,
   "metadata": {},
   "outputs": [
    {
     "data": {
      "text/plain": [
       "<matplotlib.legend.Legend at 0x1b871c2fd0>"
      ]
     },
     "execution_count": 1260,
     "metadata": {},
     "output_type": "execute_result"
    },
    {
     "data": {
      "image/png": "[encoded data removed]",
      "text/plain": [
       "<Figure size 432x288 with 1 Axes>"
      ]
     },
     "metadata": {
      "needs_background": "light"
     },
     "output_type": "display_data"
    }
   ],
   "source": [
    "# Exploring all of the POS tagging \n",
    "\n",
    "# Getting the POS tags for the negative and positive labels\n",
    "neg_pos = nltk.pos_tag(neg_splits)\n",
    "pos_pos = nltk.pos_tag(pos_splits)\n",
    "\n",
    "# Getting the tags only, without the word\n",
    "neg_tags = [i[1] for i in neg_pos]\n",
    "pos_tags = [i[1] for i in pos_pos]\n",
    "\n",
    "# Getting the distribution of POS tags for the respective labels\n",
    "neg_tag_count  = Counter(neg_tags)\n",
    "pos_tag_count = Counter(pos_tags)\n",
    "\n",
    "##sorted(pos_stops_equal, key=lambda x: x[0])\n",
    "##neg_list = [(k,v) for k,v in neg_dict.items()]\n",
    "\n",
    "\n",
    "# Getting the POS tags for the negative labels\n",
    "neg_pos_tags = [(k,v) for k,v in neg_tag_count.items()]\n",
    "\n",
    "# Getting the POS tags for the positive labels\n",
    "pos_pos_tags = [(k,v) for k,v in pos_tag_count.items()]\n",
    "\n",
    "\n",
    "# Sorting the pos tags by the second index for the respective labels\n",
    "neg_sort = sorted(neg_pos_tags, key=lambda x: x[0])\n",
    "pos_sort = sorted(pos_pos_tags, key=lambda x: x[0])\n",
    "all_tags = [i[0] for i in neg_sort]\n",
    "pos_nums = [i[1] for i in pos_sort if i[0] in all_tags]\n",
    "neg_nums = [i[1] for i in neg_sort]\n",
    "\n",
    "\n",
    "# Total number of tokens in positive and negative labels\n",
    "psum = sum(pos_nums)\n",
    "nsum = sum(neg_nums)\n",
    "\n",
    "# Plotting a graph that compares the POS distribution of verbs for positive and negative labels\n",
    "x = ('VD','VBD', \"VBG\", \"VBN\", \"VBP\", \"VBZ\")\n",
    "place_x = np.array([1,3,5,7,9,11])\n",
    "plt.title(\"% Distribution of POS tags (verbs)\")\n",
    "plt.bar(place_x - 0.405, np.array(neg_nums[29:35])/psum, alpha = 1)\n",
    "plt.bar(place_x + 0.405, np.array(pos_nums[29:35])/nsum, alpha = 1)\n",
    "plt.xticks(place_x, x)\n",
    "plt.legend(['Negative', 'Positive'])"
   ]
  },
  {
   "cell_type": "markdown",
   "metadata": {},
   "source": [
    "##### For a description of the graph above, please refer to \"Why Lemmatizing and Stemming May not be a Good Idea\" in the report."
   ]
  },
  {
   "cell_type": "markdown",
   "metadata": {},
   "source": [
    "## Cross-Validation Step: Description of the Cell Below \n",
    "\n",
    "In the next cell below we perform 5 fold cross-validation on the data in order to evaluate our hyperparameters.\n",
    "\n",
    "Here are the steps we follow:\n",
    "\n",
    "##### Step 1) Set the max_feature_number = 100000\n",
    "\n",
    "    Why we do this: as mentioned in the report (pdf file), there are simply so many features due to a combination of ngrams and the vocabulary itself that setting this number too low would ultimately remove many features that could end up being important.\n",
    "    \n",
    "##### Step 2) We choose a small subset of stopwords to remove\n",
    "    \n",
    "    How we do this: as mentioned in the pdf, we take the top 50 or so stop words determined by the percent difference as described in the PDF, and remove them one by one. If removing a words yields an improvement to accuracy to our cross validated sets, then we will keep this removal. This algorithm is somewhat sequential and will not necessarily remove all the stop words that could help improve accuracy.\n",
    "    \n",
    "##### Step 3) TfidfVectorizer\n",
    "    We use the TfidfVectorizer, which will clean the data for us: removing most punctuation marks and lowercasing the words. We also apply a log transformation on the data with the sublinear_tf = True because the data is far from uniform. Doing so indeed gives us better results. In addition, we tell TfidfVectorizer to remove the stop words we want it to by providing a specific list of stop words.\n",
    "\n",
    "##### Step 4) Fitting the Logistic Regression\n",
    "    We then fit the logistic Regression with l2 loss using C = 18.80 on the data and proceed to cross validate.\n",
    "    \n",
    "##### Step 5) Cross-Validation\n",
    "    This step allows us to tune the hyperparameters and allows to evaluate whether the model is performing at the level we want it to or not.\n",
    "    \n",
    "##### Step 6) Printing the Results\n",
    "    Here we see are accuracy, precision, and recall. All of the values are close, this is due in part because there is generally a 50/50 split in both the training and validation sets when we cross-validate."
   ]
  },
  {
   "cell_type": "code",
   "execution_count": 1272,
   "metadata": {},
   "outputs": [
    {
     "name": "stderr",
     "output_type": "stream",
     "text": [
      "//anaconda3/lib/python3.7/site-packages/sklearn/feature_extraction/text.py:300: UserWarning: Your stop_words may be inconsistent with your preprocessing. Tokenizing the stop words generated tokens ['re', 'shan', 'she', 'shouldn'] not in stop_words.\n",
      "  'stop_words.' % sorted(inconsistent))\n",
      "//anaconda3/lib/python3.7/site-packages/sklearn/feature_extraction/text.py:300: UserWarning: Your stop_words may be inconsistent with your preprocessing. Tokenizing the stop words generated tokens ['re', 'shan', 'she', 'shouldn'] not in stop_words.\n",
      "  'stop_words.' % sorted(inconsistent))\n",
      "//anaconda3/lib/python3.7/site-packages/sklearn/linear_model/logistic.py:432: FutureWarning: Default solver will be changed to 'lbfgs' in 0.22. Specify a solver to silence this warning.\n",
      "  FutureWarning)\n"
     ]
    },
    {
     "name": "stdout",
     "output_type": "stream",
     "text": [
      "0.9126249999999999\n"
     ]
    }
   ],
   "source": [
    "\n",
    "#*************************************#\n",
    "################ STEP 1 ###############\n",
    "#*************************************#\n",
    "from sklearn.model_selection import cross_validate\n",
    "from sklearn.feature_extraction.text import TfidfVectorizer\n",
    "max_feature_num = 100000\n",
    "\n",
    "\n",
    "#*************************************#\n",
    "################ STEP 2 ###############\n",
    "#*************************************#\n",
    "\n",
    "## Selecting these features as explained in the PDF: there is a very low difference in proportion within the negative \n",
    "## and positive datasets, likely meaning that they have little predictive accuracy. Indeed, removing them improves\n",
    "## the accuracy of the logistic regression. It is important to recognize that some stop words must not be removed \n",
    "## because the bigrams they form are very meaningful. That is why our selection of stop words is small.\n",
    "easy_stops = ['the', 'a', 'and', 'of', 'to', 'is', 'in', 'it', 'this', 'i', 'are', 'an', \"it's\", \"me\", \"they\",\"they're\", 'we', 'am'\\\n",
    "             'its', 'be', 'from', 'how', \"shan't\", 't', 'all', 'before', 'which', 'that', \"s\", 'up', 'y', \"she's\", \"shouldn't\"\\\n",
    "             ]\n",
    "\n",
    "#*************************************#\n",
    "################ STEP 3 ###############\n",
    "#*************************************#\n",
    "\n",
    "# Vectorizing the words with a log transformation because the data is skew. Logging will slightly\n",
    "# improve the predictive accuracy.\n",
    "train_vectorizer = TfidfVectorizer(stop_words = easy_stops, ngram_range = (1,2), max_features=max_feature_num, sublinear_tf = True)\n",
    "all_vecs = train_vectorizer.fit_transform(all_text)\n",
    "test_vecs = TfidfVectorizer(stop_words = easy_stops, ngram_range = (1,2), max_features=max_feature_num,\\\n",
    "sublinear_tf = True, vocabulary = train_vectorizer.vocabulary_).fit_transform(real_test_text)\n",
    "\n",
    "\n",
    "\n",
    "# The vectorizer\n",
    "train_vectorizer = TfidfVectorizer(stop_words = easy_stops, ngram_range = (1,2), max_features=max_feature_num,sublinear_tf = True)\n",
    "\n",
    "## The entire data set: transforming the training data to td-idf vectors \n",
    "all_vecs = train_vectorizer.fit_transform(all_text)\n",
    "\n",
    "## \n",
    "\n",
    "#*************************************#\n",
    "################ STEP 4 ###############\n",
    "#*************************************#\n",
    "\n",
    "# The logistic regression model (technically haven't fit yet, cv package will do that for us in the next step)\n",
    "clf_fit = LogisticRegression(penalty = 'l2', C = 18.80)\n",
    "\n",
    "\n",
    "#*************************************#\n",
    "################ STEP 5 ###############\n",
    "#*************************************#\n",
    "\n",
    "# Cross validating\n",
    "cv_results = cross_validate(clf_fit, all_vecs, all_lables, cv=5)\n",
    "print(np.mean(cv_results['test_score']))\n",
    "\n",
    "\n",
    "#*************************************#\n",
    "################ STEP 6 ###############\n",
    "#*************************************#\n",
    "\n",
    "\n",
    "### We do in fact take a look at the precision recall scores, but seeing as how the data split between the two class\n",
    "### is roughly around 50/50, all of the scores are very close to one another.\n",
    "\n",
    "#from sklearn.metrics import precision_recall_fscore_support,accuracy_score\n",
    "#acc = accuracy_score(real_test_labels, test_pred)\n",
    "# pre, rec, f1, _ = precision_recall_fscore_support(real_test_labels, test_pred, average='macro')\n",
    "# print('acc', acc)\n",
    "# print('precision', pre)\n",
    "# print('rec', rec)\n",
    "# print('f1', f1)"
   ]
  },
  {
   "cell_type": "markdown",
   "metadata": {},
   "source": [
    "## SAVE YOUR TRAINED MODEL\n",
    "After you have found the best model, save your trained model and other necessary components (e.g. vocabulary, vectorizer) to a file. I will load your model from the saved file and apply your trained model on some held-out test data. **At submission time, you are supposed to submit the saved model file, and I will NOT re-run your code to train your model; instead, I will directly use your trained model to run test (see notebook *cw1-test.ipybn*)**. \n",
    "\n",
    "Below is a sample code for saving the model (and other necessary components) obtained above, using the *pickle* package in Python. *You should adjust the code to save the necessary components for re-running your model!*"
   ]
  },
  {
   "cell_type": "code",
   "execution_count": 1280,
   "metadata": {},
   "outputs": [
    {
     "name": "stderr",
     "output_type": "stream",
     "text": [
      "//anaconda3/lib/python3.7/site-packages/sklearn/linear_model/logistic.py:432: FutureWarning: Default solver will be changed to 'lbfgs' in 0.22. Specify a solver to silence this warning.\n",
      "  FutureWarning)\n",
      "//anaconda3/lib/python3.7/site-packages/sklearn/feature_extraction/text.py:300: UserWarning: Your stop_words may be inconsistent with your preprocessing. Tokenizing the stop words generated tokens ['re', 'shan', 'she', 'shouldn'] not in stop_words.\n",
      "  'stop_words.' % sorted(inconsistent))\n"
     ]
    }
   ],
   "source": [
    "import pickle\n",
    "\n",
    "clf = LogisticRegression(penalty = 'l2', C = 18.80).fit(all_vecs, all_lables)\n",
    "train_vectorizer = TfidfVectorizer(stop_words = easy_stops, ngram_range = (1,2), max_features=max_feature_num, sublinear_tf = True)\n",
    "all_vecs = train_vectorizer.fit_transform(all_text)\n",
    "easy_stops = ['the', 'a', 'and', 'of', 'to', 'is', 'in', 'it', 'this', 'i', 'are', 'an', \"it's\", \"me\", \"they\",\"they're\", 'we', 'am'\\\n",
    "             'its', 'be', 'from', 'how', \"shan't\", 't', 'all', 'before', 'which', 'that', \"s\", 'up', 'y', \"she's\", \"shouldn't\"]\n",
    "\n",
    "# save model and other necessary modules\n",
    "all_info_want_to_save = {\n",
    "    'model': clf,\n",
    "    'vectorizer': TfidfVectorizer(stop_words = easy_stops, ngram_range = (1,2), max_features=max_feature_num,vocabulary=train_vectorizer.vocabulary_, sublinear_tf = True)\n",
    "}\n",
    "save_path = open(\"sample_trained_model.pickle\",\"wb\")\n",
    "pickle.dump(all_info_want_to_save, save_path)"
   ]
  },
  {
   "cell_type": "markdown",
   "metadata": {},
   "source": [
    "In *cw1-test.ipynb*, I provide a sample code to illustrate how to re-load your saved model and apply it to some test data. "
   ]
  }
 ],
 "metadata": {
  "kernelspec": {
   "display_name": "Python 3",
   "language": "python",
   "name": "python3"
  },
  "language_info": {
   "codemirror_mode": {
    "name": "ipython",
    "version": 3
   },
   "file_extension": ".py",
   "mimetype": "text/x-python",
   "name": "python",
   "nbconvert_exporter": "python",
   "pygments_lexer": "ipython3",
   "version": "3.7.3"
  }
 },
 "nbformat": 4,
 "nbformat_minor": 2
}
