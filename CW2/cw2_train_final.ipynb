{
 "cells": [
  {
   "cell_type": "markdown",
   "metadata": {
    "colab_type": "text",
    "id": "LEiFtxvieMtb"
   },
   "source": [
    "# CNN-based sentiment classifier\n",
    "The code below illustrates a working example of a CNN-based sentiment classifier. The data used to train the model is from coursework assignment 1."
   ]
  },
  {
   "cell_type": "code",
   "execution_count": 2,
   "metadata": {
    "colab": {
     "base_uri": "https://localhost:8080/",
     "height": 122
    },
    "colab_type": "code",
    "id": "q2cAWcBUeMtf",
    "outputId": "2a5a76ad-a000-445d-f435-44b09c65f125"
   },
   "outputs": [
    {
     "name": "stdout",
     "output_type": "stream",
     "text": [
      "Go to this URL in a browser: https://accounts.google.com/o/oauth2/auth?client_id=947318989803-6bn6qk8qdgf4n4g3pfee6491hc0brc4i.apps.googleusercontent.com&redirect_uri=urn%3aietf%3awg%3aoauth%3a2.0%3aoob&response_type=code&scope=email%20https%3a%2f%2fwww.googleapis.com%2fauth%2fdocs.test%20https%3a%2f%2fwww.googleapis.com%2fauth%2fdrive%20https%3a%2f%2fwww.googleapis.com%2fauth%2fdrive.photos.readonly%20https%3a%2f%2fwww.googleapis.com%2fauth%2fpeopleapi.readonly\n",
      "\n",
      "Enter your authorization code:\n",
      "··········\n",
      "Mounted at /content/drive\n"
     ]
    }
   ],
   "source": [
    "from google.colab import drive\n",
    "drive.mount('/content/drive')"
   ]
  },
  {
   "cell_type": "code",
   "execution_count": 3,
   "metadata": {
    "colab": {
     "base_uri": "https://localhost:8080/",
     "height": 51
    },
    "colab_type": "code",
    "id": "-8cjuXvBeMtm",
    "outputId": "22c269cf-b208-415f-941c-d20c99f09bdb"
   },
   "outputs": [
    {
     "name": "stdout",
     "output_type": "stream",
     "text": [
      "[nltk_data] Downloading package punkt to /root/nltk_data...\n",
      "[nltk_data]   Unzipping tokenizers/punkt.zip.\n"
     ]
    }
   ],
   "source": [
    "import pandas as pd\n",
    "from sklearn.utils import shuffle\n",
    "import pandas as pd\n",
    "from sklearn.utils import shuffle\n",
    "import nltk\n",
    "nltk.download('punkt')\n",
    "\n",
    "df = pd.read_table('/content/drive/My Drive/Colab Notebooks/coursework2_train.tsv')\n",
    "df = shuffle(df) # randomly shuffle data entries \n",
    "#df"
   ]
  },
  {
   "cell_type": "markdown",
   "metadata": {
    "colab_type": "text",
    "id": "azR8TjMbgRxT"
   },
   "source": [
    "# Why I Choose 300 dimensional Word Embeddings from Glove\n",
    "\n",
    "I use word embeddings from glove because training your own embeddings takes a while. Second, the embeddings from glove from a much more expansive vocabulary as they are trained upon a much greater amount of data. It is more likely for a vocabulary word in the test set to be missing if I were to use my own embeddings. We would then have to replace this with an \"oov\" or random vector which would only add noise to the data, harming the predictive power of our models. \n",
    "\n",
    "I use the 300 dimensional embeddings from glove because these vectors possess more specificity by storing more information. \n"
   ]
  },
  {
   "cell_type": "code",
   "execution_count": 4,
   "metadata": {
    "colab": {
     "base_uri": "https://localhost:8080/",
     "height": 71
    },
    "colab_type": "code",
    "id": "YlOwW6iVeMtr",
    "outputId": "f4352281-910b-442c-eeaa-ea2397b6877f"
   },
   "outputs": [
    {
     "name": "stderr",
     "output_type": "stream",
     "text": [
      "/usr/local/lib/python3.6/dist-packages/smart_open/smart_open_lib.py:402: UserWarning: This function is deprecated, use smart_open.open instead. See the migration notes for details: https://github.com/RaRe-Technologies/smart_open/blob/master/README.rst#migrating-to-the-new-open-function\n",
      "  'See the migration notes for details: %s' % _MIGRATION_NOTES_URL\n"
     ]
    }
   ],
   "source": [
    "# load pre-trained glove embeddings\n",
    "from gensim.test.utils import datapath, get_tmpfile\n",
    "from gensim.models import KeyedVectors\n",
    "from gensim.scripts.glove2word2vec import glove2word2vec\n",
    "\n",
    "# specify the loaction of the downloaded glove file\n",
    "path_of_downloaded_files = \"/content/drive/My Drive/Colab Notebooks/glove.6B.300d.txt\"\n",
    "glove_file = datapath(path_of_downloaded_files)\n",
    "word2vec_glove_file = get_tmpfile(\"glove.6B.300d.txt\")\n",
    "glove2word2vec(glove_file, word2vec_glove_file)\n",
    "word_vectors = KeyedVectors.load_word2vec_format(word2vec_glove_file)"
   ]
  },
  {
   "cell_type": "markdown",
   "metadata": {
    "colab_type": "text",
    "id": "PoNtp2DpCAzG"
   },
   "source": [
    "## Below is the vectorizer for the convolutional neural network. It is taken from lab 8.2. "
   ]
  },
  {
   "cell_type": "code",
   "execution_count": 0,
   "metadata": {
    "colab": {},
    "colab_type": "code",
    "id": "iZFWvV-AeMtw"
   },
   "outputs": [],
   "source": [
    "# define functions that build mini-batches\n",
    "from nltk.tokenize import word_tokenize\n",
    "import numpy as np\n",
    "from sklearn.metrics import confusion_matrix\n",
    "\n",
    "word_vec_dim = 300 # make sure this number matches the embedding you use\n",
    "\n",
    "# Out-of-vocabulary (OOV) words: words that are not included in the pre-trained embedding model\n",
    "# There exist many ways to vectorize OOV words, e.g. use a random vector to represent all OOV words\n",
    "# Feel free to search and employ other ways to vectorize OOV words\n",
    "oov_vec = np.random.rand(word_vec_dim)\n",
    "\n",
    "def get_sent_word_vecs(word_vectors, sent_words, largest_len):\n",
    "    vecs = []\n",
    "    for ww in sent_words:\n",
    "        if ww in word_vectors:\n",
    "            vecs.append(word_vectors[ww])\n",
    "        else:\n",
    "            vecs.append(oov_vec)\n",
    "    for i in range(largest_len-len(sent_words)):\n",
    "        vecs.append([0.]*word_vec_dim)\n",
    "    return np.array(np.transpose(vecs))\n",
    "\n",
    "def build_mini_batch(sent_list, word_vectors):\n",
    "    tokenized_sents = [word_tokenize(ss.lower()) for ss in sent_list]\n",
    "    largest_len = np.max([len(tokens) for tokens in tokenized_sents])\n",
    "    text_vecs = []\n",
    "    for ts in tokenized_sents:\n",
    "        vv = get_sent_word_vecs(word_vectors, ts, largest_len)\n",
    "        text_vecs.append(vv)\n",
    "    # print('mini batch shape',np.array(text_vecs).shape)\n",
    "    return np.array(text_vecs)\n",
    "  \n",
    "# sanity check \n",
    "#batch = build_mini_batch(['hello world!','HELLO','this is a long sentence!'], word_vectors)#.shape\n",
    "#word_vectors"
   ]
  },
  {
   "cell_type": "markdown",
   "metadata": {
    "colab_type": "text",
    "id": "NjGF0OhGCQ7S"
   },
   "source": [
    "## Why We Use Convolutional Neural Network for Our Neural Model\n",
    "\n",
    " We use a CNN as our neural model. While a LSTM network generally yields better performance than CNN for text classification, the text we are given is not very long, so we choose a CNN due to the fact that it is computationally faster, and overall performance does not differ significantly with LSTM. Second, LSTM is generally better for long texts as it can capture long-range relationships between words much better than other models. However, if you look closely at the propoganda dataset, much of the text is not long at all, and using a CNN with many kernels and filters can actually be more powerful than using an LSTM network. By having a lot o kernels and filters, it is able to capture relationships up among groups of words; second, by having many filters, it can capture many different types of relationships amongst these groups of words. "
   ]
  },
  {
   "cell_type": "code",
   "execution_count": 0,
   "metadata": {
    "colab": {},
    "colab_type": "code",
    "id": "iVD3OzpPeMt0"
   },
   "outputs": [],
   "source": [
    "# define the CNN1 model (as taken from lab 8.2)\n",
    "\n",
    "import numpy as np\n",
    "import torch\n",
    "import torch.nn as nn\n",
    "\n",
    "class CNN_Clf(nn.Module):\n",
    "    def __init__(self, embd_dim, filter_size_list, filter_num_list, class_num, dp_rate=0.5, gpu=False):\n",
    "        super(CNN_Clf, self).__init__()\n",
    "        self.embd_dim = embd_dim\n",
    "        assert len(filter_size_list) == len(filter_num_list)\n",
    "        self.output_dim = class_num\n",
    "        self.tanh = nn.Tanh()\n",
    "        self.dropout = nn.Dropout(dp_rate)\n",
    "        self.fc = nn.Linear(np.sum(filter_num_list), class_num)\n",
    "        self.gpu = gpu\n",
    "        self.convs = self.build_convs(filter_size_list, filter_num_list, gpu)\n",
    "        if self.gpu:\n",
    "            self.to('cuda')\n",
    "            \n",
    "    def build_convs(self, f_sizes, f_nums, gpu):\n",
    "        convs = nn.ModuleList()\n",
    "        for fs, fn in zip(f_sizes, f_nums):\n",
    "            padding_size = fs-1\n",
    "            m = nn.Conv1d(self.embd_dim, fn, fs, padding=padding_size)\n",
    "            if gpu: m.to('cuda')\n",
    "            convs.append(m)\n",
    "        return convs\n",
    "        \n",
    "    def get_conv_output(self, input_matrix, conv, gpu):\n",
    "        # step 1: compute convolution \n",
    "        assert input_matrix.shape[1] == self.embd_dim\n",
    "        conv_output = conv(input_matrix)\n",
    "        # step 2: pass through an activation function \n",
    "        conv_relu = self.tanh(conv_output)\n",
    "        # step 3: max-over-time pooling\n",
    "        maxp = nn.MaxPool1d(conv_relu.shape[2])\n",
    "        maxp_output = maxp(conv_relu)\n",
    "        return maxp_output\n",
    "       \n",
    "    def forward(self, all_text_vectors):\n",
    "        cnn_repr = torch.tensor([])\n",
    "        if self.gpu: cnn_repr = cnn_repr.to('cuda')\n",
    "        for cv in self.convs:\n",
    "            cv_output = self.get_conv_output(all_text_vectors, cv, self.gpu)\n",
    "            cnn_repr = torch.cat((cnn_repr, cv_output), dim=1)\n",
    "        # print(cnn_repr.shape)\n",
    "        after_dp = self.dropout(cnn_repr.squeeze())\n",
    "        logit = self.fc(after_dp)\n",
    "        # the CrossEntropyLoss provided by pytorch includes softmax; so you do not need to include a softmax layer in your net\n",
    "        return logit\n",
    "#word_vectors['hello']"
   ]
  },
  {
   "cell_type": "code",
   "execution_count": 7,
   "metadata": {
    "colab": {
     "base_uri": "https://localhost:8080/",
     "height": 34
    },
    "colab_type": "code",
    "id": "j6RX2jNgeMt5",
    "outputId": "29e124b6-28b2-4163-95fa-407f4b1610c7"
   },
   "outputs": [
    {
     "name": "stdout",
     "output_type": "stream",
     "text": [
      "total data size: 11464, label type num: 2\n"
     ]
    }
   ],
   "source": [
    "## Converting the data into lists, splitting between text data and title data\n",
    "\n",
    "raw_labels = df.label.values.tolist()\n",
    "docs = df.sentence_text.values.tolist()\n",
    "titles = df.article_title.values.tolist()\n",
    "\n",
    "label_dic = {'non-propaganda':0, 'propaganda':1}\n",
    "\n",
    "assert len(docs) == len(raw_labels) == len(titles)\n",
    "labels = [label_dic[rl] for rl in raw_labels] # transfer raw labels (strings) to integer numbers\n",
    "print('total data size: {}, label type num: {}'.format(len(docs), len(label_dic)))\n",
    "#docs"
   ]
  },
  {
   "cell_type": "markdown",
   "metadata": {
    "colab_type": "text",
    "id": "WRsSKlYlDH9O"
   },
   "source": [
    "# Cleaning the Data: Why We Don't Remove Stop Words and Why we Don't Lemmatize/Stem\n",
    "\n",
    "For a CNN, relationships among groups of words are important because the kernels (and for each kernel multiple filters) capture relationships amongst groups of words. Thus, it is not a good idea to blindly remove stop words. Removing stopwords could affect these intra-cluster relationships in a negative fashion. Second, stop words (like in the last assignment) standing along may not have much meaning; however, coupled with other words they are much more meaningful and that is why we should generally keep them. (For instance: not bad vs not (where \"not\" is the stop word). \n",
    "\n",
    "\n",
    "Lemmatizing/stemming may not be a good idea either as in doing so, we are reducing the specifity of our sentences, which will ultimately reduce are predictive power. It is no question that tense plays a strong role in affecting with a text is written in the active voice or passive voice, which affects the tone of the text. Tone, here, is very useful in determining whether something is propaganda or not. Religious texts, for example, have a very commanding tone (and many have active voice) as much of these texts are written in the form of rules that one must follow. If we were to lemmatize these texts, then propaganda texts and non-propaganda texts would be harder to distinguish from one another. \n",
    "\n",
    "Therefore, the only thing we do in are data cleaning is to lowercase all the words and remove punctuation.\n",
    "\n"
   ]
  },
  {
   "cell_type": "code",
   "execution_count": 0,
   "metadata": {
    "colab": {},
    "colab_type": "code",
    "id": "tC5GlUVIeMuB"
   },
   "outputs": [],
   "source": [
    "import re\n",
    "import string\n",
    "\n",
    "combined = []\n",
    "for tits, dics in zip(titles, docs):\n",
    "    combined.append(tits + \" \" + dics)\n",
    "#combined2 = [\" \".join(ss) for ss in combined]\n",
    "\n",
    "combined3 = []\n",
    "for sent in combined:\n",
    " combined3.append(\" \".join(re.findall('\\w+', sent.lower())))\n"
   ]
  },
  {
   "cell_type": "markdown",
   "metadata": {
    "colab_type": "text",
    "id": "-tbz9xOcD6uE"
   },
   "source": [
    "## Data Exploration\n",
    "\n",
    "### Further rudimentary data exploration yields the following information:\n",
    "\n",
    "--> 1) The average length of non-progaganda texts are much longer. \n",
    "\n",
    "--> 2) The dataset is highly imbalanced. We will need to take this into account when we split our data later. \n",
    "\n",
    "--> 3) There are many texts that have the same title --> many of these texts are from the same corpus (e.g. from the same news article). We can do two things about this: we can shuffle the data or we can somehow combine all the data with the same title into the same text document, as they all have the same labels."
   ]
  },
  {
   "cell_type": "code",
   "execution_count": 9,
   "metadata": {
    "colab": {
     "base_uri": "https://localhost:8080/",
     "height": 170
    },
    "colab_type": "code",
    "id": "hKZvnlSDFI6l",
    "outputId": "d1e515df-490e-4ed6-871f-e7645653f05c"
   },
   "outputs": [
    {
     "name": "stdout",
     "output_type": "stream",
     "text": [
      "propoganda count: 3237\n",
      "non-progranda count: 8227\n",
      "non-prop/prop ratio: 2.5415508186592524\n",
      " \n",
      "non_prop doc length: 109.41205785827154\n",
      "prop doc length: 152.20142106889094\n",
      " \n",
      "non_prop title length: 60.803212851405625\n",
      "prop title length: 64.2591467120457\n"
     ]
    }
   ],
   "source": [
    "# Comparing the length of the text between class labels for docs\n",
    "array_labels = np.array(labels)\n",
    "array_docs = np.array(docs)\n",
    "array_titles = np.array(titles)\n",
    "prop_indices = np.where(array_labels == 1)\n",
    "non_prop_indices = np.where(array_labels == 0)\n",
    "\n",
    "non_prop_docs = array_docs[non_prop_indices]\n",
    "non_prop_titles = array_titles[non_prop_indices]\n",
    "\n",
    "prop_docs = array_docs[prop_indices]\n",
    "prop_titles = array_titles[prop_indices]\n",
    "\n",
    "# We are dealing with an unbalanced dataset: 3237 vs 8227\n",
    "print('propoganda count:', len(prop_docs))\n",
    "print('non-progranda count:', len(non_prop_docs))\n",
    "\n",
    "print('non-prop/prop ratio:', len(non_prop_docs)/len(prop_docs))\n",
    "\n",
    "# Comparing the length of text between the class labels\n",
    "non_prop_length = np.mean([len(i) for i in non_prop_docs])\n",
    "prop_length = np.mean([len(i) for i in prop_docs])\n",
    "\n",
    "non_prop_title_length = np.mean([len(i) for i in prop_titles])\n",
    "prop_title_length = np.mean([len(i) for i in non_prop_titles])\n",
    "print(\" \")\n",
    "print(\"non_prop doc length:\", non_prop_length)\n",
    "print(\"prop doc length:\", prop_length)\n",
    "print(\" \")\n",
    "print(\"non_prop title length:\", non_prop_title_length)\n",
    "print(\"prop title length:\", prop_title_length)"
   ]
  },
  {
   "cell_type": "markdown",
   "metadata": {
    "colab_type": "text",
    "id": "4Kb5zSDqDvcJ"
   },
   "source": [
    "# How We Split the Data\n",
    "\n",
    "In Building a Neural Net, it is much harder to do hyperparameter such effectively as we do not have the courtesy of cross-validating since the overall process is very computationally slow. One 70/30 split of data already takes quite a while. Thus, performing a random search or grid search would be even less practical as it would take ages for the computation to complete. \n",
    "\n",
    "## Methodology\n",
    "In consideration of time constraints, our approach to this issue is as follows:\n",
    "\n",
    "1) First perform five 70/30 Split of Data: Since we know that the labels in our dataset are imbalanced, we use the stratify option in sklearn's train_test_split function to ensure that our validation and training sets have the same label ratio. That is, if the data yields an approximate 65% non-progranda labels to 35% progranda label  percentage, within both our training and validation sets, we want these same percentages so that both have a 65/35 non-propaganda to propoganda ratio. We do this because we do not want to induce any sampling bias into our hyper-parameter/optimal-model-selection stage. We choose 5 training/validation splits because although slow, there is too much variance at each epoch to have a trustworthy F1 metric. We need to average across splits to obtain something more meaningful.\n",
    "\n",
    "2) Using this same training/validation splits, we randomly choose and and adjust numerous variables: n_epochs, learning_rate, number_of_filters, filter_sizes, batch_size. We observe the effect these variables have on the F1_value (in imbalanced datasets F1 is a better metric than accuracy as your model can obtain good accuracy by simply predicting one label if most of the dataset only contains that label). Specifically, we take into account two things the combination of these variables can have: first, we want to see which model yields that highest F1 Score. Secondly, we want to see which model yields the most stable F1_scores across a long range of epochs. For instance, look at the example model below (say we only run for 5 epochs given time constraints):\n",
    "\n",
    "##### MODEL 1: {epoch 1: 45%, epoch2: 64%, epoch3: 73%, epoch4: 68%, epoch5: 67%}\n",
    "\n",
    "##### MODEL 2 {epoch 1: 45%, epoch2: 71%, epoch3: 70%, epoch4: 71%, epoch5: 70%}\n",
    "\n",
    "Which model is better? Despite the fact that Model 1 yields the higher F1 score, model 2 is better because it yields a more stable, longer range of higher values. This is a better property to have because training validation splits are subject to a lot of variance. Just because we have 73% at epoch 3 at for model 1 does not mean that we can obtain this same score on a different validation set. Therefore model 2 is better, it provides a steadier range of higher values so that we are better guarunteed a good F1_score for difference splits of data. For instance, say we choose to train our model for 4 epochs: we hoping to hit a 71% F1 score. Even if we don't hit this score, we will be in a safe zone where we will likely to end up with 70% (because it range of values of its surrounding epochs are all close to 71). However, in model 1, if choose to train for 3 epochs (tryin to hit 73%), we are in a dangerous spot because if we do not hit 73%, we are likely to hit 64% or 68% (because the range of values of its surrounding epochs are low). "
   ]
  },
  {
   "cell_type": "code",
   "execution_count": 0,
   "metadata": {
    "colab": {},
    "colab_type": "code",
    "id": "zI1JDxYVeMuH"
   },
   "outputs": [],
   "source": [
    "#Splitting the data\n",
    "\n",
    "from sklearn.model_selection import train_test_split\n",
    "x_train1, x_dev1, y_train1, y_dev1 = train_test_split(combined3, labels,  train_size = 0.7, test_size = 0.3, stratify = labels, random_state = 453)\n",
    "\n",
    "x_train2, x_dev2, y_train2, y_dev2 = train_test_split(combined3, labels,  train_size = 0.7, test_size = 0.3, stratify = labels, random_state = 144)\n",
    "\n",
    "x_train3, x_dev3, y_train3, y_dev3 = train_test_split(combined3, labels,  train_size = 0.7, test_size = 0.3, stratify = labels, random_state = 28)\n",
    "\n",
    "x_train4, x_dev4, y_train4, y_dev4 = train_test_split(combined3, labels,  train_size = 0.7, test_size = 0.3, stratify = labels, random_state = 186)\n",
    "\n",
    "x_train5, x_dev5, y_train5, y_dev5 = train_test_split(combined3, labels,  train_size = 0.7, test_size = 0.3, stratify = labels, random_state = 27)\n",
    "\n",
    "\n",
    "# dev_docs = x_dev\n",
    "# train_docs = x_train\n",
    "# train_labels = y_train\n",
    "# dev_labels = y_dev\n",
    "\n",
    "# All splits of data inserted into lists\n",
    "train_docs_list = [x_train1, x_train2, x_train3, x_train4, x_train5]\n",
    "dev_docs_list = [x_dev1, x_dev2, x_dev3, x_dev4, x_dev5]\n",
    "train_labels_list = [y_train1, y_train2, y_train3, y_train4, y_train5]\n",
    "dev_labels_list = [y_dev1, y_dev2, y_dev3, y_dev4, y_dev5]"
   ]
  },
  {
   "cell_type": "markdown",
   "metadata": {
    "colab_type": "text",
    "id": "lKvLMGx3PxhU"
   },
   "source": [
    "# Below we are Training the Model as Described Before\n",
    "\n",
    "We are doing this 5 times, saving the model's ouputs to an array.\n",
    "\n",
    "We obtain five of these arrays and then take an average in order to obtain more stable F1_Scores\n",
    "\n",
    "We randomly adjust the hyperparameters as well as the number of filters and filter sizes to find an optimal model\n"
   ]
  },
  {
   "cell_type": "code",
   "execution_count": 115,
   "metadata": {
    "colab": {
     "base_uri": "https://localhost:8080/",
     "height": 1000
    },
    "colab_type": "code",
    "id": "7McOep81eMua",
    "outputId": "6706fbf4-9bca-48a8-febd-faeeafe6aefc"
   },
   "outputs": [
    {
     "name": "stderr",
     "output_type": "stream",
     "text": [
      "\r",
      "  0%|          | 0/50 [00:00<?, ?it/s]"
     ]
    },
    {
     "name": "stdout",
     "output_type": "stream",
     "text": [
      "\n",
      "======epoch 0 loss====== 0.5603994\n"
     ]
    },
    {
     "name": "stderr",
     "output_type": "stream",
     "text": [
      "\r",
      "  2%|▏         | 1/50 [00:12<10:30, 12.87s/it]"
     ]
    },
    {
     "name": "stdout",
     "output_type": "stream",
     "text": [
      "\n",
      "---> after epoch 0 the macro-F1 on dev set is 0.610439339304598\n",
      "Accuracy is: 0.7575581395348837\n",
      "learning rate 0.0008\n",
      "best model updated; new best macro-F1 0.610439339304598\n",
      "\n",
      "======epoch 1 loss====== 0.48169956\n"
     ]
    },
    {
     "name": "stderr",
     "output_type": "stream",
     "text": [
      "\r",
      "  4%|▍         | 2/50 [00:25<10:19, 12.90s/it]"
     ]
    },
    {
     "name": "stdout",
     "output_type": "stream",
     "text": [
      "\n",
      "---> after epoch 1 the macro-F1 on dev set is 0.6190954944551059\n",
      "Accuracy is: 0.7630813953488372\n",
      "learning rate 0.00076\n",
      "best model updated; new best macro-F1 0.6190954944551059\n",
      "\n",
      "======epoch 2 loss====== 0.42937684\n"
     ]
    },
    {
     "name": "stderr",
     "output_type": "stream",
     "text": [
      "\r",
      "  6%|▌         | 3/50 [00:38<10:05, 12.89s/it]"
     ]
    },
    {
     "name": "stdout",
     "output_type": "stream",
     "text": [
      "\n",
      "---> after epoch 2 the macro-F1 on dev set is 0.6153596496995468\n",
      "Accuracy is: 0.7671511627906977\n",
      "learning rate 0.000722\n",
      "\n",
      "======epoch 3 loss====== 0.37544012\n"
     ]
    },
    {
     "name": "stderr",
     "output_type": "stream",
     "text": [
      "\r",
      "  8%|▊         | 4/50 [00:51<09:51, 12.85s/it]"
     ]
    },
    {
     "name": "stdout",
     "output_type": "stream",
     "text": [
      "\n",
      "---> after epoch 3 the macro-F1 on dev set is 0.610393718578772\n",
      "Accuracy is: 0.766860465116279\n",
      "learning rate 0.0006858999999999999\n",
      "\n",
      "======epoch 4 loss====== 0.31537634\n"
     ]
    },
    {
     "name": "stderr",
     "output_type": "stream",
     "text": [
      "\r",
      " 10%|█         | 5/50 [01:04<09:35, 12.80s/it]"
     ]
    },
    {
     "name": "stdout",
     "output_type": "stream",
     "text": [
      "\n",
      "---> after epoch 4 the macro-F1 on dev set is 0.6108411582242059\n",
      "Accuracy is: 0.7656976744186047\n",
      "learning rate 0.0006516049999999999\n",
      "\n",
      "======epoch 5 loss====== 0.26536232\n"
     ]
    },
    {
     "name": "stderr",
     "output_type": "stream",
     "text": [
      "\r",
      " 12%|█▏        | 6/50 [01:17<09:24, 12.83s/it]"
     ]
    },
    {
     "name": "stdout",
     "output_type": "stream",
     "text": [
      "\n",
      "---> after epoch 5 the macro-F1 on dev set is 0.650075714112646\n",
      "Accuracy is: 0.7747093023255814\n",
      "learning rate 0.0006190247499999999\n",
      "best model updated; new best macro-F1 0.650075714112646\n",
      "\n",
      "======epoch 6 loss====== 0.21419875\n"
     ]
    },
    {
     "name": "stderr",
     "output_type": "stream",
     "text": [
      "\r",
      " 14%|█▍        | 7/50 [01:30<09:13, 12.87s/it]"
     ]
    },
    {
     "name": "stdout",
     "output_type": "stream",
     "text": [
      "\n",
      "---> after epoch 6 the macro-F1 on dev set is 0.6880993906763007\n",
      "Accuracy is: 0.7854651162790698\n",
      "learning rate 0.0005880735124999998\n",
      "best model updated; new best macro-F1 0.6880993906763007\n",
      "\n",
      "======epoch 7 loss====== 0.18524511\n"
     ]
    },
    {
     "name": "stderr",
     "output_type": "stream",
     "text": [
      "\r",
      " 16%|█▌        | 8/50 [01:43<09:02, 12.91s/it]"
     ]
    },
    {
     "name": "stdout",
     "output_type": "stream",
     "text": [
      "\n",
      "---> after epoch 7 the macro-F1 on dev set is 0.7174176874740055\n",
      "Accuracy is: 0.7787790697674418\n",
      "learning rate 0.0005586698368749998\n",
      "best model updated; new best macro-F1 0.7174176874740055\n",
      "\n",
      "======epoch 8 loss====== 0.14122804\n"
     ]
    },
    {
     "name": "stderr",
     "output_type": "stream",
     "text": [
      "\r",
      " 18%|█▊        | 9/50 [01:55<08:48, 12.89s/it]"
     ]
    },
    {
     "name": "stdout",
     "output_type": "stream",
     "text": [
      "\n",
      "---> after epoch 8 the macro-F1 on dev set is 0.7085710472181986\n",
      "Accuracy is: 0.7863372093023255\n",
      "learning rate 0.0005307363450312497\n",
      "\n",
      "======epoch 9 loss====== 0.11183596\n"
     ]
    },
    {
     "name": "stderr",
     "output_type": "stream",
     "text": [
      "\r",
      " 20%|██        | 10/50 [02:09<08:38, 12.97s/it]"
     ]
    },
    {
     "name": "stdout",
     "output_type": "stream",
     "text": [
      "\n",
      "---> after epoch 9 the macro-F1 on dev set is 0.706118188812192\n",
      "Accuracy is: 0.786046511627907\n",
      "learning rate 0.0005041995277796872\n",
      "\n",
      "======epoch 10 loss====== 0.10004658\n"
     ]
    },
    {
     "name": "stderr",
     "output_type": "stream",
     "text": [
      "\r",
      " 22%|██▏       | 11/50 [02:22<08:27, 13.01s/it]"
     ]
    },
    {
     "name": "stdout",
     "output_type": "stream",
     "text": [
      "\n",
      "---> after epoch 10 the macro-F1 on dev set is 0.6844915889853209\n",
      "Accuracy is: 0.7822674418604652\n",
      "learning rate 0.0004789895513907029\n",
      "\n",
      "======epoch 11 loss====== 0.083091\n"
     ]
    },
    {
     "name": "stderr",
     "output_type": "stream",
     "text": [
      "\r",
      " 24%|██▍       | 12/50 [02:34<08:12, 12.97s/it]"
     ]
    },
    {
     "name": "stdout",
     "output_type": "stream",
     "text": [
      "\n",
      "---> after epoch 11 the macro-F1 on dev set is 0.6851593073339459\n",
      "Accuracy is: 0.7811046511627907\n",
      "learning rate 0.0004550400738211677\n",
      "\n",
      "======epoch 12 loss====== 0.07606689\n"
     ]
    },
    {
     "name": "stderr",
     "output_type": "stream",
     "text": [
      "\r",
      " 26%|██▌       | 13/50 [02:47<07:54, 12.83s/it]"
     ]
    },
    {
     "name": "stdout",
     "output_type": "stream",
     "text": [
      "\n",
      "---> after epoch 12 the macro-F1 on dev set is 0.6831504787572843\n",
      "Accuracy is: 0.7805232558139535\n",
      "learning rate 0.0004322880701301093\n",
      "\n",
      "======epoch 13 loss====== 0.06734712\n"
     ]
    },
    {
     "name": "stderr",
     "output_type": "stream",
     "text": [
      "\r",
      " 28%|██▊       | 14/50 [03:00<07:39, 12.75s/it]"
     ]
    },
    {
     "name": "stdout",
     "output_type": "stream",
     "text": [
      "\n",
      "---> after epoch 13 the macro-F1 on dev set is 0.7051911465805835\n",
      "Accuracy is: 0.7866279069767442\n",
      "learning rate 0.00041067366662360383\n",
      "\n",
      "======epoch 14 loss====== 0.06255521\n"
     ]
    },
    {
     "name": "stderr",
     "output_type": "stream",
     "text": [
      "\r",
      " 30%|███       | 15/50 [03:12<07:23, 12.67s/it]"
     ]
    },
    {
     "name": "stdout",
     "output_type": "stream",
     "text": [
      "\n",
      "---> after epoch 14 the macro-F1 on dev set is 0.6913357238758147\n",
      "Accuracy is: 0.7790697674418605\n",
      "learning rate 0.0003901399832924236\n",
      "\n",
      "======epoch 15 loss====== 0.054730467\n"
     ]
    },
    {
     "name": "stderr",
     "output_type": "stream",
     "text": [
      "\r",
      " 32%|███▏      | 16/50 [03:25<07:13, 12.76s/it]"
     ]
    },
    {
     "name": "stdout",
     "output_type": "stream",
     "text": [
      "\n",
      "---> after epoch 15 the macro-F1 on dev set is 0.7173701543609425\n",
      "Accuracy is: 0.7816860465116279\n",
      "learning rate 0.00037063298412780244\n",
      "\n",
      "======epoch 16 loss====== 0.045427144\n"
     ]
    },
    {
     "name": "stderr",
     "output_type": "stream",
     "text": [
      "\r",
      " 34%|███▍      | 17/50 [03:38<07:00, 12.76s/it]"
     ]
    },
    {
     "name": "stdout",
     "output_type": "stream",
     "text": [
      "\n",
      "---> after epoch 16 the macro-F1 on dev set is 0.7102072355234339\n",
      "Accuracy is: 0.7808139534883721\n",
      "learning rate 0.0003521013349214123\n",
      "\n",
      "======epoch 17 loss====== 0.042747136\n"
     ]
    },
    {
     "name": "stderr",
     "output_type": "stream",
     "text": [
      "\r",
      " 36%|███▌      | 18/50 [03:51<06:50, 12.82s/it]"
     ]
    },
    {
     "name": "stdout",
     "output_type": "stream",
     "text": [
      "\n",
      "---> after epoch 17 the macro-F1 on dev set is 0.6730270525428047\n",
      "Accuracy is: 0.7761627906976745\n",
      "learning rate 0.0003344962681753417\n",
      "\n",
      "======epoch 18 loss====== 0.040363573\n"
     ]
    },
    {
     "name": "stderr",
     "output_type": "stream",
     "text": [
      "\r",
      " 38%|███▊      | 19/50 [04:03<06:36, 12.79s/it]"
     ]
    },
    {
     "name": "stdout",
     "output_type": "stream",
     "text": [
      "\n",
      "---> after epoch 18 the macro-F1 on dev set is 0.6592320261437908\n",
      "Accuracy is: 0.7744186046511627\n",
      "learning rate 0.00031777145476657455\n",
      "\n",
      "======epoch 19 loss====== 0.034590986\n"
     ]
    },
    {
     "name": "stderr",
     "output_type": "stream",
     "text": [
      "\r",
      " 40%|████      | 20/50 [04:16<06:23, 12.78s/it]"
     ]
    },
    {
     "name": "stdout",
     "output_type": "stream",
     "text": [
      "\n",
      "---> after epoch 19 the macro-F1 on dev set is 0.6606934782054005\n",
      "Accuracy is: 0.7741279069767442\n",
      "learning rate 0.0003018828820282458\n",
      "\n",
      "======epoch 20 loss====== 0.03417227\n"
     ]
    },
    {
     "name": "stderr",
     "output_type": "stream",
     "text": [
      "\r",
      " 42%|████▏     | 21/50 [04:29<06:10, 12.77s/it]"
     ]
    },
    {
     "name": "stdout",
     "output_type": "stream",
     "text": [
      "\n",
      "---> after epoch 20 the macro-F1 on dev set is 0.6350333986878177\n",
      "Accuracy is: 0.7674418604651163\n",
      "learning rate 0.0002867887379268335\n",
      "\n",
      "======epoch 21 loss====== 0.033651177\n"
     ]
    },
    {
     "name": "stderr",
     "output_type": "stream",
     "text": [
      "\r",
      " 44%|████▍     | 22/50 [04:42<05:57, 12.75s/it]"
     ]
    },
    {
     "name": "stdout",
     "output_type": "stream",
     "text": [
      "\n",
      "---> after epoch 21 the macro-F1 on dev set is 0.6302887272437455\n",
      "Accuracy is: 0.7671511627906977\n",
      "learning rate 0.00027244930103049184\n",
      "\n",
      "======epoch 22 loss====== 0.026925176\n"
     ]
    },
    {
     "name": "stderr",
     "output_type": "stream",
     "text": [
      "\r",
      " 46%|████▌     | 23/50 [04:54<05:44, 12.77s/it]"
     ]
    },
    {
     "name": "stdout",
     "output_type": "stream",
     "text": [
      "\n",
      "---> after epoch 22 the macro-F1 on dev set is 0.659925927284809\n",
      "Accuracy is: 0.7744186046511627\n",
      "learning rate 0.00025882683597896724\n",
      "\n",
      "======epoch 23 loss====== 0.027967447\n"
     ]
    },
    {
     "name": "stderr",
     "output_type": "stream",
     "text": [
      "\r",
      " 48%|████▊     | 24/50 [05:07<05:31, 12.76s/it]"
     ]
    },
    {
     "name": "stdout",
     "output_type": "stream",
     "text": [
      "\n",
      "---> after epoch 23 the macro-F1 on dev set is 0.638940797113055\n",
      "Accuracy is: 0.7700581395348837\n",
      "learning rate 0.00024588549418001884\n",
      "\n",
      "======epoch 24 loss====== 0.028990213\n"
     ]
    },
    {
     "name": "stderr",
     "output_type": "stream",
     "text": [
      "\r",
      " 50%|█████     | 25/50 [05:20<05:19, 12.78s/it]"
     ]
    },
    {
     "name": "stdout",
     "output_type": "stream",
     "text": [
      "\n",
      "---> after epoch 24 the macro-F1 on dev set is 0.6754523457935595\n",
      "Accuracy is: 0.7787790697674418\n",
      "learning rate 0.0002335912194710179\n",
      "\n",
      "======epoch 25 loss====== 0.024782075\n"
     ]
    },
    {
     "name": "stderr",
     "output_type": "stream",
     "text": [
      "\r",
      " 52%|█████▏    | 26/50 [05:33<05:06, 12.76s/it]"
     ]
    },
    {
     "name": "stdout",
     "output_type": "stream",
     "text": [
      "\n",
      "---> after epoch 25 the macro-F1 on dev set is 0.6807754462976991\n",
      "Accuracy is: 0.7770348837209302\n",
      "learning rate 0.000221911658497467\n",
      "\n",
      "======epoch 26 loss====== 0.022183694\n"
     ]
    },
    {
     "name": "stderr",
     "output_type": "stream",
     "text": [
      "\r",
      " 54%|█████▍    | 27/50 [05:46<04:53, 12.76s/it]"
     ]
    },
    {
     "name": "stdout",
     "output_type": "stream",
     "text": [
      "\n",
      "---> after epoch 26 the macro-F1 on dev set is 0.6856078203070024\n",
      "Accuracy is: 0.7831395348837209\n",
      "learning rate 0.00021081607557259363\n",
      "\n",
      "======epoch 27 loss====== 0.02405675\n"
     ]
    },
    {
     "name": "stderr",
     "output_type": "stream",
     "text": [
      "\r",
      " 56%|█████▌    | 28/50 [05:58<04:40, 12.76s/it]"
     ]
    },
    {
     "name": "stdout",
     "output_type": "stream",
     "text": [
      "\n",
      "---> after epoch 27 the macro-F1 on dev set is 0.7013002324737805\n",
      "Accuracy is: 0.7822674418604652\n",
      "learning rate 0.00020027527179396394\n",
      "\n",
      "======epoch 28 loss====== 0.021666646\n"
     ]
    },
    {
     "name": "stderr",
     "output_type": "stream",
     "text": [
      "\r",
      " 58%|█████▊    | 29/50 [06:11<04:28, 12.79s/it]"
     ]
    },
    {
     "name": "stdout",
     "output_type": "stream",
     "text": [
      "\n",
      "---> after epoch 28 the macro-F1 on dev set is 0.6865078246777369\n",
      "Accuracy is: 0.7828488372093023\n",
      "learning rate 0.00019026150820426573\n",
      "\n",
      "======epoch 29 loss====== 0.021419898\n"
     ]
    },
    {
     "name": "stderr",
     "output_type": "stream",
     "text": [
      "\r",
      " 60%|██████    | 30/50 [06:24<04:16, 12.81s/it]"
     ]
    },
    {
     "name": "stdout",
     "output_type": "stream",
     "text": [
      "\n",
      "---> after epoch 29 the macro-F1 on dev set is 0.6877836267925214\n",
      "Accuracy is: 0.7796511627906977\n",
      "learning rate 0.00018074843279405244\n",
      "\n",
      "======epoch 30 loss====== 0.02008389\n"
     ]
    },
    {
     "name": "stderr",
     "output_type": "stream",
     "text": [
      "\r",
      " 62%|██████▏   | 31/50 [06:37<04:02, 12.76s/it]"
     ]
    },
    {
     "name": "stdout",
     "output_type": "stream",
     "text": [
      "\n",
      "---> after epoch 30 the macro-F1 on dev set is 0.6972257428531192\n",
      "Accuracy is: 0.7819767441860465\n",
      "learning rate 0.0001717110111543498\n",
      "\n",
      "======epoch 31 loss====== 0.018933084\n"
     ]
    },
    {
     "name": "stderr",
     "output_type": "stream",
     "text": [
      "\r",
      " 64%|██████▍   | 32/50 [06:49<03:49, 12.74s/it]"
     ]
    },
    {
     "name": "stdout",
     "output_type": "stream",
     "text": [
      "\n",
      "---> after epoch 31 the macro-F1 on dev set is 0.6919011097617283\n",
      "Accuracy is: 0.7828488372093023\n",
      "learning rate 0.0001631254605966323\n",
      "\n",
      "======epoch 32 loss====== 0.017563842\n"
     ]
    },
    {
     "name": "stderr",
     "output_type": "stream",
     "text": [
      "\r",
      " 66%|██████▌   | 33/50 [07:02<03:36, 12.72s/it]"
     ]
    },
    {
     "name": "stdout",
     "output_type": "stream",
     "text": [
      "\n",
      "---> after epoch 32 the macro-F1 on dev set is 0.6943199242228015\n",
      "Accuracy is: 0.7813953488372093\n",
      "learning rate 0.0001549691875668007\n",
      "\n",
      "======epoch 33 loss====== 0.018823123\n"
     ]
    },
    {
     "name": "stderr",
     "output_type": "stream",
     "text": [
      "\r",
      " 68%|██████▊   | 34/50 [07:15<03:24, 12.76s/it]"
     ]
    },
    {
     "name": "stdout",
     "output_type": "stream",
     "text": [
      "\n",
      "---> after epoch 33 the macro-F1 on dev set is 0.692714708185405\n",
      "Accuracy is: 0.7813953488372093\n",
      "learning rate 0.00014722072818846064\n",
      "\n",
      "======epoch 34 loss====== 0.015306258\n"
     ]
    },
    {
     "name": "stderr",
     "output_type": "stream",
     "text": [
      "\r",
      " 70%|███████   | 35/50 [07:28<03:11, 12.78s/it]"
     ]
    },
    {
     "name": "stdout",
     "output_type": "stream",
     "text": [
      "\n",
      "---> after epoch 34 the macro-F1 on dev set is 0.6844201251773281\n",
      "Accuracy is: 0.7831395348837209\n",
      "learning rate 0.0001398596917790376\n",
      "\n",
      "======epoch 35 loss====== 0.017863099\n"
     ]
    },
    {
     "name": "stderr",
     "output_type": "stream",
     "text": [
      "\r",
      " 72%|███████▏  | 36/50 [07:40<02:58, 12.78s/it]"
     ]
    },
    {
     "name": "stdout",
     "output_type": "stream",
     "text": [
      "\n",
      "---> after epoch 35 the macro-F1 on dev set is 0.6874346286435098\n",
      "Accuracy is: 0.7816860465116279\n",
      "learning rate 0.00013286670719008572\n",
      "\n",
      "======epoch 36 loss====== 0.016092312\n"
     ]
    },
    {
     "name": "stderr",
     "output_type": "stream",
     "text": [
      "\r",
      " 74%|███████▍  | 37/50 [07:53<02:45, 12.76s/it]"
     ]
    },
    {
     "name": "stdout",
     "output_type": "stream",
     "text": [
      "\n",
      "---> after epoch 36 the macro-F1 on dev set is 0.6847871019818741\n",
      "Accuracy is: 0.7822674418604652\n",
      "learning rate 0.00012622337183058142\n",
      "\n",
      "======epoch 37 loss====== 0.013599748\n"
     ]
    },
    {
     "name": "stderr",
     "output_type": "stream",
     "text": [
      "\r",
      " 76%|███████▌  | 38/50 [08:06<02:33, 12.78s/it]"
     ]
    },
    {
     "name": "stdout",
     "output_type": "stream",
     "text": [
      "\n",
      "---> after epoch 37 the macro-F1 on dev set is 0.6728934943806308\n",
      "Accuracy is: 0.7770348837209302\n",
      "learning rate 0.00011991220323905235\n",
      "\n",
      "======epoch 38 loss====== 0.014231682\n"
     ]
    },
    {
     "name": "stderr",
     "output_type": "stream",
     "text": [
      "\r",
      " 78%|███████▊  | 39/50 [08:19<02:21, 12.82s/it]"
     ]
    },
    {
     "name": "stdout",
     "output_type": "stream",
     "text": [
      "\n",
      "---> after epoch 38 the macro-F1 on dev set is 0.6797873754152824\n",
      "Accuracy is: 0.7811046511627907\n",
      "learning rate 0.00011391659307709973\n",
      "\n",
      "======epoch 39 loss====== 0.015035208\n"
     ]
    },
    {
     "name": "stderr",
     "output_type": "stream",
     "text": [
      "\r",
      " 80%|████████  | 40/50 [08:32<02:08, 12.80s/it]"
     ]
    },
    {
     "name": "stdout",
     "output_type": "stream",
     "text": [
      "\n",
      "---> after epoch 39 the macro-F1 on dev set is 0.6647929012101317\n",
      "Accuracy is: 0.7767441860465116\n",
      "learning rate 0.00010822076342324474\n",
      "\n",
      "======epoch 40 loss====== 0.013504242\n"
     ]
    },
    {
     "name": "stderr",
     "output_type": "stream",
     "text": [
      "\r",
      " 82%|████████▏ | 41/50 [08:45<01:55, 12.81s/it]"
     ]
    },
    {
     "name": "stdout",
     "output_type": "stream",
     "text": [
      "\n",
      "---> after epoch 40 the macro-F1 on dev set is 0.6940617709965717\n",
      "Accuracy is: 0.7816860465116279\n",
      "learning rate 0.0001028097252520825\n",
      "\n",
      "======epoch 41 loss====== 0.012246937\n"
     ]
    },
    {
     "name": "stderr",
     "output_type": "stream",
     "text": [
      "\r",
      " 84%|████████▍ | 42/50 [08:57<01:42, 12.86s/it]"
     ]
    },
    {
     "name": "stdout",
     "output_type": "stream",
     "text": [
      "\n",
      "---> after epoch 41 the macro-F1 on dev set is 0.6720637611040123\n",
      "Accuracy is: 0.7781976744186047\n",
      "learning rate 9.766923898947837e-05\n",
      "\n",
      "======epoch 42 loss====== 0.01197489\n"
     ]
    },
    {
     "name": "stderr",
     "output_type": "stream",
     "text": [
      "\r",
      " 86%|████████▌ | 43/50 [09:10<01:29, 12.85s/it]"
     ]
    },
    {
     "name": "stdout",
     "output_type": "stream",
     "text": [
      "\n",
      "---> after epoch 42 the macro-F1 on dev set is 0.6919011097617283\n",
      "Accuracy is: 0.7828488372093023\n",
      "learning rate 9.278577704000444e-05\n",
      "\n",
      "======epoch 43 loss====== 0.011138561\n"
     ]
    },
    {
     "name": "stderr",
     "output_type": "stream",
     "text": [
      "\r",
      " 88%|████████▊ | 44/50 [09:23<01:17, 12.85s/it]"
     ]
    },
    {
     "name": "stdout",
     "output_type": "stream",
     "text": [
      "\n",
      "---> after epoch 43 the macro-F1 on dev set is 0.6633330911849933\n",
      "Accuracy is: 0.7744186046511627\n",
      "learning rate 8.814648818800422e-05\n",
      "\n",
      "======epoch 44 loss====== 0.012947305\n"
     ]
    },
    {
     "name": "stderr",
     "output_type": "stream",
     "text": [
      "\r",
      " 90%|█████████ | 45/50 [09:36<01:03, 12.75s/it]"
     ]
    },
    {
     "name": "stdout",
     "output_type": "stream",
     "text": [
      "\n",
      "---> after epoch 44 the macro-F1 on dev set is 0.6726245353159852\n",
      "Accuracy is: 0.7767441860465116\n",
      "learning rate 8.3739163778604e-05\n",
      "\n",
      "======epoch 45 loss====== 0.013162163\n"
     ]
    },
    {
     "name": "stderr",
     "output_type": "stream",
     "text": [
      "\r",
      " 92%|█████████▏| 46/50 [09:48<00:50, 12.75s/it]"
     ]
    },
    {
     "name": "stdout",
     "output_type": "stream",
     "text": [
      "\n",
      "---> after epoch 45 the macro-F1 on dev set is 0.6587846935949552\n",
      "Accuracy is: 0.773546511627907\n",
      "learning rate 7.95522055896738e-05\n",
      "\n",
      "======epoch 46 loss====== 0.0118318405\n"
     ]
    },
    {
     "name": "stderr",
     "output_type": "stream",
     "text": [
      "\r",
      " 94%|█████████▍| 47/50 [10:01<00:38, 12.78s/it]"
     ]
    },
    {
     "name": "stdout",
     "output_type": "stream",
     "text": [
      "\n",
      "---> after epoch 46 the macro-F1 on dev set is 0.6717719950433705\n",
      "Accuracy is: 0.7761627906976745\n",
      "learning rate 7.55745953101901e-05\n",
      "\n",
      "======epoch 47 loss====== 0.011389666\n"
     ]
    },
    {
     "name": "stderr",
     "output_type": "stream",
     "text": [
      "\r",
      " 96%|█████████▌| 48/50 [10:14<00:25, 12.78s/it]"
     ]
    },
    {
     "name": "stdout",
     "output_type": "stream",
     "text": [
      "\n",
      "---> after epoch 47 the macro-F1 on dev set is 0.6739986167090581\n",
      "Accuracy is: 0.7758720930232558\n",
      "learning rate 7.179586554468059e-05\n",
      "\n",
      "======epoch 48 loss====== 0.012016781\n",
      "\n",
      "---> after epoch 48 the macro-F1 on dev set is 0.6709874852092884\n",
      "Accuracy is: 0.7770348837209302\n",
      "learning rate 6.820607226744656e-05\n",
      "\n",
      "======epoch 49 loss====== 0.012336172\n"
     ]
    },
    {
     "name": "stderr",
     "output_type": "stream",
     "text": [
      "100%|██████████| 50/50 [10:40<00:00, 12.79s/it]\n",
      "  0%|          | 0/50 [00:00<?, ?it/s]"
     ]
    },
    {
     "name": "stdout",
     "output_type": "stream",
     "text": [
      "\n",
      "---> after epoch 49 the macro-F1 on dev set is 0.6732958211885696\n",
      "Accuracy is: 0.776453488372093\n",
      "learning rate 6.479576865407423e-05\n",
      "\n",
      "======epoch 0 loss====== 0.55602384\n"
     ]
    },
    {
     "name": "stderr",
     "output_type": "stream",
     "text": [
      "\r",
      "  2%|▏         | 1/50 [00:12<10:28, 12.83s/it]"
     ]
    },
    {
     "name": "stdout",
     "output_type": "stream",
     "text": [
      "\n",
      "---> after epoch 0 the macro-F1 on dev set is 0.681936207661396\n",
      "Accuracy is: 0.7584302325581396\n",
      "learning rate 0.0008\n",
      "\n",
      "======epoch 1 loss====== 0.47444305\n"
     ]
    },
    {
     "name": "stderr",
     "output_type": "stream",
     "text": [
      "\r",
      "  4%|▍         | 2/50 [00:25<10:15, 12.83s/it]"
     ]
    },
    {
     "name": "stdout",
     "output_type": "stream",
     "text": [
      "\n",
      "---> after epoch 1 the macro-F1 on dev set is 0.6988214199256773\n",
      "Accuracy is: 0.7674418604651163\n",
      "learning rate 0.00076\n",
      "\n",
      "======epoch 2 loss====== 0.4169758\n"
     ]
    },
    {
     "name": "stderr",
     "output_type": "stream",
     "text": [
      "\r",
      "  6%|▌         | 3/50 [00:38<10:04, 12.86s/it]"
     ]
    },
    {
     "name": "stdout",
     "output_type": "stream",
     "text": [
      "\n",
      "---> after epoch 2 the macro-F1 on dev set is 0.7088024912880591\n",
      "Accuracy is: 0.7697674418604651\n",
      "learning rate 0.000722\n",
      "\n",
      "======epoch 3 loss====== 0.35978162\n"
     ]
    },
    {
     "name": "stderr",
     "output_type": "stream",
     "text": [
      "\r",
      "  8%|▊         | 4/50 [00:51<09:52, 12.87s/it]"
     ]
    },
    {
     "name": "stdout",
     "output_type": "stream",
     "text": [
      "\n",
      "---> after epoch 3 the macro-F1 on dev set is 0.7168092155524299\n",
      "Accuracy is: 0.7758720930232558\n",
      "learning rate 0.0006858999999999999\n",
      "\n",
      "======epoch 4 loss====== 0.30148318\n"
     ]
    },
    {
     "name": "stderr",
     "output_type": "stream",
     "text": [
      "\r",
      " 10%|█         | 5/50 [01:04<09:38, 12.86s/it]"
     ]
    },
    {
     "name": "stdout",
     "output_type": "stream",
     "text": [
      "\n",
      "---> after epoch 4 the macro-F1 on dev set is 0.7006410076867211\n",
      "Accuracy is: 0.7805232558139535\n",
      "learning rate 0.0006516049999999999\n",
      "\n",
      "======epoch 5 loss====== 0.24194668\n"
     ]
    },
    {
     "name": "stderr",
     "output_type": "stream",
     "text": [
      "\r",
      " 12%|█▏        | 6/50 [01:17<09:25, 12.86s/it]"
     ]
    },
    {
     "name": "stdout",
     "output_type": "stream",
     "text": [
      "\n",
      "---> after epoch 5 the macro-F1 on dev set is 0.698784609882838\n",
      "Accuracy is: 0.7822674418604652\n",
      "learning rate 0.0006190247499999999\n",
      "\n",
      "======epoch 6 loss====== 0.20241949\n"
     ]
    },
    {
     "name": "stderr",
     "output_type": "stream",
     "text": [
      "\r",
      " 14%|█▍        | 7/50 [01:30<09:13, 12.88s/it]"
     ]
    },
    {
     "name": "stdout",
     "output_type": "stream",
     "text": [
      "\n",
      "---> after epoch 6 the macro-F1 on dev set is 0.6583315954118875\n",
      "Accuracy is: 0.7784883720930232\n",
      "learning rate 0.0005880735124999998\n",
      "\n",
      "======epoch 7 loss====== 0.18659048\n"
     ]
    },
    {
     "name": "stderr",
     "output_type": "stream",
     "text": [
      "\r",
      " 16%|█▌        | 8/50 [01:43<09:03, 12.93s/it]"
     ]
    },
    {
     "name": "stdout",
     "output_type": "stream",
     "text": [
      "\n",
      "---> after epoch 7 the macro-F1 on dev set is 0.6894457905647675\n",
      "Accuracy is: 0.7787790697674418\n",
      "learning rate 0.0005586698368749998\n",
      "\n",
      "======epoch 8 loss====== 0.14571887\n"
     ]
    },
    {
     "name": "stderr",
     "output_type": "stream",
     "text": [
      "\r",
      " 18%|█▊        | 9/50 [01:56<08:49, 12.91s/it]"
     ]
    },
    {
     "name": "stdout",
     "output_type": "stream",
     "text": [
      "\n",
      "---> after epoch 8 the macro-F1 on dev set is 0.7030952380952381\n",
      "Accuracy is: 0.7808139534883721\n",
      "learning rate 0.0005307363450312497\n",
      "\n",
      "======epoch 9 loss====== 0.12361549\n"
     ]
    },
    {
     "name": "stderr",
     "output_type": "stream",
     "text": [
      "\r",
      " 20%|██        | 10/50 [02:09<08:38, 12.96s/it]"
     ]
    },
    {
     "name": "stdout",
     "output_type": "stream",
     "text": [
      "\n",
      "---> after epoch 9 the macro-F1 on dev set is 0.6896944329035559\n",
      "Accuracy is: 0.7816860465116279\n",
      "learning rate 0.0005041995277796872\n",
      "\n",
      "======epoch 10 loss====== 0.111949734\n"
     ]
    },
    {
     "name": "stderr",
     "output_type": "stream",
     "text": [
      "\r",
      " 22%|██▏       | 11/50 [02:22<08:26, 12.98s/it]"
     ]
    },
    {
     "name": "stdout",
     "output_type": "stream",
     "text": [
      "\n",
      "---> after epoch 10 the macro-F1 on dev set is 0.700852118841923\n",
      "Accuracy is: 0.7828488372093023\n",
      "learning rate 0.0004789895513907029\n",
      "\n",
      "======epoch 11 loss====== 0.09729697\n"
     ]
    },
    {
     "name": "stderr",
     "output_type": "stream",
     "text": [
      "\r",
      " 24%|██▍       | 12/50 [02:35<08:13, 12.99s/it]"
     ]
    },
    {
     "name": "stdout",
     "output_type": "stream",
     "text": [
      "\n",
      "---> after epoch 11 the macro-F1 on dev set is 0.7121022999446727\n",
      "Accuracy is: 0.7758720930232558\n",
      "learning rate 0.0004550400738211677\n",
      "\n",
      "======epoch 12 loss====== 0.07475142\n"
     ]
    },
    {
     "name": "stderr",
     "output_type": "stream",
     "text": [
      "\r",
      " 26%|██▌       | 13/50 [02:48<08:00, 13.00s/it]"
     ]
    },
    {
     "name": "stdout",
     "output_type": "stream",
     "text": [
      "\n",
      "---> after epoch 12 the macro-F1 on dev set is 0.7143548334368564\n",
      "Accuracy is: 0.7784883720930232\n",
      "learning rate 0.0004322880701301093\n",
      "\n",
      "======epoch 13 loss====== 0.06242187\n"
     ]
    },
    {
     "name": "stderr",
     "output_type": "stream",
     "text": [
      "\r",
      " 28%|██▊       | 14/50 [03:01<07:47, 12.99s/it]"
     ]
    },
    {
     "name": "stdout",
     "output_type": "stream",
     "text": [
      "\n",
      "---> after epoch 13 the macro-F1 on dev set is 0.7126257419999559\n",
      "Accuracy is: 0.7843023255813953\n",
      "learning rate 0.00041067366662360383\n",
      "\n",
      "======epoch 14 loss====== 0.056567684\n"
     ]
    },
    {
     "name": "stderr",
     "output_type": "stream",
     "text": [
      "\r",
      " 30%|███       | 15/50 [03:14<07:34, 12.99s/it]"
     ]
    },
    {
     "name": "stdout",
     "output_type": "stream",
     "text": [
      "\n",
      "---> after epoch 14 the macro-F1 on dev set is 0.7099598057705601\n",
      "Accuracy is: 0.7845930232558139\n",
      "learning rate 0.0003901399832924236\n",
      "\n",
      "======epoch 15 loss====== 0.049074423\n"
     ]
    },
    {
     "name": "stderr",
     "output_type": "stream",
     "text": [
      "\r",
      " 32%|███▏      | 16/50 [03:27<07:24, 13.08s/it]"
     ]
    },
    {
     "name": "stdout",
     "output_type": "stream",
     "text": [
      "\n",
      "---> after epoch 15 the macro-F1 on dev set is 0.6943682827800335\n",
      "Accuracy is: 0.7837209302325582\n",
      "learning rate 0.00037063298412780244\n",
      "\n",
      "======epoch 16 loss====== 0.041946717\n"
     ]
    },
    {
     "name": "stderr",
     "output_type": "stream",
     "text": [
      "\r",
      " 34%|███▍      | 17/50 [03:40<07:11, 13.08s/it]"
     ]
    },
    {
     "name": "stdout",
     "output_type": "stream",
     "text": [
      "\n",
      "---> after epoch 16 the macro-F1 on dev set is 0.700769956840372\n",
      "Accuracy is: 0.7851744186046512\n",
      "learning rate 0.0003521013349214123\n",
      "\n",
      "======epoch 17 loss====== 0.037685424\n"
     ]
    },
    {
     "name": "stderr",
     "output_type": "stream",
     "text": [
      "\r",
      " 36%|███▌      | 18/50 [03:53<06:58, 13.07s/it]"
     ]
    },
    {
     "name": "stdout",
     "output_type": "stream",
     "text": [
      "\n",
      "---> after epoch 17 the macro-F1 on dev set is 0.709561590942135\n",
      "Accuracy is: 0.7866279069767442\n",
      "learning rate 0.0003344962681753417\n",
      "\n",
      "======epoch 18 loss====== 0.033959895\n"
     ]
    },
    {
     "name": "stderr",
     "output_type": "stream",
     "text": [
      "\r",
      " 38%|███▊      | 19/50 [04:06<06:45, 13.07s/it]"
     ]
    },
    {
     "name": "stdout",
     "output_type": "stream",
     "text": [
      "\n",
      "---> after epoch 18 the macro-F1 on dev set is 0.7157860892372485\n",
      "Accuracy is: 0.7828488372093023\n",
      "learning rate 0.00031777145476657455\n",
      "\n",
      "======epoch 19 loss====== 0.035408463\n"
     ]
    },
    {
     "name": "stderr",
     "output_type": "stream",
     "text": [
      "\r",
      " 40%|████      | 20/50 [04:19<06:31, 13.04s/it]"
     ]
    },
    {
     "name": "stdout",
     "output_type": "stream",
     "text": [
      "\n",
      "---> after epoch 19 the macro-F1 on dev set is 0.7090344064934699\n",
      "Accuracy is: 0.7880813953488373\n",
      "learning rate 0.0003018828820282458\n",
      "\n",
      "======epoch 20 loss====== 0.0302366\n"
     ]
    },
    {
     "name": "stderr",
     "output_type": "stream",
     "text": [
      "\r",
      " 42%|████▏     | 21/50 [04:32<06:14, 12.93s/it]"
     ]
    },
    {
     "name": "stdout",
     "output_type": "stream",
     "text": [
      "\n",
      "---> after epoch 20 the macro-F1 on dev set is 0.7176450811803223\n",
      "Accuracy is: 0.7819767441860465\n",
      "learning rate 0.0002867887379268335\n",
      "best model updated; new best macro-F1 0.7176450811803223\n",
      "\n",
      "======epoch 21 loss====== 0.026517713\n"
     ]
    },
    {
     "name": "stderr",
     "output_type": "stream",
     "text": [
      "\r",
      " 44%|████▍     | 22/50 [04:45<06:02, 12.93s/it]"
     ]
    },
    {
     "name": "stdout",
     "output_type": "stream",
     "text": [
      "\n",
      "---> after epoch 21 the macro-F1 on dev set is 0.7122321975395054\n",
      "Accuracy is: 0.7845930232558139\n",
      "learning rate 0.00027244930103049184\n",
      "\n",
      "======epoch 22 loss====== 0.026952699\n"
     ]
    },
    {
     "name": "stderr",
     "output_type": "stream",
     "text": [
      "\r",
      " 46%|████▌     | 23/50 [04:57<05:47, 12.88s/it]"
     ]
    },
    {
     "name": "stdout",
     "output_type": "stream",
     "text": [
      "\n",
      "---> after epoch 22 the macro-F1 on dev set is 0.7127138962355841\n",
      "Accuracy is: 0.7784883720930232\n",
      "learning rate 0.00025882683597896724\n",
      "\n",
      "======epoch 23 loss====== 0.027451396\n"
     ]
    },
    {
     "name": "stderr",
     "output_type": "stream",
     "text": [
      "\r",
      " 48%|████▊     | 24/50 [05:10<05:34, 12.86s/it]"
     ]
    },
    {
     "name": "stdout",
     "output_type": "stream",
     "text": [
      "\n",
      "---> after epoch 23 the macro-F1 on dev set is 0.7097741446340824\n",
      "Accuracy is: 0.7848837209302325\n",
      "learning rate 0.00024588549418001884\n",
      "\n",
      "======epoch 24 loss====== 0.027755857\n"
     ]
    },
    {
     "name": "stderr",
     "output_type": "stream",
     "text": [
      "\r",
      " 50%|█████     | 25/50 [05:23<05:20, 12.81s/it]"
     ]
    },
    {
     "name": "stdout",
     "output_type": "stream",
     "text": [
      "\n",
      "---> after epoch 24 the macro-F1 on dev set is 0.7041378907391177\n",
      "Accuracy is: 0.786046511627907\n",
      "learning rate 0.0002335912194710179\n",
      "\n",
      "======epoch 25 loss====== 0.026518757\n"
     ]
    },
    {
     "name": "stderr",
     "output_type": "stream",
     "text": [
      "\r",
      " 52%|█████▏    | 26/50 [05:36<05:06, 12.78s/it]"
     ]
    },
    {
     "name": "stdout",
     "output_type": "stream",
     "text": [
      "\n",
      "---> after epoch 25 the macro-F1 on dev set is 0.7022092604507244\n",
      "Accuracy is: 0.7875\n",
      "learning rate 0.000221911658497467\n",
      "\n",
      "======epoch 26 loss====== 0.022489067\n"
     ]
    },
    {
     "name": "stderr",
     "output_type": "stream",
     "text": [
      "\r",
      " 54%|█████▍    | 27/50 [05:48<04:54, 12.78s/it]"
     ]
    },
    {
     "name": "stdout",
     "output_type": "stream",
     "text": [
      "\n",
      "---> after epoch 26 the macro-F1 on dev set is 0.6954735142720136\n",
      "Accuracy is: 0.7851744186046512\n",
      "learning rate 0.00021081607557259363\n",
      "\n",
      "======epoch 27 loss====== 0.022993831\n"
     ]
    },
    {
     "name": "stderr",
     "output_type": "stream",
     "text": [
      "\r",
      " 56%|█████▌    | 28/50 [06:02<04:43, 12.88s/it]"
     ]
    },
    {
     "name": "stdout",
     "output_type": "stream",
     "text": [
      "\n",
      "---> after epoch 27 the macro-F1 on dev set is 0.7093640511713464\n",
      "Accuracy is: 0.7869186046511628\n",
      "learning rate 0.00020027527179396394\n",
      "\n",
      "======epoch 28 loss====== 0.020428395\n"
     ]
    },
    {
     "name": "stderr",
     "output_type": "stream",
     "text": [
      "\r",
      " 58%|█████▊    | 29/50 [06:15<04:31, 12.94s/it]"
     ]
    },
    {
     "name": "stdout",
     "output_type": "stream",
     "text": [
      "\n",
      "---> after epoch 28 the macro-F1 on dev set is 0.7135185174960568\n",
      "Accuracy is: 0.7895348837209303\n",
      "learning rate 0.00019026150820426573\n",
      "\n",
      "======epoch 29 loss====== 0.020055145\n"
     ]
    },
    {
     "name": "stderr",
     "output_type": "stream",
     "text": [
      "\r",
      " 60%|██████    | 30/50 [06:28<04:18, 12.94s/it]"
     ]
    },
    {
     "name": "stdout",
     "output_type": "stream",
     "text": [
      "\n",
      "---> after epoch 29 the macro-F1 on dev set is 0.7071605653038806\n",
      "Accuracy is: 0.7866279069767442\n",
      "learning rate 0.00018074843279405244\n",
      "\n",
      "======epoch 30 loss====== 0.017295346\n"
     ]
    },
    {
     "name": "stderr",
     "output_type": "stream",
     "text": [
      "\r",
      " 62%|██████▏   | 31/50 [06:41<04:06, 12.95s/it]"
     ]
    },
    {
     "name": "stdout",
     "output_type": "stream",
     "text": [
      "\n",
      "---> after epoch 30 the macro-F1 on dev set is 0.7076925042348838\n",
      "Accuracy is: 0.7892441860465116\n",
      "learning rate 0.0001717110111543498\n",
      "\n",
      "======epoch 31 loss====== 0.018272318\n"
     ]
    },
    {
     "name": "stderr",
     "output_type": "stream",
     "text": [
      "\r",
      " 64%|██████▍   | 32/50 [06:54<03:53, 12.95s/it]"
     ]
    },
    {
     "name": "stdout",
     "output_type": "stream",
     "text": [
      "\n",
      "---> after epoch 31 the macro-F1 on dev set is 0.7075047349724021\n",
      "Accuracy is: 0.7875\n",
      "learning rate 0.0001631254605966323\n",
      "\n",
      "======epoch 32 loss====== 0.017699469\n"
     ]
    },
    {
     "name": "stderr",
     "output_type": "stream",
     "text": [
      "\r",
      " 66%|██████▌   | 33/50 [07:07<03:41, 13.02s/it]"
     ]
    },
    {
     "name": "stdout",
     "output_type": "stream",
     "text": [
      "\n",
      "---> after epoch 32 the macro-F1 on dev set is 0.7103528172936167\n",
      "Accuracy is: 0.7828488372093023\n",
      "learning rate 0.0001549691875668007\n",
      "\n",
      "======epoch 33 loss====== 0.0151919145\n"
     ]
    },
    {
     "name": "stderr",
     "output_type": "stream",
     "text": [
      "\r",
      " 68%|██████▊   | 34/50 [07:20<03:28, 13.05s/it]"
     ]
    },
    {
     "name": "stdout",
     "output_type": "stream",
     "text": [
      "\n",
      "---> after epoch 33 the macro-F1 on dev set is 0.7136464223851919\n",
      "Accuracy is: 0.7875\n",
      "learning rate 0.00014722072818846064\n",
      "\n",
      "======epoch 34 loss====== 0.016509147\n"
     ]
    },
    {
     "name": "stderr",
     "output_type": "stream",
     "text": [
      "\r",
      " 70%|███████   | 35/50 [07:33<03:16, 13.07s/it]"
     ]
    },
    {
     "name": "stdout",
     "output_type": "stream",
     "text": [
      "\n",
      "---> after epoch 34 the macro-F1 on dev set is 0.7096723622238312\n",
      "Accuracy is: 0.7857558139534884\n",
      "learning rate 0.0001398596917790376\n",
      "\n",
      "======epoch 35 loss====== 0.016835859\n"
     ]
    },
    {
     "name": "stderr",
     "output_type": "stream",
     "text": [
      "\r",
      " 72%|███████▏  | 36/50 [07:46<03:03, 13.10s/it]"
     ]
    },
    {
     "name": "stdout",
     "output_type": "stream",
     "text": [
      "\n",
      "---> after epoch 35 the macro-F1 on dev set is 0.7165539933022462\n",
      "Accuracy is: 0.7816860465116279\n",
      "learning rate 0.00013286670719008572\n",
      "\n",
      "======epoch 36 loss====== 0.016711058\n"
     ]
    },
    {
     "name": "stderr",
     "output_type": "stream",
     "text": [
      "\r",
      " 74%|███████▍  | 37/50 [07:59<02:50, 13.08s/it]"
     ]
    },
    {
     "name": "stdout",
     "output_type": "stream",
     "text": [
      "\n",
      "---> after epoch 36 the macro-F1 on dev set is 0.7124371339230198\n",
      "Accuracy is: 0.7811046511627907\n",
      "learning rate 0.00012622337183058142\n",
      "\n",
      "======epoch 37 loss====== 0.014837519\n"
     ]
    },
    {
     "name": "stderr",
     "output_type": "stream",
     "text": [
      "\r",
      " 76%|███████▌  | 38/50 [08:12<02:36, 13.07s/it]"
     ]
    },
    {
     "name": "stdout",
     "output_type": "stream",
     "text": [
      "\n",
      "---> after epoch 37 the macro-F1 on dev set is 0.7157043400570122\n",
      "Accuracy is: 0.7834302325581395\n",
      "learning rate 0.00011991220323905235\n",
      "\n",
      "======epoch 38 loss====== 0.014890337\n"
     ]
    },
    {
     "name": "stderr",
     "output_type": "stream",
     "text": [
      "\r",
      " 78%|███████▊  | 39/50 [08:25<02:23, 13.06s/it]"
     ]
    },
    {
     "name": "stdout",
     "output_type": "stream",
     "text": [
      "\n",
      "---> after epoch 38 the macro-F1 on dev set is 0.7166040079767235\n",
      "Accuracy is: 0.7802325581395348\n",
      "learning rate 0.00011391659307709973\n",
      "\n",
      "======epoch 39 loss====== 0.013827856\n"
     ]
    },
    {
     "name": "stderr",
     "output_type": "stream",
     "text": [
      "\r",
      " 80%|████████  | 40/50 [08:38<02:11, 13.12s/it]"
     ]
    },
    {
     "name": "stdout",
     "output_type": "stream",
     "text": [
      "\n",
      "---> after epoch 39 the macro-F1 on dev set is 0.7132342389737862\n",
      "Accuracy is: 0.7840116279069768\n",
      "learning rate 0.00010822076342324474\n",
      "\n",
      "======epoch 40 loss====== 0.013115621\n"
     ]
    },
    {
     "name": "stderr",
     "output_type": "stream",
     "text": [
      "\r",
      " 82%|████████▏ | 41/50 [08:52<01:58, 13.16s/it]"
     ]
    },
    {
     "name": "stdout",
     "output_type": "stream",
     "text": [
      "\n",
      "---> after epoch 40 the macro-F1 on dev set is 0.7155215007863946\n",
      "Accuracy is: 0.7816860465116279\n",
      "learning rate 0.0001028097252520825\n",
      "\n",
      "======epoch 41 loss====== 0.013131764\n"
     ]
    },
    {
     "name": "stderr",
     "output_type": "stream",
     "text": [
      "\r",
      " 84%|████████▍ | 42/50 [09:05<01:45, 13.15s/it]"
     ]
    },
    {
     "name": "stdout",
     "output_type": "stream",
     "text": [
      "\n",
      "---> after epoch 41 the macro-F1 on dev set is 0.7155756972224001\n",
      "Accuracy is: 0.7828488372093023\n",
      "learning rate 9.766923898947837e-05\n",
      "\n",
      "======epoch 42 loss====== 0.013734009\n"
     ]
    },
    {
     "name": "stderr",
     "output_type": "stream",
     "text": [
      "\r",
      " 86%|████████▌ | 43/50 [09:18<01:31, 13.12s/it]"
     ]
    },
    {
     "name": "stdout",
     "output_type": "stream",
     "text": [
      "\n",
      "---> after epoch 42 the macro-F1 on dev set is 0.7190612283618355\n",
      "Accuracy is: 0.7805232558139535\n",
      "learning rate 9.278577704000444e-05\n",
      "best model updated; new best macro-F1 0.7190612283618355\n",
      "\n",
      "======epoch 43 loss====== 0.012824814\n"
     ]
    },
    {
     "name": "stderr",
     "output_type": "stream",
     "text": [
      "\r",
      " 88%|████████▊ | 44/50 [09:31<01:18, 13.11s/it]"
     ]
    },
    {
     "name": "stdout",
     "output_type": "stream",
     "text": [
      "\n",
      "---> after epoch 43 the macro-F1 on dev set is 0.7147284715013223\n",
      "Accuracy is: 0.7828488372093023\n",
      "learning rate 8.814648818800422e-05\n",
      "\n",
      "======epoch 44 loss====== 0.01399204\n"
     ]
    },
    {
     "name": "stderr",
     "output_type": "stream",
     "text": [
      "\r",
      " 90%|█████████ | 45/50 [09:44<01:05, 13.13s/it]"
     ]
    },
    {
     "name": "stdout",
     "output_type": "stream",
     "text": [
      "\n",
      "---> after epoch 44 the macro-F1 on dev set is 0.7127117669034823\n",
      "Accuracy is: 0.7813953488372093\n",
      "learning rate 8.3739163778604e-05\n",
      "\n",
      "======epoch 45 loss====== 0.012017835\n"
     ]
    },
    {
     "name": "stderr",
     "output_type": "stream",
     "text": [
      "\r",
      " 92%|█████████▏| 46/50 [09:57<00:52, 13.11s/it]"
     ]
    },
    {
     "name": "stdout",
     "output_type": "stream",
     "text": [
      "\n",
      "---> after epoch 45 the macro-F1 on dev set is 0.7103715467366003\n",
      "Accuracy is: 0.7805232558139535\n",
      "learning rate 7.95522055896738e-05\n",
      "\n",
      "======epoch 46 loss====== 0.01277276\n"
     ]
    },
    {
     "name": "stderr",
     "output_type": "stream",
     "text": [
      "\r",
      " 94%|█████████▍| 47/50 [10:10<00:39, 13.12s/it]"
     ]
    },
    {
     "name": "stdout",
     "output_type": "stream",
     "text": [
      "\n",
      "---> after epoch 46 the macro-F1 on dev set is 0.7130388854525873\n",
      "Accuracy is: 0.7799418604651163\n",
      "learning rate 7.55745953101901e-05\n",
      "\n",
      "======epoch 47 loss====== 0.010110478\n"
     ]
    },
    {
     "name": "stderr",
     "output_type": "stream",
     "text": [
      "\r",
      " 96%|█████████▌| 48/50 [10:23<00:26, 13.09s/it]"
     ]
    },
    {
     "name": "stdout",
     "output_type": "stream",
     "text": [
      "\n",
      "---> after epoch 47 the macro-F1 on dev set is 0.7121809056796748\n",
      "Accuracy is: 0.7819767441860465\n",
      "learning rate 7.179586554468059e-05\n",
      "\n",
      "======epoch 48 loss====== 0.011750942\n"
     ]
    },
    {
     "name": "stderr",
     "output_type": "stream",
     "text": [
      "\r",
      " 98%|█████████▊| 49/50 [10:36<00:13, 13.07s/it]"
     ]
    },
    {
     "name": "stdout",
     "output_type": "stream",
     "text": [
      "\n",
      "---> after epoch 48 the macro-F1 on dev set is 0.7143393625808792\n",
      "Accuracy is: 0.7851744186046512\n",
      "learning rate 6.820607226744656e-05\n",
      "\n",
      "======epoch 49 loss====== 0.011365221\n"
     ]
    },
    {
     "name": "stderr",
     "output_type": "stream",
     "text": [
      "100%|██████████| 50/50 [10:49<00:00, 13.02s/it]\n",
      "  0%|          | 0/50 [00:00<?, ?it/s]"
     ]
    },
    {
     "name": "stdout",
     "output_type": "stream",
     "text": [
      "\n",
      "---> after epoch 49 the macro-F1 on dev set is 0.7179300153750037\n",
      "Accuracy is: 0.7831395348837209\n",
      "learning rate 6.479576865407423e-05\n",
      "\n",
      "======epoch 0 loss====== 0.5581229\n"
     ]
    },
    {
     "name": "stderr",
     "output_type": "stream",
     "text": [
      "\r",
      "  2%|▏         | 1/50 [00:12<10:22, 12.71s/it]"
     ]
    },
    {
     "name": "stdout",
     "output_type": "stream",
     "text": [
      "\n",
      "---> after epoch 0 the macro-F1 on dev set is 0.6425083339387042\n",
      "Accuracy is: 0.7604651162790698\n",
      "learning rate 0.0008\n",
      "\n",
      "======epoch 1 loss====== 0.47306463\n"
     ]
    },
    {
     "name": "stderr",
     "output_type": "stream",
     "text": [
      "\r",
      "  4%|▍         | 2/50 [00:25<10:12, 12.75s/it]"
     ]
    },
    {
     "name": "stdout",
     "output_type": "stream",
     "text": [
      "\n",
      "---> after epoch 1 the macro-F1 on dev set is 0.6859915728901189\n",
      "Accuracy is: 0.7674418604651163\n",
      "learning rate 0.00076\n",
      "\n",
      "======epoch 2 loss====== 0.41663972\n"
     ]
    },
    {
     "name": "stderr",
     "output_type": "stream",
     "text": [
      "\r",
      "  6%|▌         | 3/50 [00:38<10:00, 12.79s/it]"
     ]
    },
    {
     "name": "stdout",
     "output_type": "stream",
     "text": [
      "\n",
      "---> after epoch 2 the macro-F1 on dev set is 0.7081225528023092\n",
      "Accuracy is: 0.7790697674418605\n",
      "learning rate 0.000722\n",
      "\n",
      "======epoch 3 loss====== 0.35955268\n"
     ]
    },
    {
     "name": "stderr",
     "output_type": "stream",
     "text": [
      "\r",
      "  8%|▊         | 4/50 [00:51<09:48, 12.79s/it]"
     ]
    },
    {
     "name": "stdout",
     "output_type": "stream",
     "text": [
      "\n",
      "---> after epoch 3 the macro-F1 on dev set is 0.7167918614391094\n",
      "Accuracy is: 0.7732558139534884\n",
      "learning rate 0.0006858999999999999\n",
      "\n",
      "======epoch 4 loss====== 0.29619205\n"
     ]
    },
    {
     "name": "stderr",
     "output_type": "stream",
     "text": [
      "\r",
      " 10%|█         | 5/50 [01:03<09:35, 12.78s/it]"
     ]
    },
    {
     "name": "stdout",
     "output_type": "stream",
     "text": [
      "\n",
      "---> after epoch 4 the macro-F1 on dev set is 0.7168874825967438\n",
      "Accuracy is: 0.7552325581395349\n",
      "learning rate 0.0006516049999999999\n",
      "\n",
      "======epoch 5 loss====== 0.25794968\n"
     ]
    },
    {
     "name": "stderr",
     "output_type": "stream",
     "text": [
      "\r",
      " 12%|█▏        | 6/50 [01:16<09:22, 12.78s/it]"
     ]
    },
    {
     "name": "stdout",
     "output_type": "stream",
     "text": [
      "\n",
      "---> after epoch 5 the macro-F1 on dev set is 0.7090376838159724\n",
      "Accuracy is: 0.7398255813953488\n",
      "learning rate 0.0006190247499999999\n",
      "\n",
      "======epoch 6 loss====== 0.22691353\n"
     ]
    },
    {
     "name": "stderr",
     "output_type": "stream",
     "text": [
      "\r",
      " 14%|█▍        | 7/50 [01:29<09:08, 12.76s/it]"
     ]
    },
    {
     "name": "stdout",
     "output_type": "stream",
     "text": [
      "\n",
      "---> after epoch 6 the macro-F1 on dev set is 0.7215506310337605\n",
      "Accuracy is: 0.7604651162790698\n",
      "learning rate 0.0005880735124999998\n",
      "best model updated; new best macro-F1 0.7215506310337605\n",
      "\n",
      "======epoch 7 loss====== 0.19184515\n"
     ]
    },
    {
     "name": "stderr",
     "output_type": "stream",
     "text": [
      "\r",
      " 16%|█▌        | 8/50 [01:42<08:55, 12.75s/it]"
     ]
    },
    {
     "name": "stdout",
     "output_type": "stream",
     "text": [
      "\n",
      "---> after epoch 7 the macro-F1 on dev set is 0.7162620792355716\n",
      "Accuracy is: 0.786046511627907\n",
      "learning rate 0.0005586698368749998\n",
      "\n",
      "======epoch 8 loss====== 0.15058747\n"
     ]
    },
    {
     "name": "stderr",
     "output_type": "stream",
     "text": [
      "\r",
      " 18%|█▊        | 9/50 [01:55<08:44, 12.78s/it]"
     ]
    },
    {
     "name": "stdout",
     "output_type": "stream",
     "text": [
      "\n",
      "---> after epoch 8 the macro-F1 on dev set is 0.6758613432995921\n",
      "Accuracy is: 0.7857558139534884\n",
      "learning rate 0.0005307363450312497\n",
      "\n",
      "======epoch 9 loss====== 0.12034244\n"
     ]
    },
    {
     "name": "stderr",
     "output_type": "stream",
     "text": [
      "\r",
      " 20%|██        | 10/50 [02:07<08:31, 12.79s/it]"
     ]
    },
    {
     "name": "stdout",
     "output_type": "stream",
     "text": [
      "\n",
      "---> after epoch 9 the macro-F1 on dev set is 0.6354048559398363\n",
      "Accuracy is: 0.7729651162790697\n",
      "learning rate 0.0005041995277796872\n",
      "\n",
      "======epoch 10 loss====== 0.10443952\n"
     ]
    },
    {
     "name": "stderr",
     "output_type": "stream",
     "text": [
      "\r",
      " 22%|██▏       | 11/50 [02:20<08:16, 12.74s/it]"
     ]
    },
    {
     "name": "stdout",
     "output_type": "stream",
     "text": [
      "\n",
      "---> after epoch 10 the macro-F1 on dev set is 0.6104143817652949\n",
      "Accuracy is: 0.7680232558139535\n",
      "learning rate 0.0004789895513907029\n",
      "\n",
      "======epoch 11 loss====== 0.1012607\n"
     ]
    },
    {
     "name": "stderr",
     "output_type": "stream",
     "text": [
      "\r",
      " 24%|██▍       | 12/50 [02:33<08:03, 12.73s/it]"
     ]
    },
    {
     "name": "stdout",
     "output_type": "stream",
     "text": [
      "\n",
      "---> after epoch 11 the macro-F1 on dev set is 0.6976074598979385\n",
      "Accuracy is: 0.7944767441860465\n",
      "learning rate 0.0004550400738211677\n",
      "\n",
      "======epoch 12 loss====== 0.076656766\n"
     ]
    },
    {
     "name": "stderr",
     "output_type": "stream",
     "text": [
      "\r",
      " 26%|██▌       | 13/50 [02:45<07:50, 12.71s/it]"
     ]
    },
    {
     "name": "stdout",
     "output_type": "stream",
     "text": [
      "\n",
      "---> after epoch 12 the macro-F1 on dev set is 0.6971110048618858\n",
      "Accuracy is: 0.791860465116279\n",
      "learning rate 0.0004322880701301093\n",
      "\n",
      "======epoch 13 loss====== 0.06390785\n"
     ]
    },
    {
     "name": "stderr",
     "output_type": "stream",
     "text": [
      "\r",
      " 28%|██▊       | 14/50 [02:58<07:37, 12.71s/it]"
     ]
    },
    {
     "name": "stdout",
     "output_type": "stream",
     "text": [
      "\n",
      "---> after epoch 13 the macro-F1 on dev set is 0.7307213114754099\n",
      "Accuracy is: 0.7779069767441861\n",
      "learning rate 0.00041067366662360383\n",
      "best model updated; new best macro-F1 0.7307213114754099\n",
      "\n",
      "======epoch 14 loss====== 0.05518626\n"
     ]
    },
    {
     "name": "stderr",
     "output_type": "stream",
     "text": [
      "\r",
      " 30%|███       | 15/50 [03:11<07:25, 12.74s/it]"
     ]
    },
    {
     "name": "stdout",
     "output_type": "stream",
     "text": [
      "\n",
      "---> after epoch 14 the macro-F1 on dev set is 0.7282790824032473\n",
      "Accuracy is: 0.7843023255813953\n",
      "learning rate 0.0003901399832924236\n",
      "\n",
      "======epoch 15 loss====== 0.04508811\n"
     ]
    },
    {
     "name": "stderr",
     "output_type": "stream",
     "text": [
      "\r",
      " 32%|███▏      | 16/50 [03:24<07:13, 12.76s/it]"
     ]
    },
    {
     "name": "stdout",
     "output_type": "stream",
     "text": [
      "\n",
      "---> after epoch 15 the macro-F1 on dev set is 0.7262163739587202\n",
      "Accuracy is: 0.7697674418604651\n",
      "learning rate 0.00037063298412780244\n",
      "\n",
      "======epoch 16 loss====== 0.041433804\n"
     ]
    },
    {
     "name": "stderr",
     "output_type": "stream",
     "text": [
      "\r",
      " 34%|███▍      | 17/50 [03:36<06:59, 12.72s/it]"
     ]
    },
    {
     "name": "stdout",
     "output_type": "stream",
     "text": [
      "\n",
      "---> after epoch 16 the macro-F1 on dev set is 0.7276377688172043\n",
      "Accuracy is: 0.7808139534883721\n",
      "learning rate 0.0003521013349214123\n",
      "\n",
      "======epoch 17 loss====== 0.03985429\n"
     ]
    },
    {
     "name": "stderr",
     "output_type": "stream",
     "text": [
      "\r",
      " 36%|███▌      | 18/50 [03:49<06:46, 12.71s/it]"
     ]
    },
    {
     "name": "stdout",
     "output_type": "stream",
     "text": [
      "\n",
      "---> after epoch 17 the macro-F1 on dev set is 0.7240413621426933\n",
      "Accuracy is: 0.7642441860465117\n",
      "learning rate 0.0003344962681753417\n",
      "\n",
      "======epoch 18 loss====== 0.037467133\n"
     ]
    },
    {
     "name": "stderr",
     "output_type": "stream",
     "text": [
      "\r",
      " 38%|███▊      | 19/50 [04:02<06:34, 12.72s/it]"
     ]
    },
    {
     "name": "stdout",
     "output_type": "stream",
     "text": [
      "\n",
      "---> after epoch 18 the macro-F1 on dev set is 0.7290485192186515\n",
      "Accuracy is: 0.7691860465116279\n",
      "learning rate 0.00031777145476657455\n",
      "\n",
      "======epoch 19 loss====== 0.036326718\n"
     ]
    },
    {
     "name": "stderr",
     "output_type": "stream",
     "text": [
      "\r",
      " 40%|████      | 20/50 [04:14<06:21, 12.71s/it]"
     ]
    },
    {
     "name": "stdout",
     "output_type": "stream",
     "text": [
      "\n",
      "---> after epoch 19 the macro-F1 on dev set is 0.7227485696116742\n",
      "Accuracy is: 0.7619186046511628\n",
      "learning rate 0.0003018828820282458\n",
      "\n",
      "======epoch 20 loss====== 0.032651313\n"
     ]
    },
    {
     "name": "stderr",
     "output_type": "stream",
     "text": [
      "\r",
      " 42%|████▏     | 21/50 [04:27<06:07, 12.68s/it]"
     ]
    },
    {
     "name": "stdout",
     "output_type": "stream",
     "text": [
      "\n",
      "---> after epoch 20 the macro-F1 on dev set is 0.7308795017752339\n",
      "Accuracy is: 0.7755813953488372\n",
      "learning rate 0.0002867887379268335\n",
      "best model updated; new best macro-F1 0.7308795017752339\n",
      "\n",
      "======epoch 21 loss====== 0.02828845\n"
     ]
    },
    {
     "name": "stderr",
     "output_type": "stream",
     "text": [
      "\r",
      " 44%|████▍     | 22/50 [04:40<05:56, 12.72s/it]"
     ]
    },
    {
     "name": "stdout",
     "output_type": "stream",
     "text": [
      "\n",
      "---> after epoch 21 the macro-F1 on dev set is 0.7307889495790034\n",
      "Accuracy is: 0.7784883720930232\n",
      "learning rate 0.00027244930103049184\n",
      "\n",
      "======epoch 22 loss====== 0.029091269\n"
     ]
    },
    {
     "name": "stderr",
     "output_type": "stream",
     "text": [
      "\r",
      " 46%|████▌     | 23/50 [04:53<05:43, 12.73s/it]"
     ]
    },
    {
     "name": "stdout",
     "output_type": "stream",
     "text": [
      "\n",
      "---> after epoch 22 the macro-F1 on dev set is 0.7318984761093692\n",
      "Accuracy is: 0.7805232558139535\n",
      "learning rate 0.00025882683597896724\n",
      "best model updated; new best macro-F1 0.7318984761093692\n",
      "\n",
      "======epoch 23 loss====== 0.023500321\n"
     ]
    },
    {
     "name": "stderr",
     "output_type": "stream",
     "text": [
      "\r",
      " 48%|████▊     | 24/50 [05:05<05:30, 12.71s/it]"
     ]
    },
    {
     "name": "stdout",
     "output_type": "stream",
     "text": [
      "\n",
      "---> after epoch 23 the macro-F1 on dev set is 0.7310643195456918\n",
      "Accuracy is: 0.788953488372093\n",
      "learning rate 0.00024588549418001884\n",
      "\n",
      "======epoch 24 loss====== 0.022897614\n"
     ]
    },
    {
     "name": "stderr",
     "output_type": "stream",
     "text": [
      "\r",
      " 50%|█████     | 25/50 [05:18<05:16, 12.68s/it]"
     ]
    },
    {
     "name": "stdout",
     "output_type": "stream",
     "text": [
      "\n",
      "---> after epoch 24 the macro-F1 on dev set is 0.7305378018843995\n",
      "Accuracy is: 0.7851744186046512\n",
      "learning rate 0.0002335912194710179\n",
      "\n",
      "======epoch 25 loss====== 0.021586241\n"
     ]
    },
    {
     "name": "stderr",
     "output_type": "stream",
     "text": [
      "\r",
      " 52%|█████▏    | 26/50 [05:30<05:03, 12.67s/it]"
     ]
    },
    {
     "name": "stdout",
     "output_type": "stream",
     "text": [
      "\n",
      "---> after epoch 25 the macro-F1 on dev set is 0.7306147604824891\n",
      "Accuracy is: 0.7848837209302325\n",
      "learning rate 0.000221911658497467\n",
      "\n",
      "======epoch 26 loss====== 0.019682007\n"
     ]
    },
    {
     "name": "stderr",
     "output_type": "stream",
     "text": [
      "\r",
      " 54%|█████▍    | 27/50 [05:43<04:51, 12.67s/it]"
     ]
    },
    {
     "name": "stdout",
     "output_type": "stream",
     "text": [
      "\n",
      "---> after epoch 26 the macro-F1 on dev set is 0.7358153512250095\n",
      "Accuracy is: 0.786046511627907\n",
      "learning rate 0.00021081607557259363\n",
      "best model updated; new best macro-F1 0.7358153512250095\n",
      "\n",
      "======epoch 27 loss====== 0.023476465\n"
     ]
    },
    {
     "name": "stderr",
     "output_type": "stream",
     "text": [
      "\r",
      " 56%|█████▌    | 28/50 [05:56<04:39, 12.70s/it]"
     ]
    },
    {
     "name": "stdout",
     "output_type": "stream",
     "text": [
      "\n",
      "---> after epoch 27 the macro-F1 on dev set is 0.7277825150746233\n",
      "Accuracy is: 0.7822674418604652\n",
      "learning rate 0.00020027527179396394\n",
      "\n",
      "======epoch 28 loss====== 0.018044407\n"
     ]
    },
    {
     "name": "stderr",
     "output_type": "stream",
     "text": [
      "\r",
      " 58%|█████▊    | 29/50 [06:09<04:26, 12.69s/it]"
     ]
    },
    {
     "name": "stdout",
     "output_type": "stream",
     "text": [
      "\n",
      "---> after epoch 28 the macro-F1 on dev set is 0.7333208282584276\n",
      "Accuracy is: 0.7866279069767442\n",
      "learning rate 0.00019026150820426573\n",
      "\n",
      "======epoch 29 loss====== 0.016770266\n"
     ]
    },
    {
     "name": "stderr",
     "output_type": "stream",
     "text": [
      "\r",
      " 60%|██████    | 30/50 [06:21<04:13, 12.70s/it]"
     ]
    },
    {
     "name": "stdout",
     "output_type": "stream",
     "text": [
      "\n",
      "---> after epoch 29 the macro-F1 on dev set is 0.733445097113335\n",
      "Accuracy is: 0.7895348837209303\n",
      "learning rate 0.00018074843279405244\n",
      "\n",
      "======epoch 30 loss====== 0.017718093\n"
     ]
    },
    {
     "name": "stderr",
     "output_type": "stream",
     "text": [
      "\r",
      " 62%|██████▏   | 31/50 [06:34<04:00, 12.67s/it]"
     ]
    },
    {
     "name": "stdout",
     "output_type": "stream",
     "text": [
      "\n",
      "---> after epoch 30 the macro-F1 on dev set is 0.7324487861777357\n",
      "Accuracy is: 0.7866279069767442\n",
      "learning rate 0.0001717110111543498\n",
      "\n",
      "======epoch 31 loss====== 0.01877512\n"
     ]
    },
    {
     "name": "stderr",
     "output_type": "stream",
     "text": [
      "\r",
      " 64%|██████▍   | 32/50 [06:47<03:51, 12.89s/it]"
     ]
    },
    {
     "name": "stdout",
     "output_type": "stream",
     "text": [
      "\n",
      "---> after epoch 31 the macro-F1 on dev set is 0.7358978262825349\n",
      "Accuracy is: 0.7936046511627907\n",
      "learning rate 0.0001631254605966323\n",
      "best model updated; new best macro-F1 0.7358978262825349\n",
      "\n",
      "======epoch 32 loss====== 0.021118678\n"
     ]
    },
    {
     "name": "stderr",
     "output_type": "stream",
     "text": [
      "\r",
      " 66%|██████▌   | 33/50 [07:00<03:40, 12.96s/it]"
     ]
    },
    {
     "name": "stdout",
     "output_type": "stream",
     "text": [
      "\n",
      "---> after epoch 32 the macro-F1 on dev set is 0.7366922343038901\n",
      "Accuracy is: 0.7927325581395349\n",
      "learning rate 0.0001549691875668007\n",
      "best model updated; new best macro-F1 0.7366922343038901\n",
      "\n",
      "======epoch 33 loss====== 0.016495593\n"
     ]
    },
    {
     "name": "stderr",
     "output_type": "stream",
     "text": [
      "\r",
      " 68%|██████▊   | 34/50 [07:14<03:28, 13.02s/it]"
     ]
    },
    {
     "name": "stdout",
     "output_type": "stream",
     "text": [
      "\n",
      "---> after epoch 33 the macro-F1 on dev set is 0.7351531058617673\n",
      "Accuracy is: 0.7953488372093023\n",
      "learning rate 0.00014722072818846064\n",
      "\n",
      "======epoch 34 loss====== 0.020314185\n"
     ]
    },
    {
     "name": "stderr",
     "output_type": "stream",
     "text": [
      "\r",
      " 70%|███████   | 35/50 [07:27<03:17, 13.15s/it]"
     ]
    },
    {
     "name": "stdout",
     "output_type": "stream",
     "text": [
      "\n",
      "---> after epoch 34 the macro-F1 on dev set is 0.734400699912511\n",
      "Accuracy is: 0.7947674418604651\n",
      "learning rate 0.0001398596917790376\n",
      "\n",
      "======epoch 35 loss====== 0.017046878\n"
     ]
    },
    {
     "name": "stderr",
     "output_type": "stream",
     "text": [
      "\r",
      " 72%|███████▏  | 36/50 [07:40<03:04, 13.16s/it]"
     ]
    },
    {
     "name": "stdout",
     "output_type": "stream",
     "text": [
      "\n",
      "---> after epoch 35 the macro-F1 on dev set is 0.7306631028041691\n",
      "Accuracy is: 0.798546511627907\n",
      "learning rate 0.00013286670719008572\n",
      "\n",
      "======epoch 36 loss====== 0.012623661\n"
     ]
    },
    {
     "name": "stderr",
     "output_type": "stream",
     "text": [
      "\r",
      " 74%|███████▍  | 37/50 [07:53<02:50, 13.08s/it]"
     ]
    },
    {
     "name": "stdout",
     "output_type": "stream",
     "text": [
      "\n",
      "---> after epoch 36 the macro-F1 on dev set is 0.7306872230790351\n",
      "Accuracy is: 0.7947674418604651\n",
      "learning rate 0.00012622337183058142\n",
      "\n",
      "======epoch 37 loss====== 0.014036749\n"
     ]
    },
    {
     "name": "stderr",
     "output_type": "stream",
     "text": [
      "\r",
      " 76%|███████▌  | 38/50 [08:06<02:36, 13.02s/it]"
     ]
    },
    {
     "name": "stdout",
     "output_type": "stream",
     "text": [
      "\n",
      "---> after epoch 37 the macro-F1 on dev set is 0.7254435911582584\n",
      "Accuracy is: 0.7936046511627907\n",
      "learning rate 0.00011991220323905235\n",
      "\n",
      "======epoch 38 loss====== 0.017116388\n"
     ]
    },
    {
     "name": "stderr",
     "output_type": "stream",
     "text": [
      "\r",
      " 78%|███████▊  | 39/50 [08:19<02:24, 13.11s/it]"
     ]
    },
    {
     "name": "stdout",
     "output_type": "stream",
     "text": [
      "\n",
      "---> after epoch 38 the macro-F1 on dev set is 0.7271182191268408\n",
      "Accuracy is: 0.7936046511627907\n",
      "learning rate 0.00011391659307709973\n",
      "\n",
      "======epoch 39 loss====== 0.014405335\n"
     ]
    },
    {
     "name": "stderr",
     "output_type": "stream",
     "text": [
      "\r",
      " 80%|████████  | 40/50 [08:32<02:10, 13.10s/it]"
     ]
    },
    {
     "name": "stdout",
     "output_type": "stream",
     "text": [
      "\n",
      "---> after epoch 39 the macro-F1 on dev set is 0.7288922094339206\n",
      "Accuracy is: 0.7965116279069767\n",
      "learning rate 0.00010822076342324474\n",
      "\n",
      "======epoch 40 loss====== 0.01397489\n"
     ]
    },
    {
     "name": "stderr",
     "output_type": "stream",
     "text": [
      "\r",
      " 82%|████████▏ | 41/50 [08:46<01:57, 13.10s/it]"
     ]
    },
    {
     "name": "stdout",
     "output_type": "stream",
     "text": [
      "\n",
      "---> after epoch 40 the macro-F1 on dev set is 0.7276233782392798\n",
      "Accuracy is: 0.7965116279069767\n",
      "learning rate 0.0001028097252520825\n",
      "\n",
      "======epoch 41 loss====== 0.012213351\n"
     ]
    },
    {
     "name": "stderr",
     "output_type": "stream",
     "text": [
      "\r",
      " 84%|████████▍ | 42/50 [08:59<01:44, 13.09s/it]"
     ]
    },
    {
     "name": "stdout",
     "output_type": "stream",
     "text": [
      "\n",
      "---> after epoch 41 the macro-F1 on dev set is 0.7200259138805292\n",
      "Accuracy is: 0.7965116279069767\n",
      "learning rate 9.766923898947837e-05\n",
      "\n",
      "======epoch 42 loss====== 0.012005389\n"
     ]
    },
    {
     "name": "stderr",
     "output_type": "stream",
     "text": [
      "\r",
      " 86%|████████▌ | 43/50 [09:12<01:31, 13.08s/it]"
     ]
    },
    {
     "name": "stdout",
     "output_type": "stream",
     "text": [
      "\n",
      "---> after epoch 42 the macro-F1 on dev set is 0.72988395253162\n",
      "Accuracy is: 0.7997093023255814\n",
      "learning rate 9.278577704000444e-05\n",
      "\n",
      "======epoch 43 loss====== 0.013034382\n"
     ]
    },
    {
     "name": "stderr",
     "output_type": "stream",
     "text": [
      "\r",
      " 88%|████████▊ | 44/50 [09:25<01:18, 13.02s/it]"
     ]
    },
    {
     "name": "stdout",
     "output_type": "stream",
     "text": [
      "\n",
      "---> after epoch 43 the macro-F1 on dev set is 0.732248762271857\n",
      "Accuracy is: 0.7982558139534883\n",
      "learning rate 8.814648818800422e-05\n",
      "\n",
      "======epoch 44 loss====== 0.012044074\n"
     ]
    },
    {
     "name": "stderr",
     "output_type": "stream",
     "text": [
      "\r",
      " 90%|█████████ | 45/50 [09:37<01:04, 12.93s/it]"
     ]
    },
    {
     "name": "stdout",
     "output_type": "stream",
     "text": [
      "\n",
      "---> after epoch 44 the macro-F1 on dev set is 0.7295930502256146\n",
      "Accuracy is: 0.7968023255813953\n",
      "learning rate 8.3739163778604e-05\n",
      "\n",
      "======epoch 45 loss====== 0.012770912\n"
     ]
    },
    {
     "name": "stderr",
     "output_type": "stream",
     "text": [
      "\r",
      " 92%|█████████▏| 46/50 [09:50<00:51, 12.88s/it]"
     ]
    },
    {
     "name": "stdout",
     "output_type": "stream",
     "text": [
      "\n",
      "---> after epoch 45 the macro-F1 on dev set is 0.7191117787720529\n",
      "Accuracy is: 0.7982558139534883\n",
      "learning rate 7.95522055896738e-05\n",
      "\n",
      "======epoch 46 loss====== 0.011065026\n"
     ]
    },
    {
     "name": "stderr",
     "output_type": "stream",
     "text": [
      "\r",
      " 94%|█████████▍| 47/50 [10:03<00:38, 12.89s/it]"
     ]
    },
    {
     "name": "stdout",
     "output_type": "stream",
     "text": [
      "\n",
      "---> after epoch 46 the macro-F1 on dev set is 0.7290379248303511\n",
      "Accuracy is: 0.7979651162790697\n",
      "learning rate 7.55745953101901e-05\n",
      "\n",
      "======epoch 47 loss====== 0.011239953\n"
     ]
    },
    {
     "name": "stderr",
     "output_type": "stream",
     "text": [
      "\r",
      " 96%|█████████▌| 48/50 [10:16<00:25, 12.84s/it]"
     ]
    },
    {
     "name": "stdout",
     "output_type": "stream",
     "text": [
      "\n",
      "---> after epoch 47 the macro-F1 on dev set is 0.7305974187881621\n",
      "Accuracy is: 0.7991279069767442\n",
      "learning rate 7.179586554468059e-05\n",
      "\n",
      "======epoch 48 loss====== 0.0113746105\n"
     ]
    },
    {
     "name": "stderr",
     "output_type": "stream",
     "text": [
      "\r",
      " 98%|█████████▊| 49/50 [10:28<00:12, 12.82s/it]"
     ]
    },
    {
     "name": "stdout",
     "output_type": "stream",
     "text": [
      "\n",
      "---> after epoch 48 the macro-F1 on dev set is 0.7163608379504802\n",
      "Accuracy is: 0.7959302325581395\n",
      "learning rate 6.820607226744656e-05\n",
      "\n",
      "======epoch 49 loss====== 0.011053761\n"
     ]
    },
    {
     "name": "stderr",
     "output_type": "stream",
     "text": [
      "100%|██████████| 50/50 [10:41<00:00, 12.78s/it]\n",
      "  0%|          | 0/50 [00:00<?, ?it/s]"
     ]
    },
    {
     "name": "stdout",
     "output_type": "stream",
     "text": [
      "\n",
      "---> after epoch 49 the macro-F1 on dev set is 0.7252078436010783\n",
      "Accuracy is: 0.7973837209302326\n",
      "learning rate 6.479576865407423e-05\n",
      "\n",
      "======epoch 0 loss====== 0.55766773\n"
     ]
    },
    {
     "name": "stderr",
     "output_type": "stream",
     "text": [
      "\r",
      "  2%|▏         | 1/50 [00:12<10:29, 12.84s/it]"
     ]
    },
    {
     "name": "stdout",
     "output_type": "stream",
     "text": [
      "\n",
      "---> after epoch 0 the macro-F1 on dev set is 0.6873023188167078\n",
      "Accuracy is: 0.7587209302325582\n",
      "learning rate 0.0008\n",
      "\n",
      "======epoch 1 loss====== 0.4734235\n"
     ]
    },
    {
     "name": "stderr",
     "output_type": "stream",
     "text": [
      "\r",
      "  4%|▍         | 2/50 [00:25<10:14, 12.79s/it]"
     ]
    },
    {
     "name": "stdout",
     "output_type": "stream",
     "text": [
      "\n",
      "---> after epoch 1 the macro-F1 on dev set is 0.6997000603997364\n",
      "Accuracy is: 0.7633720930232558\n",
      "learning rate 0.00076\n",
      "\n",
      "======epoch 2 loss====== 0.41677576\n"
     ]
    },
    {
     "name": "stderr",
     "output_type": "stream",
     "text": [
      "\r",
      "  6%|▌         | 3/50 [00:38<10:03, 12.84s/it]"
     ]
    },
    {
     "name": "stdout",
     "output_type": "stream",
     "text": [
      "\n",
      "---> after epoch 2 the macro-F1 on dev set is 0.7044323248387734\n",
      "Accuracy is: 0.7502906976744186\n",
      "learning rate 0.000722\n",
      "\n",
      "======epoch 3 loss====== 0.36317948\n"
     ]
    },
    {
     "name": "stderr",
     "output_type": "stream",
     "text": [
      "\r",
      "  8%|▊         | 4/50 [00:51<09:47, 12.77s/it]"
     ]
    },
    {
     "name": "stdout",
     "output_type": "stream",
     "text": [
      "\n",
      "---> after epoch 3 the macro-F1 on dev set is 0.7065398425538258\n",
      "Accuracy is: 0.7712209302325581\n",
      "learning rate 0.0006858999999999999\n",
      "\n",
      "======epoch 4 loss====== 0.3081675\n"
     ]
    },
    {
     "name": "stderr",
     "output_type": "stream",
     "text": [
      "\r",
      " 10%|█         | 5/50 [01:03<09:31, 12.70s/it]"
     ]
    },
    {
     "name": "stdout",
     "output_type": "stream",
     "text": [
      "\n",
      "---> after epoch 4 the macro-F1 on dev set is 0.6905327528866767\n",
      "Accuracy is: 0.7793604651162791\n",
      "learning rate 0.0006516049999999999\n",
      "\n",
      "======epoch 5 loss====== 0.26440808\n"
     ]
    },
    {
     "name": "stderr",
     "output_type": "stream",
     "text": [
      "\r",
      " 12%|█▏        | 6/50 [01:16<09:16, 12.64s/it]"
     ]
    },
    {
     "name": "stdout",
     "output_type": "stream",
     "text": [
      "\n",
      "---> after epoch 5 the macro-F1 on dev set is 0.6913510796018554\n",
      "Accuracy is: 0.7802325581395348\n",
      "learning rate 0.0006190247499999999\n",
      "\n",
      "======epoch 6 loss====== 0.22217451\n"
     ]
    },
    {
     "name": "stderr",
     "output_type": "stream",
     "text": [
      "\r",
      " 14%|█▍        | 7/50 [01:28<09:03, 12.64s/it]"
     ]
    },
    {
     "name": "stdout",
     "output_type": "stream",
     "text": [
      "\n",
      "---> after epoch 6 the macro-F1 on dev set is 0.6902579999524083\n",
      "Accuracy is: 0.7811046511627907\n",
      "learning rate 0.0005880735124999998\n",
      "\n",
      "======epoch 7 loss====== 0.18461926\n"
     ]
    },
    {
     "name": "stderr",
     "output_type": "stream",
     "text": [
      "\r",
      " 16%|█▌        | 8/50 [01:41<08:49, 12.61s/it]"
     ]
    },
    {
     "name": "stdout",
     "output_type": "stream",
     "text": [
      "\n",
      "---> after epoch 7 the macro-F1 on dev set is 0.6870557857130732\n",
      "Accuracy is: 0.7834302325581395\n",
      "learning rate 0.0005586698368749998\n",
      "\n",
      "======epoch 8 loss====== 0.1619443\n"
     ]
    },
    {
     "name": "stderr",
     "output_type": "stream",
     "text": [
      "\r",
      " 18%|█▊        | 9/50 [01:53<08:37, 12.63s/it]"
     ]
    },
    {
     "name": "stdout",
     "output_type": "stream",
     "text": [
      "\n",
      "---> after epoch 8 the macro-F1 on dev set is 0.6910391575379773\n",
      "Accuracy is: 0.7843023255813953\n",
      "learning rate 0.0005307363450312497\n",
      "\n",
      "======epoch 9 loss====== 0.14439408\n"
     ]
    },
    {
     "name": "stderr",
     "output_type": "stream",
     "text": [
      "\r",
      " 20%|██        | 10/50 [02:06<08:24, 12.62s/it]"
     ]
    },
    {
     "name": "stdout",
     "output_type": "stream",
     "text": [
      "\n",
      "---> after epoch 9 the macro-F1 on dev set is 0.6129716279356442\n",
      "Accuracy is: 0.7659883720930233\n",
      "learning rate 0.0005041995277796872\n",
      "\n",
      "======epoch 10 loss====== 0.13431795\n"
     ]
    },
    {
     "name": "stderr",
     "output_type": "stream",
     "text": [
      "\r",
      " 22%|██▏       | 11/50 [02:19<08:12, 12.62s/it]"
     ]
    },
    {
     "name": "stdout",
     "output_type": "stream",
     "text": [
      "\n",
      "---> after epoch 10 the macro-F1 on dev set is 0.6237205883428034\n",
      "Accuracy is: 0.7694767441860465\n",
      "learning rate 0.0004789895513907029\n",
      "\n",
      "======epoch 11 loss====== 0.10913785\n"
     ]
    },
    {
     "name": "stderr",
     "output_type": "stream",
     "text": [
      "\r",
      " 24%|██▍       | 12/50 [02:31<08:01, 12.67s/it]"
     ]
    },
    {
     "name": "stdout",
     "output_type": "stream",
     "text": [
      "\n",
      "---> after epoch 11 the macro-F1 on dev set is 0.6575324193143075\n",
      "Accuracy is: 0.7776162790697675\n",
      "learning rate 0.0004550400738211677\n",
      "\n",
      "======epoch 12 loss====== 0.08841395\n"
     ]
    },
    {
     "name": "stderr",
     "output_type": "stream",
     "text": [
      "\r",
      " 26%|██▌       | 13/50 [02:45<07:53, 12.81s/it]"
     ]
    },
    {
     "name": "stdout",
     "output_type": "stream",
     "text": [
      "\n",
      "---> after epoch 12 the macro-F1 on dev set is 0.691347192248943\n",
      "Accuracy is: 0.7828488372093023\n",
      "learning rate 0.0004322880701301093\n",
      "\n",
      "======epoch 13 loss====== 0.06755833\n"
     ]
    },
    {
     "name": "stderr",
     "output_type": "stream",
     "text": [
      "\r",
      " 28%|██▊       | 14/50 [02:57<07:41, 12.83s/it]"
     ]
    },
    {
     "name": "stdout",
     "output_type": "stream",
     "text": [
      "\n",
      "---> after epoch 13 the macro-F1 on dev set is 0.7040218937666444\n",
      "Accuracy is: 0.7825581395348837\n",
      "learning rate 0.00041067366662360383\n",
      "\n",
      "======epoch 14 loss====== 0.061206147\n"
     ]
    },
    {
     "name": "stderr",
     "output_type": "stream",
     "text": [
      "\r",
      " 30%|███       | 15/50 [03:10<07:29, 12.85s/it]"
     ]
    },
    {
     "name": "stdout",
     "output_type": "stream",
     "text": [
      "\n",
      "---> after epoch 14 the macro-F1 on dev set is 0.7018361220631604\n",
      "Accuracy is: 0.7857558139534884\n",
      "learning rate 0.0003901399832924236\n",
      "\n",
      "======epoch 15 loss====== 0.04868095\n"
     ]
    },
    {
     "name": "stderr",
     "output_type": "stream",
     "text": [
      "\r",
      " 32%|███▏      | 16/50 [03:23<07:17, 12.88s/it]"
     ]
    },
    {
     "name": "stdout",
     "output_type": "stream",
     "text": [
      "\n",
      "---> after epoch 15 the macro-F1 on dev set is 0.7056577072942616\n",
      "Accuracy is: 0.7863372093023255\n",
      "learning rate 0.00037063298412780244\n",
      "\n",
      "======epoch 16 loss====== 0.047058545\n"
     ]
    },
    {
     "name": "stderr",
     "output_type": "stream",
     "text": [
      "\r",
      " 34%|███▍      | 17/50 [03:36<07:03, 12.84s/it]"
     ]
    },
    {
     "name": "stdout",
     "output_type": "stream",
     "text": [
      "\n",
      "---> after epoch 16 the macro-F1 on dev set is 0.7063626376889047\n",
      "Accuracy is: 0.786046511627907\n",
      "learning rate 0.0003521013349214123\n",
      "\n",
      "======epoch 17 loss====== 0.03590356\n"
     ]
    },
    {
     "name": "stderr",
     "output_type": "stream",
     "text": [
      "\r",
      " 36%|███▌      | 18/50 [03:49<06:50, 12.83s/it]"
     ]
    },
    {
     "name": "stdout",
     "output_type": "stream",
     "text": [
      "\n",
      "---> after epoch 17 the macro-F1 on dev set is 0.6984848791037388\n",
      "Accuracy is: 0.7869186046511628\n",
      "learning rate 0.0003344962681753417\n",
      "\n",
      "======epoch 18 loss====== 0.034709457\n"
     ]
    },
    {
     "name": "stderr",
     "output_type": "stream",
     "text": [
      "\r",
      " 38%|███▊      | 19/50 [04:02<06:37, 12.82s/it]"
     ]
    },
    {
     "name": "stdout",
     "output_type": "stream",
     "text": [
      "\n",
      "---> after epoch 18 the macro-F1 on dev set is 0.6973782481842612\n",
      "Accuracy is: 0.7857558139534884\n",
      "learning rate 0.00031777145476657455\n",
      "\n",
      "======epoch 19 loss====== 0.0382917\n"
     ]
    },
    {
     "name": "stderr",
     "output_type": "stream",
     "text": [
      "\r",
      " 40%|████      | 20/50 [04:15<06:24, 12.82s/it]"
     ]
    },
    {
     "name": "stdout",
     "output_type": "stream",
     "text": [
      "\n",
      "---> after epoch 19 the macro-F1 on dev set is 0.6899732735994502\n",
      "Accuracy is: 0.7816860465116279\n",
      "learning rate 0.0003018828820282458\n",
      "\n",
      "======epoch 20 loss====== 0.032873325\n"
     ]
    },
    {
     "name": "stderr",
     "output_type": "stream",
     "text": [
      "\r",
      " 42%|████▏     | 21/50 [04:27<06:12, 12.83s/it]"
     ]
    },
    {
     "name": "stdout",
     "output_type": "stream",
     "text": [
      "\n",
      "---> after epoch 20 the macro-F1 on dev set is 0.7046392466417394\n",
      "Accuracy is: 0.7837209302325582\n",
      "learning rate 0.0002867887379268335\n",
      "\n",
      "======epoch 21 loss====== 0.031060485\n"
     ]
    },
    {
     "name": "stderr",
     "output_type": "stream",
     "text": [
      "\r",
      " 44%|████▍     | 22/50 [04:40<05:59, 12.86s/it]"
     ]
    },
    {
     "name": "stdout",
     "output_type": "stream",
     "text": [
      "\n",
      "---> after epoch 21 the macro-F1 on dev set is 0.6948679629810974\n",
      "Accuracy is: 0.7819767441860465\n",
      "learning rate 0.00027244930103049184\n",
      "\n",
      "======epoch 22 loss====== 0.02862093\n"
     ]
    },
    {
     "name": "stderr",
     "output_type": "stream",
     "text": [
      "\r",
      " 46%|████▌     | 23/50 [04:53<05:46, 12.83s/it]"
     ]
    },
    {
     "name": "stdout",
     "output_type": "stream",
     "text": [
      "\n",
      "---> after epoch 22 the macro-F1 on dev set is 0.7091610955536951\n",
      "Accuracy is: 0.7854651162790698\n",
      "learning rate 0.00025882683597896724\n",
      "\n",
      "======epoch 23 loss====== 0.026836526\n"
     ]
    },
    {
     "name": "stderr",
     "output_type": "stream",
     "text": [
      "\r",
      " 48%|████▊     | 24/50 [05:06<05:32, 12.80s/it]"
     ]
    },
    {
     "name": "stdout",
     "output_type": "stream",
     "text": [
      "\n",
      "---> after epoch 23 the macro-F1 on dev set is 0.6989363901413495\n",
      "Accuracy is: 0.7848837209302325\n",
      "learning rate 0.00024588549418001884\n",
      "\n",
      "======epoch 24 loss====== 0.025427422\n"
     ]
    },
    {
     "name": "stderr",
     "output_type": "stream",
     "text": [
      "\r",
      " 50%|█████     | 25/50 [05:19<05:19, 12.80s/it]"
     ]
    },
    {
     "name": "stdout",
     "output_type": "stream",
     "text": [
      "\n",
      "---> after epoch 24 the macro-F1 on dev set is 0.7132682262094028\n",
      "Accuracy is: 0.7866279069767442\n",
      "learning rate 0.0002335912194710179\n",
      "\n",
      "======epoch 25 loss====== 0.021370085\n"
     ]
    },
    {
     "name": "stderr",
     "output_type": "stream",
     "text": [
      "\r",
      " 52%|█████▏    | 26/50 [05:31<05:07, 12.81s/it]"
     ]
    },
    {
     "name": "stdout",
     "output_type": "stream",
     "text": [
      "\n",
      "---> after epoch 25 the macro-F1 on dev set is 0.7175726418660985\n",
      "Accuracy is: 0.7851744186046512\n",
      "learning rate 0.000221911658497467\n",
      "\n",
      "======epoch 26 loss====== 0.021224573\n"
     ]
    },
    {
     "name": "stderr",
     "output_type": "stream",
     "text": [
      "\r",
      " 54%|█████▍    | 27/50 [05:44<04:54, 12.80s/it]"
     ]
    },
    {
     "name": "stdout",
     "output_type": "stream",
     "text": [
      "\n",
      "---> after epoch 26 the macro-F1 on dev set is 0.7223629862389321\n",
      "Accuracy is: 0.790406976744186\n",
      "learning rate 0.00021081607557259363\n",
      "\n",
      "======epoch 27 loss====== 0.021866528\n"
     ]
    },
    {
     "name": "stderr",
     "output_type": "stream",
     "text": [
      "\r",
      " 56%|█████▌    | 28/50 [05:57<04:40, 12.74s/it]"
     ]
    },
    {
     "name": "stdout",
     "output_type": "stream",
     "text": [
      "\n",
      "---> after epoch 27 the macro-F1 on dev set is 0.7132682262094028\n",
      "Accuracy is: 0.7866279069767442\n",
      "learning rate 0.00020027527179396394\n",
      "\n",
      "======epoch 28 loss====== 0.022348214\n"
     ]
    },
    {
     "name": "stderr",
     "output_type": "stream",
     "text": [
      "\r",
      " 58%|█████▊    | 29/50 [06:09<04:26, 12.68s/it]"
     ]
    },
    {
     "name": "stdout",
     "output_type": "stream",
     "text": [
      "\n",
      "---> after epoch 28 the macro-F1 on dev set is 0.7124968214254594\n",
      "Accuracy is: 0.7813953488372093\n",
      "learning rate 0.00019026150820426573\n",
      "\n",
      "======epoch 29 loss====== 0.019644372\n"
     ]
    },
    {
     "name": "stderr",
     "output_type": "stream",
     "text": [
      "\r",
      " 60%|██████    | 30/50 [06:22<04:12, 12.62s/it]"
     ]
    },
    {
     "name": "stdout",
     "output_type": "stream",
     "text": [
      "\n",
      "---> after epoch 29 the macro-F1 on dev set is 0.7166785035057699\n",
      "Accuracy is: 0.7840116279069768\n",
      "learning rate 0.00018074843279405244\n",
      "\n",
      "======epoch 30 loss====== 0.018897304\n"
     ]
    },
    {
     "name": "stderr",
     "output_type": "stream",
     "text": [
      "\r",
      " 62%|██████▏   | 31/50 [06:34<03:59, 12.61s/it]"
     ]
    },
    {
     "name": "stdout",
     "output_type": "stream",
     "text": [
      "\n",
      "---> after epoch 30 the macro-F1 on dev set is 0.7182084785633631\n",
      "Accuracy is: 0.7843023255813953\n",
      "learning rate 0.0001717110111543498\n",
      "\n",
      "======epoch 31 loss====== 0.021045405\n"
     ]
    },
    {
     "name": "stderr",
     "output_type": "stream",
     "text": [
      "\r",
      " 64%|██████▍   | 32/50 [06:47<03:46, 12.57s/it]"
     ]
    },
    {
     "name": "stdout",
     "output_type": "stream",
     "text": [
      "\n",
      "---> after epoch 31 the macro-F1 on dev set is 0.7216557260017136\n",
      "Accuracy is: 0.7866279069767442\n",
      "learning rate 0.0001631254605966323\n",
      "\n",
      "======epoch 32 loss====== 0.016337395\n"
     ]
    },
    {
     "name": "stderr",
     "output_type": "stream",
     "text": [
      "\r",
      " 66%|██████▌   | 33/50 [06:59<03:32, 12.50s/it]"
     ]
    },
    {
     "name": "stdout",
     "output_type": "stream",
     "text": [
      "\n",
      "---> after epoch 32 the macro-F1 on dev set is 0.71996368711299\n",
      "Accuracy is: 0.7816860465116279\n",
      "learning rate 0.0001549691875668007\n",
      "\n",
      "======epoch 33 loss====== 0.0193141\n"
     ]
    },
    {
     "name": "stderr",
     "output_type": "stream",
     "text": [
      "\r",
      " 68%|██████▊   | 34/50 [07:12<03:20, 12.52s/it]"
     ]
    },
    {
     "name": "stdout",
     "output_type": "stream",
     "text": [
      "\n",
      "---> after epoch 33 the macro-F1 on dev set is 0.7179939695330632\n",
      "Accuracy is: 0.7851744186046512\n",
      "learning rate 0.00014722072818846064\n",
      "\n",
      "======epoch 34 loss====== 0.015859874\n"
     ]
    },
    {
     "name": "stderr",
     "output_type": "stream",
     "text": [
      "\r",
      " 70%|███████   | 35/50 [07:24<03:08, 12.57s/it]"
     ]
    },
    {
     "name": "stdout",
     "output_type": "stream",
     "text": [
      "\n",
      "---> after epoch 34 the macro-F1 on dev set is 0.7184104805623791\n",
      "Accuracy is: 0.7834302325581395\n",
      "learning rate 0.0001398596917790376\n",
      "\n",
      "======epoch 35 loss====== 0.01609138\n"
     ]
    },
    {
     "name": "stderr",
     "output_type": "stream",
     "text": [
      "\r",
      " 72%|███████▏  | 36/50 [07:37<02:56, 12.59s/it]"
     ]
    },
    {
     "name": "stdout",
     "output_type": "stream",
     "text": [
      "\n",
      "---> after epoch 35 the macro-F1 on dev set is 0.7194520237075805\n",
      "Accuracy is: 0.786046511627907\n",
      "learning rate 0.00013286670719008572\n",
      "\n",
      "======epoch 36 loss====== 0.0149815865\n"
     ]
    },
    {
     "name": "stderr",
     "output_type": "stream",
     "text": [
      "\r",
      " 74%|███████▍  | 37/50 [07:50<02:44, 12.62s/it]"
     ]
    },
    {
     "name": "stdout",
     "output_type": "stream",
     "text": [
      "\n",
      "---> after epoch 36 the macro-F1 on dev set is 0.7202713791040467\n",
      "Accuracy is: 0.7851744186046512\n",
      "learning rate 0.00012622337183058142\n",
      "\n",
      "======epoch 37 loss====== 0.016592443\n"
     ]
    },
    {
     "name": "stderr",
     "output_type": "stream",
     "text": [
      "\r",
      " 76%|███████▌  | 38/50 [08:02<02:31, 12.63s/it]"
     ]
    },
    {
     "name": "stdout",
     "output_type": "stream",
     "text": [
      "\n",
      "---> after epoch 37 the macro-F1 on dev set is 0.7112304262388134\n",
      "Accuracy is: 0.7840116279069768\n",
      "learning rate 0.00011991220323905235\n",
      "\n",
      "======epoch 38 loss====== 0.0155425295\n"
     ]
    },
    {
     "name": "stderr",
     "output_type": "stream",
     "text": [
      "\r",
      " 78%|███████▊  | 39/50 [08:15<02:19, 12.66s/it]"
     ]
    },
    {
     "name": "stdout",
     "output_type": "stream",
     "text": [
      "\n",
      "---> after epoch 38 the macro-F1 on dev set is 0.7165716368001372\n",
      "Accuracy is: 0.7854651162790698\n",
      "learning rate 0.00011391659307709973\n",
      "\n",
      "======epoch 39 loss====== 0.014414361\n"
     ]
    },
    {
     "name": "stderr",
     "output_type": "stream",
     "text": [
      "\r",
      " 80%|████████  | 40/50 [08:28<02:06, 12.64s/it]"
     ]
    },
    {
     "name": "stdout",
     "output_type": "stream",
     "text": [
      "\n",
      "---> after epoch 39 the macro-F1 on dev set is 0.7107562950042489\n",
      "Accuracy is: 0.7813953488372093\n",
      "learning rate 0.00010822076342324474\n",
      "\n",
      "======epoch 40 loss====== 0.013745671\n"
     ]
    },
    {
     "name": "stderr",
     "output_type": "stream",
     "text": [
      "\r",
      " 82%|████████▏ | 41/50 [08:41<01:54, 12.67s/it]"
     ]
    },
    {
     "name": "stdout",
     "output_type": "stream",
     "text": [
      "\n",
      "---> after epoch 40 the macro-F1 on dev set is 0.7175513048790473\n",
      "Accuracy is: 0.7880813953488373\n",
      "learning rate 0.0001028097252520825\n",
      "\n",
      "======epoch 41 loss====== 0.014160281\n"
     ]
    },
    {
     "name": "stderr",
     "output_type": "stream",
     "text": [
      "\r",
      " 84%|████████▍ | 42/50 [08:53<01:41, 12.64s/it]"
     ]
    },
    {
     "name": "stdout",
     "output_type": "stream",
     "text": [
      "\n",
      "---> after epoch 41 the macro-F1 on dev set is 0.7133186994197407\n",
      "Accuracy is: 0.7869186046511628\n",
      "learning rate 9.766923898947837e-05\n",
      "\n",
      "======epoch 42 loss====== 0.012868535\n"
     ]
    },
    {
     "name": "stderr",
     "output_type": "stream",
     "text": [
      "\r",
      " 86%|████████▌ | 43/50 [09:06<01:28, 12.60s/it]"
     ]
    },
    {
     "name": "stdout",
     "output_type": "stream",
     "text": [
      "\n",
      "---> after epoch 42 the macro-F1 on dev set is 0.7058730592436047\n",
      "Accuracy is: 0.786046511627907\n",
      "learning rate 9.278577704000444e-05\n",
      "\n",
      "======epoch 43 loss====== 0.014556993\n"
     ]
    },
    {
     "name": "stderr",
     "output_type": "stream",
     "text": [
      "\r",
      " 88%|████████▊ | 44/50 [09:18<01:15, 12.59s/it]"
     ]
    },
    {
     "name": "stdout",
     "output_type": "stream",
     "text": [
      "\n",
      "---> after epoch 43 the macro-F1 on dev set is 0.7117315397191311\n",
      "Accuracy is: 0.7843023255813953\n",
      "learning rate 8.814648818800422e-05\n",
      "\n",
      "======epoch 44 loss====== 0.013633033\n"
     ]
    },
    {
     "name": "stderr",
     "output_type": "stream",
     "text": [
      "\r",
      " 90%|█████████ | 45/50 [09:31<01:02, 12.60s/it]"
     ]
    },
    {
     "name": "stdout",
     "output_type": "stream",
     "text": [
      "\n",
      "---> after epoch 44 the macro-F1 on dev set is 0.706559485176631\n",
      "Accuracy is: 0.7837209302325582\n",
      "learning rate 8.3739163778604e-05\n",
      "\n",
      "======epoch 45 loss====== 0.014163597\n"
     ]
    },
    {
     "name": "stderr",
     "output_type": "stream",
     "text": [
      "\r",
      " 92%|█████████▏| 46/50 [09:43<00:50, 12.59s/it]"
     ]
    },
    {
     "name": "stdout",
     "output_type": "stream",
     "text": [
      "\n",
      "---> after epoch 45 the macro-F1 on dev set is 0.7092659005048019\n",
      "Accuracy is: 0.7845930232558139\n",
      "learning rate 7.95522055896738e-05\n",
      "\n",
      "======epoch 46 loss====== 0.012352392\n"
     ]
    },
    {
     "name": "stderr",
     "output_type": "stream",
     "text": [
      "\r",
      " 94%|█████████▍| 47/50 [09:56<00:37, 12.58s/it]"
     ]
    },
    {
     "name": "stdout",
     "output_type": "stream",
     "text": [
      "\n",
      "---> after epoch 46 the macro-F1 on dev set is 0.7106489735389364\n",
      "Accuracy is: 0.786046511627907\n",
      "learning rate 7.55745953101901e-05\n",
      "\n",
      "======epoch 47 loss====== 0.012180659\n"
     ]
    },
    {
     "name": "stderr",
     "output_type": "stream",
     "text": [
      "\r",
      " 96%|█████████▌| 48/50 [10:09<00:25, 12.60s/it]"
     ]
    },
    {
     "name": "stdout",
     "output_type": "stream",
     "text": [
      "\n",
      "---> after epoch 47 the macro-F1 on dev set is 0.7028775289865278\n",
      "Accuracy is: 0.786046511627907\n",
      "learning rate 7.179586554468059e-05\n",
      "\n",
      "======epoch 48 loss====== 0.011305667\n"
     ]
    },
    {
     "name": "stderr",
     "output_type": "stream",
     "text": [
      "\r",
      " 98%|█████████▊| 49/50 [10:21<00:12, 12.53s/it]"
     ]
    },
    {
     "name": "stdout",
     "output_type": "stream",
     "text": [
      "\n",
      "---> after epoch 48 the macro-F1 on dev set is 0.6989502646690633\n",
      "Accuracy is: 0.7851744186046512\n",
      "learning rate 6.820607226744656e-05\n",
      "\n",
      "======epoch 49 loss====== 0.013029824\n"
     ]
    },
    {
     "name": "stderr",
     "output_type": "stream",
     "text": [
      "100%|██████████| 50/50 [10:33<00:00, 12.48s/it]\n",
      "  0%|          | 0/50 [00:00<?, ?it/s]"
     ]
    },
    {
     "name": "stdout",
     "output_type": "stream",
     "text": [
      "\n",
      "---> after epoch 49 the macro-F1 on dev set is 0.7082940066068901\n",
      "Accuracy is: 0.786046511627907\n",
      "learning rate 6.479576865407423e-05\n",
      "\n",
      "======epoch 0 loss====== 0.5559546\n"
     ]
    },
    {
     "name": "stderr",
     "output_type": "stream",
     "text": [
      "\r",
      "  2%|▏         | 1/50 [00:12<10:04, 12.34s/it]"
     ]
    },
    {
     "name": "stdout",
     "output_type": "stream",
     "text": [
      "\n",
      "---> after epoch 0 the macro-F1 on dev set is 0.682946558926842\n",
      "Accuracy is: 0.7683139534883721\n",
      "learning rate 0.0008\n",
      "\n",
      "======epoch 1 loss====== 0.47269914\n"
     ]
    },
    {
     "name": "stderr",
     "output_type": "stream",
     "text": [
      "\r",
      "  4%|▍         | 2/50 [00:24<09:50, 12.30s/it]"
     ]
    },
    {
     "name": "stdout",
     "output_type": "stream",
     "text": [
      "\n",
      "---> after epoch 1 the macro-F1 on dev set is 0.7002024598647882\n",
      "Accuracy is: 0.7811046511627907\n",
      "learning rate 0.00076\n",
      "\n",
      "======epoch 2 loss====== 0.41844264\n"
     ]
    },
    {
     "name": "stderr",
     "output_type": "stream",
     "text": [
      "\r",
      "  6%|▌         | 3/50 [00:37<09:40, 12.35s/it]"
     ]
    },
    {
     "name": "stdout",
     "output_type": "stream",
     "text": [
      "\n",
      "---> after epoch 2 the macro-F1 on dev set is 0.7040756713220739\n",
      "Accuracy is: 0.7883720930232558\n",
      "learning rate 0.000722\n",
      "\n",
      "======epoch 3 loss====== 0.3606931\n"
     ]
    },
    {
     "name": "stderr",
     "output_type": "stream",
     "text": [
      "\r",
      "  8%|▊         | 4/50 [00:49<09:31, 12.43s/it]"
     ]
    },
    {
     "name": "stdout",
     "output_type": "stream",
     "text": [
      "\n",
      "---> after epoch 3 the macro-F1 on dev set is 0.7121232736049077\n",
      "Accuracy is: 0.7816860465116279\n",
      "learning rate 0.0006858999999999999\n",
      "\n",
      "======epoch 4 loss====== 0.31295726\n"
     ]
    },
    {
     "name": "stderr",
     "output_type": "stream",
     "text": [
      "\r",
      " 10%|█         | 5/50 [01:02<09:24, 12.55s/it]"
     ]
    },
    {
     "name": "stdout",
     "output_type": "stream",
     "text": [
      "\n",
      "---> after epoch 4 the macro-F1 on dev set is 0.7251490171211161\n",
      "Accuracy is: 0.7802325581395348\n",
      "learning rate 0.0006516049999999999\n",
      "\n",
      "======epoch 5 loss====== 0.25600404\n"
     ]
    },
    {
     "name": "stderr",
     "output_type": "stream",
     "text": [
      "\r",
      " 12%|█▏        | 6/50 [01:15<09:16, 12.65s/it]"
     ]
    },
    {
     "name": "stdout",
     "output_type": "stream",
     "text": [
      "\n",
      "---> after epoch 5 the macro-F1 on dev set is 0.6732505807228546\n",
      "Accuracy is: 0.7822674418604652\n",
      "learning rate 0.0006190247499999999\n",
      "\n",
      "======epoch 6 loss====== 0.21185279\n"
     ]
    },
    {
     "name": "stderr",
     "output_type": "stream",
     "text": [
      "\r",
      " 14%|█▍        | 7/50 [01:28<09:06, 12.71s/it]"
     ]
    },
    {
     "name": "stdout",
     "output_type": "stream",
     "text": [
      "\n",
      "---> after epoch 6 the macro-F1 on dev set is 0.5572462020737883\n",
      "Accuracy is: 0.7517441860465116\n",
      "learning rate 0.0005880735124999998\n",
      "\n",
      "======epoch 7 loss====== 0.17600039\n"
     ]
    },
    {
     "name": "stderr",
     "output_type": "stream",
     "text": [
      "\r",
      " 16%|█▌        | 8/50 [01:41<08:56, 12.77s/it]"
     ]
    },
    {
     "name": "stdout",
     "output_type": "stream",
     "text": [
      "\n",
      "---> after epoch 7 the macro-F1 on dev set is 0.5384794205149385\n",
      "Accuracy is: 0.7476744186046511\n",
      "learning rate 0.0005586698368749998\n",
      "\n",
      "======epoch 8 loss====== 0.16129608\n"
     ]
    },
    {
     "name": "stderr",
     "output_type": "stream",
     "text": [
      "\r",
      " 18%|█▊        | 9/50 [01:54<08:45, 12.82s/it]"
     ]
    },
    {
     "name": "stdout",
     "output_type": "stream",
     "text": [
      "\n",
      "---> after epoch 8 the macro-F1 on dev set is 0.5843629005512574\n",
      "Accuracy is: 0.7607558139534883\n",
      "learning rate 0.0005307363450312497\n",
      "\n",
      "======epoch 9 loss====== 0.14703979\n"
     ]
    },
    {
     "name": "stderr",
     "output_type": "stream",
     "text": [
      "\r",
      " 20%|██        | 10/50 [02:06<08:33, 12.85s/it]"
     ]
    },
    {
     "name": "stdout",
     "output_type": "stream",
     "text": [
      "\n",
      "---> after epoch 9 the macro-F1 on dev set is 0.6463608946886724\n",
      "Accuracy is: 0.7787790697674418\n",
      "learning rate 0.0005041995277796872\n",
      "\n",
      "======epoch 10 loss====== 0.14437854\n"
     ]
    },
    {
     "name": "stderr",
     "output_type": "stream",
     "text": [
      "\r",
      " 22%|██▏       | 11/50 [02:19<08:22, 12.87s/it]"
     ]
    },
    {
     "name": "stdout",
     "output_type": "stream",
     "text": [
      "\n",
      "---> after epoch 10 the macro-F1 on dev set is 0.69032560612817\n",
      "Accuracy is: 0.7875\n",
      "learning rate 0.0004789895513907029\n",
      "\n",
      "======epoch 11 loss====== 0.11657817\n"
     ]
    },
    {
     "name": "stderr",
     "output_type": "stream",
     "text": [
      "\r",
      " 24%|██▍       | 12/50 [02:32<08:11, 12.93s/it]"
     ]
    },
    {
     "name": "stdout",
     "output_type": "stream",
     "text": [
      "\n",
      "---> after epoch 11 the macro-F1 on dev set is 0.6540796163642946\n",
      "Accuracy is: 0.7799418604651163\n",
      "learning rate 0.0004550400738211677\n",
      "\n",
      "======epoch 12 loss====== 0.09748359\n"
     ]
    },
    {
     "name": "stderr",
     "output_type": "stream",
     "text": [
      "\r",
      " 26%|██▌       | 13/50 [02:45<07:58, 12.92s/it]"
     ]
    },
    {
     "name": "stdout",
     "output_type": "stream",
     "text": [
      "\n",
      "---> after epoch 12 the macro-F1 on dev set is 0.6973972408187417\n",
      "Accuracy is: 0.791860465116279\n",
      "learning rate 0.0004322880701301093\n",
      "\n",
      "======epoch 13 loss====== 0.06738749\n"
     ]
    },
    {
     "name": "stderr",
     "output_type": "stream",
     "text": [
      "\r",
      " 28%|██▊       | 14/50 [02:58<07:45, 12.94s/it]"
     ]
    },
    {
     "name": "stdout",
     "output_type": "stream",
     "text": [
      "\n",
      "---> after epoch 13 the macro-F1 on dev set is 0.7185146191014561\n",
      "Accuracy is: 0.7906976744186046\n",
      "learning rate 0.00041067366662360383\n",
      "\n",
      "======epoch 14 loss====== 0.057721853\n"
     ]
    },
    {
     "name": "stderr",
     "output_type": "stream",
     "text": [
      "\r",
      " 30%|███       | 15/50 [03:11<07:32, 12.93s/it]"
     ]
    },
    {
     "name": "stdout",
     "output_type": "stream",
     "text": [
      "\n",
      "---> after epoch 14 the macro-F1 on dev set is 0.7214894011444788\n",
      "Accuracy is: 0.7912790697674419\n",
      "learning rate 0.0003901399832924236\n",
      "\n",
      "======epoch 15 loss====== 0.04773876\n"
     ]
    },
    {
     "name": "stderr",
     "output_type": "stream",
     "text": [
      "\r",
      " 32%|███▏      | 16/50 [03:24<07:19, 12.92s/it]"
     ]
    },
    {
     "name": "stdout",
     "output_type": "stream",
     "text": [
      "\n",
      "---> after epoch 15 the macro-F1 on dev set is 0.716081851876512\n",
      "Accuracy is: 0.7924418604651163\n",
      "learning rate 0.00037063298412780244\n",
      "\n",
      "======epoch 16 loss====== 0.041073468\n"
     ]
    },
    {
     "name": "stderr",
     "output_type": "stream",
     "text": [
      "\r",
      " 34%|███▍      | 17/50 [03:37<07:06, 12.91s/it]"
     ]
    },
    {
     "name": "stdout",
     "output_type": "stream",
     "text": [
      "\n",
      "---> after epoch 16 the macro-F1 on dev set is 0.7218520819030807\n",
      "Accuracy is: 0.7843023255813953\n",
      "learning rate 0.0003521013349214123\n",
      "\n",
      "======epoch 17 loss====== 0.037861142\n"
     ]
    },
    {
     "name": "stderr",
     "output_type": "stream",
     "text": [
      "\r",
      " 36%|███▌      | 18/50 [03:50<06:51, 12.87s/it]"
     ]
    },
    {
     "name": "stdout",
     "output_type": "stream",
     "text": [
      "\n",
      "---> after epoch 17 the macro-F1 on dev set is 0.7180499195895855\n",
      "Accuracy is: 0.7819767441860465\n",
      "learning rate 0.0003344962681753417\n",
      "\n",
      "======epoch 18 loss====== 0.03623816\n"
     ]
    },
    {
     "name": "stderr",
     "output_type": "stream",
     "text": [
      "\r",
      " 38%|███▊      | 19/50 [04:02<06:36, 12.80s/it]"
     ]
    },
    {
     "name": "stdout",
     "output_type": "stream",
     "text": [
      "\n",
      "---> after epoch 18 the macro-F1 on dev set is 0.7229230924938044\n",
      "Accuracy is: 0.7892441860465116\n",
      "learning rate 0.00031777145476657455\n",
      "\n",
      "======epoch 19 loss====== 0.03629627\n"
     ]
    },
    {
     "name": "stderr",
     "output_type": "stream",
     "text": [
      "\r",
      " 40%|████      | 20/50 [04:15<06:23, 12.78s/it]"
     ]
    },
    {
     "name": "stdout",
     "output_type": "stream",
     "text": [
      "\n",
      "---> after epoch 19 the macro-F1 on dev set is 0.7202524654679789\n",
      "Accuracy is: 0.7799418604651163\n",
      "learning rate 0.0003018828820282458\n",
      "\n",
      "======epoch 20 loss====== 0.035004817\n"
     ]
    },
    {
     "name": "stderr",
     "output_type": "stream",
     "text": [
      "\r",
      " 42%|████▏     | 21/50 [04:28<06:10, 12.77s/it]"
     ]
    },
    {
     "name": "stdout",
     "output_type": "stream",
     "text": [
      "\n",
      "---> after epoch 20 the macro-F1 on dev set is 0.7170530059836502\n",
      "Accuracy is: 0.7741279069767442\n",
      "learning rate 0.0002867887379268335\n",
      "\n",
      "======epoch 21 loss====== 0.028665531\n"
     ]
    },
    {
     "name": "stderr",
     "output_type": "stream",
     "text": [
      "\r",
      " 44%|████▍     | 22/50 [04:41<05:57, 12.76s/it]"
     ]
    },
    {
     "name": "stdout",
     "output_type": "stream",
     "text": [
      "\n",
      "---> after epoch 21 the macro-F1 on dev set is 0.7236060073161734\n",
      "Accuracy is: 0.7811046511627907\n",
      "learning rate 0.00027244930103049184\n",
      "\n",
      "======epoch 22 loss====== 0.028259514\n"
     ]
    },
    {
     "name": "stderr",
     "output_type": "stream",
     "text": [
      "\r",
      " 46%|████▌     | 23/50 [04:53<05:45, 12.78s/it]"
     ]
    },
    {
     "name": "stdout",
     "output_type": "stream",
     "text": [
      "\n",
      "---> after epoch 22 the macro-F1 on dev set is 0.7209906012264394\n",
      "Accuracy is: 0.773546511627907\n",
      "learning rate 0.00025882683597896724\n",
      "\n",
      "======epoch 23 loss====== 0.026310625\n"
     ]
    },
    {
     "name": "stderr",
     "output_type": "stream",
     "text": [
      "\r",
      " 48%|████▊     | 24/50 [05:06<05:31, 12.77s/it]"
     ]
    },
    {
     "name": "stdout",
     "output_type": "stream",
     "text": [
      "\n",
      "---> after epoch 23 the macro-F1 on dev set is 0.723138832997988\n",
      "Accuracy is: 0.7779069767441861\n",
      "learning rate 0.00024588549418001884\n",
      "\n",
      "======epoch 24 loss====== 0.02360463\n"
     ]
    },
    {
     "name": "stderr",
     "output_type": "stream",
     "text": [
      "\r",
      " 50%|█████     | 25/50 [05:19<05:17, 12.72s/it]"
     ]
    },
    {
     "name": "stdout",
     "output_type": "stream",
     "text": [
      "\n",
      "---> after epoch 24 the macro-F1 on dev set is 0.7230703897124888\n",
      "Accuracy is: 0.7866279069767442\n",
      "learning rate 0.0002335912194710179\n",
      "\n",
      "======epoch 25 loss====== 0.023915714\n"
     ]
    },
    {
     "name": "stderr",
     "output_type": "stream",
     "text": [
      "\r",
      " 52%|█████▏    | 26/50 [05:32<05:05, 12.71s/it]"
     ]
    },
    {
     "name": "stdout",
     "output_type": "stream",
     "text": [
      "\n",
      "---> after epoch 25 the macro-F1 on dev set is 0.7218520819030807\n",
      "Accuracy is: 0.7843023255813953\n",
      "learning rate 0.000221911658497467\n",
      "\n",
      "======epoch 26 loss====== 0.024974892\n"
     ]
    },
    {
     "name": "stderr",
     "output_type": "stream",
     "text": [
      "\r",
      " 54%|█████▍    | 27/50 [05:44<04:50, 12.65s/it]"
     ]
    },
    {
     "name": "stdout",
     "output_type": "stream",
     "text": [
      "\n",
      "---> after epoch 26 the macro-F1 on dev set is 0.7232088462820556\n",
      "Accuracy is: 0.7822674418604652\n",
      "learning rate 0.00021081607557259363\n",
      "\n",
      "======epoch 27 loss====== 0.021824457\n"
     ]
    },
    {
     "name": "stderr",
     "output_type": "stream",
     "text": [
      "\r",
      " 56%|█████▌    | 28/50 [05:57<04:37, 12.62s/it]"
     ]
    },
    {
     "name": "stdout",
     "output_type": "stream",
     "text": [
      "\n",
      "---> after epoch 27 the macro-F1 on dev set is 0.7251649574212469\n",
      "Accuracy is: 0.7825581395348837\n",
      "learning rate 0.00020027527179396394\n",
      "\n",
      "======epoch 28 loss====== 0.020031348\n"
     ]
    },
    {
     "name": "stderr",
     "output_type": "stream",
     "text": [
      "\r",
      " 58%|█████▊    | 29/50 [06:09<04:25, 12.66s/it]"
     ]
    },
    {
     "name": "stdout",
     "output_type": "stream",
     "text": [
      "\n",
      "---> after epoch 28 the macro-F1 on dev set is 0.7244589597762637\n",
      "Accuracy is: 0.7866279069767442\n",
      "learning rate 0.00019026150820426573\n",
      "\n",
      "======epoch 29 loss====== 0.01936083\n"
     ]
    },
    {
     "name": "stderr",
     "output_type": "stream",
     "text": [
      "\r",
      " 60%|██████    | 30/50 [06:22<04:12, 12.63s/it]"
     ]
    },
    {
     "name": "stdout",
     "output_type": "stream",
     "text": [
      "\n",
      "---> after epoch 29 the macro-F1 on dev set is 0.7226688879867704\n",
      "Accuracy is: 0.7866279069767442\n",
      "learning rate 0.00018074843279405244\n",
      "\n",
      "======epoch 30 loss====== 0.021418734\n"
     ]
    },
    {
     "name": "stderr",
     "output_type": "stream",
     "text": [
      "\r",
      " 62%|██████▏   | 31/50 [06:34<03:58, 12.56s/it]"
     ]
    },
    {
     "name": "stdout",
     "output_type": "stream",
     "text": [
      "\n",
      "---> after epoch 30 the macro-F1 on dev set is 0.7219826387856202\n",
      "Accuracy is: 0.7819767441860465\n",
      "learning rate 0.0001717110111543498\n",
      "\n",
      "======epoch 31 loss====== 0.01928899\n"
     ]
    },
    {
     "name": "stderr",
     "output_type": "stream",
     "text": [
      "\r",
      " 64%|██████▍   | 32/50 [06:47<03:45, 12.50s/it]"
     ]
    },
    {
     "name": "stdout",
     "output_type": "stream",
     "text": [
      "\n",
      "---> after epoch 31 the macro-F1 on dev set is 0.7213785743826311\n",
      "Accuracy is: 0.7863372093023255\n",
      "learning rate 0.0001631254605966323\n",
      "\n",
      "======epoch 32 loss====== 0.019133348\n"
     ]
    },
    {
     "name": "stderr",
     "output_type": "stream",
     "text": [
      "\r",
      " 66%|██████▌   | 33/50 [06:59<03:31, 12.46s/it]"
     ]
    },
    {
     "name": "stdout",
     "output_type": "stream",
     "text": [
      "\n",
      "---> after epoch 32 the macro-F1 on dev set is 0.7193183374597139\n",
      "Accuracy is: 0.7892441860465116\n",
      "learning rate 0.0001549691875668007\n",
      "\n",
      "======epoch 33 loss====== 0.017833559\n"
     ]
    },
    {
     "name": "stderr",
     "output_type": "stream",
     "text": [
      "\r",
      " 68%|██████▊   | 34/50 [07:11<03:18, 12.42s/it]"
     ]
    },
    {
     "name": "stdout",
     "output_type": "stream",
     "text": [
      "\n",
      "---> after epoch 33 the macro-F1 on dev set is 0.7185122648275444\n",
      "Accuracy is: 0.7875\n",
      "learning rate 0.00014722072818846064\n",
      "\n",
      "======epoch 34 loss====== 0.0147727495\n"
     ]
    },
    {
     "name": "stderr",
     "output_type": "stream",
     "text": [
      "\r",
      " 70%|███████   | 35/50 [07:24<03:06, 12.41s/it]"
     ]
    },
    {
     "name": "stdout",
     "output_type": "stream",
     "text": [
      "\n",
      "---> after epoch 34 the macro-F1 on dev set is 0.720860330608944\n",
      "Accuracy is: 0.7924418604651163\n",
      "learning rate 0.0001398596917790376\n",
      "\n",
      "======epoch 35 loss====== 0.018045522\n"
     ]
    },
    {
     "name": "stderr",
     "output_type": "stream",
     "text": [
      "\r",
      " 72%|███████▏  | 36/50 [07:36<02:54, 12.48s/it]"
     ]
    },
    {
     "name": "stdout",
     "output_type": "stream",
     "text": [
      "\n",
      "---> after epoch 35 the macro-F1 on dev set is 0.7189572514407425\n",
      "Accuracy is: 0.7866279069767442\n",
      "learning rate 0.00013286670719008572\n",
      "\n",
      "======epoch 36 loss====== 0.01535328\n"
     ]
    },
    {
     "name": "stderr",
     "output_type": "stream",
     "text": [
      "\r",
      " 74%|███████▍  | 37/50 [07:49<02:42, 12.48s/it]"
     ]
    },
    {
     "name": "stdout",
     "output_type": "stream",
     "text": [
      "\n",
      "---> after epoch 36 the macro-F1 on dev set is 0.7114223807837704\n",
      "Accuracy is: 0.7880813953488373\n",
      "learning rate 0.00012622337183058142\n",
      "\n",
      "======epoch 37 loss====== 0.013538135\n"
     ]
    },
    {
     "name": "stderr",
     "output_type": "stream",
     "text": [
      "\r",
      " 76%|███████▌  | 38/50 [08:01<02:29, 12.43s/it]"
     ]
    },
    {
     "name": "stdout",
     "output_type": "stream",
     "text": [
      "\n",
      "---> after epoch 37 the macro-F1 on dev set is 0.7217374516166659\n",
      "Accuracy is: 0.7895348837209303\n",
      "learning rate 0.00011991220323905235\n",
      "\n",
      "======epoch 38 loss====== 0.016740683\n"
     ]
    },
    {
     "name": "stderr",
     "output_type": "stream",
     "text": [
      "\r",
      " 78%|███████▊  | 39/50 [08:13<02:16, 12.39s/it]"
     ]
    },
    {
     "name": "stdout",
     "output_type": "stream",
     "text": [
      "\n",
      "---> after epoch 38 the macro-F1 on dev set is 0.7168336924673073\n",
      "Accuracy is: 0.7901162790697674\n",
      "learning rate 0.00011391659307709973\n",
      "\n",
      "======epoch 39 loss====== 0.014407604\n"
     ]
    },
    {
     "name": "stderr",
     "output_type": "stream",
     "text": [
      "\r",
      " 80%|████████  | 40/50 [08:26<02:03, 12.34s/it]"
     ]
    },
    {
     "name": "stdout",
     "output_type": "stream",
     "text": [
      "\n",
      "---> after epoch 39 the macro-F1 on dev set is 0.7185049622406758\n",
      "Accuracy is: 0.7895348837209303\n",
      "learning rate 0.00010822076342324474\n",
      "\n",
      "======epoch 40 loss====== 0.015143465\n"
     ]
    },
    {
     "name": "stderr",
     "output_type": "stream",
     "text": [
      "\r",
      " 82%|████████▏ | 41/50 [08:38<01:50, 12.33s/it]"
     ]
    },
    {
     "name": "stdout",
     "output_type": "stream",
     "text": [
      "\n",
      "---> after epoch 40 the macro-F1 on dev set is 0.7236530349999157\n",
      "Accuracy is: 0.7880813953488373\n",
      "learning rate 0.0001028097252520825\n",
      "\n",
      "======epoch 41 loss====== 0.0144434655\n"
     ]
    },
    {
     "name": "stderr",
     "output_type": "stream",
     "text": [
      "\r",
      " 84%|████████▍ | 42/50 [08:50<01:38, 12.33s/it]"
     ]
    },
    {
     "name": "stdout",
     "output_type": "stream",
     "text": [
      "\n",
      "---> after epoch 41 the macro-F1 on dev set is 0.712506923838014\n",
      "Accuracy is: 0.7906976744186046\n",
      "learning rate 9.766923898947837e-05\n",
      "\n",
      "======epoch 42 loss====== 0.011899552\n"
     ]
    },
    {
     "name": "stderr",
     "output_type": "stream",
     "text": [
      "\r",
      " 86%|████████▌ | 43/50 [09:03<01:26, 12.33s/it]"
     ]
    },
    {
     "name": "stdout",
     "output_type": "stream",
     "text": [
      "\n",
      "---> after epoch 42 the macro-F1 on dev set is 0.7175065322881673\n",
      "Accuracy is: 0.788953488372093\n",
      "learning rate 9.278577704000444e-05\n",
      "\n",
      "======epoch 43 loss====== 0.014373357\n"
     ]
    },
    {
     "name": "stderr",
     "output_type": "stream",
     "text": [
      "\r",
      " 88%|████████▊ | 44/50 [09:15<01:13, 12.31s/it]"
     ]
    },
    {
     "name": "stdout",
     "output_type": "stream",
     "text": [
      "\n",
      "---> after epoch 43 the macro-F1 on dev set is 0.7140189443692095\n",
      "Accuracy is: 0.7912790697674419\n",
      "learning rate 8.814648818800422e-05\n",
      "\n",
      "======epoch 44 loss====== 0.014345756\n"
     ]
    },
    {
     "name": "stderr",
     "output_type": "stream",
     "text": [
      "\r",
      " 90%|█████████ | 45/50 [09:27<01:01, 12.32s/it]"
     ]
    },
    {
     "name": "stdout",
     "output_type": "stream",
     "text": [
      "\n",
      "---> after epoch 44 the macro-F1 on dev set is 0.7156121535927794\n",
      "Accuracy is: 0.7924418604651163\n",
      "learning rate 8.3739163778604e-05\n",
      "\n",
      "======epoch 45 loss====== 0.012612525\n"
     ]
    },
    {
     "name": "stderr",
     "output_type": "stream",
     "text": [
      "\r",
      " 92%|█████████▏| 46/50 [09:40<00:49, 12.35s/it]"
     ]
    },
    {
     "name": "stdout",
     "output_type": "stream",
     "text": [
      "\n",
      "---> after epoch 45 the macro-F1 on dev set is 0.7135047416114644\n",
      "Accuracy is: 0.7927325581395349\n",
      "learning rate 7.95522055896738e-05\n",
      "\n",
      "======epoch 46 loss====== 0.01318202\n"
     ]
    },
    {
     "name": "stderr",
     "output_type": "stream",
     "text": [
      "\r",
      " 94%|█████████▍| 47/50 [09:52<00:37, 12.36s/it]"
     ]
    },
    {
     "name": "stdout",
     "output_type": "stream",
     "text": [
      "\n",
      "---> after epoch 46 the macro-F1 on dev set is 0.7117855148017129\n",
      "Accuracy is: 0.7906976744186046\n",
      "learning rate 7.55745953101901e-05\n",
      "\n",
      "======epoch 47 loss====== 0.012910545\n"
     ]
    },
    {
     "name": "stderr",
     "output_type": "stream",
     "text": [
      "\r",
      " 96%|█████████▌| 48/50 [10:05<00:24, 12.39s/it]"
     ]
    },
    {
     "name": "stdout",
     "output_type": "stream",
     "text": [
      "\n",
      "---> after epoch 47 the macro-F1 on dev set is 0.715333249048927\n",
      "Accuracy is: 0.7906976744186046\n",
      "learning rate 7.179586554468059e-05\n",
      "\n",
      "======epoch 48 loss====== 0.0105918925\n"
     ]
    },
    {
     "name": "stderr",
     "output_type": "stream",
     "text": [
      "\r",
      " 98%|█████████▊| 49/50 [10:17<00:12, 12.40s/it]"
     ]
    },
    {
     "name": "stdout",
     "output_type": "stream",
     "text": [
      "\n",
      "---> after epoch 48 the macro-F1 on dev set is 0.7183471651093749\n",
      "Accuracy is: 0.7909883720930233\n",
      "learning rate 6.820607226744656e-05\n",
      "\n",
      "======epoch 49 loss====== 0.012230627\n"
     ]
    },
    {
     "name": "stderr",
     "output_type": "stream",
     "text": [
      "\r",
      "100%|██████████| 50/50 [10:29<00:00, 12.38s/it]"
     ]
    },
    {
     "name": "stdout",
     "output_type": "stream",
     "text": [
      "\n",
      "---> after epoch 49 the macro-F1 on dev set is 0.704136922679969\n",
      "Accuracy is: 0.7892441860465116\n",
      "learning rate 6.479576865407423e-05\n"
     ]
    },
    {
     "name": "stderr",
     "output_type": "stream",
     "text": [
      "\n"
     ]
    }
   ],
   "source": [
    "# training the CNN model\n",
    "\n",
    "best_f1 = -1.\n",
    "#best_model = None\n",
    "import copy\n",
    "import numpy as np\n",
    "from sklearn.metrics import precision_recall_fscore_support\n",
    "from nltk.tokenize import word_tokenize\n",
    "from tqdm import tqdm\n",
    "\n",
    "f1_f1_list = []\n",
    "for train_docs, dev_docs, train_labels, dev_labels in zip(train_docs_list , dev_docs_list , train_labels_list ,dev_labels_list):\n",
    "  f1_list = []\n",
    "  #***********************************************************#\n",
    "  ## We vary the below values.\n",
    "  dropout_rate = 0.5 # dropout rate\n",
    "  filter_sizes = [1,2,3,4, 5, 6]\n",
    "  filter_nums = [200]*len(filter_sizes)\n",
    "\n",
    "  # hyper parameters\n",
    "  n_epochs = 50 # number of epoch (i.e. number of iterations)\n",
    "  batch_size = 50\n",
    "  lr = 0.0008\n",
    "\n",
    "  #************************************************************#\n",
    "  gpu = True # whether use gpu to accelerate the training\n",
    "  model = CNN_Clf(word_vec_dim, filter_sizes, filter_nums, 2, dropout_rate, gpu)\n",
    "  loss_fnc = torch.nn.CrossEntropyLoss() # cross entropy loss\n",
    "\n",
    "# init optimizer and scheduler (lr adjustor)\n",
    "  import torch.optim as optim\n",
    "  optimizer = optim.Adam(params=model.parameters(), lr=lr) # use Adam as the optimizer\n",
    "  scheduler = torch.optim.lr_scheduler.StepLR(optimizer, step_size=1, gamma=0.95) # after each epoch, the learning rate is discounted to its 95%\n",
    "  for epoch_i in tqdm(range(n_epochs)):\n",
    "      # the inner loop is over the batches in the dataset\n",
    "      model.train() # let pytorch know that gradients should be computed, so as to update the model\n",
    "      ep_loss = []\n",
    "      for idx in range(0,len(train_docs),batch_size):\n",
    "          # Step 0: Get the data\n",
    "          x_data = build_mini_batch(train_docs[idx:idx+batch_size], word_vectors)\n",
    "          if x_data.shape[0] == 0: continue # to avoid empty batch\n",
    "          y_target = torch.tensor([train_labels[idx:idx+batch_size]], dtype=torch.int64).squeeze()\n",
    "          if gpu:\n",
    "              y_target = y_target.to('cuda')\n",
    "          \n",
    "          # Step 1: Clear the gradients \n",
    "          optimizer.zero_grad()\n",
    "\n",
    "          # Step 2: Compute the forward pass of the model\n",
    "          x_tensor = torch.tensor(x_data, dtype=torch.float)\n",
    "          if gpu:\n",
    "              x_tensor = x_tensor.to('cuda')\n",
    "          y_pred = model(x_tensor)\n",
    "          pred_labels = [np.argmax(entry) for entry in y_pred.cpu().detach().numpy()]\n",
    "          # print('pred labels', pred_labels)\n",
    "          # print('true labels', y_target)\n",
    "\n",
    "          # Step 3: Compute the loss value that we wish to optimize\n",
    "          loss = loss_fnc(y_pred, y_target)\n",
    "          # print(loss)\n",
    "          ep_loss.append(loss.cpu().detach().numpy())\n",
    "\n",
    "          # Step 4: Propagate the loss signal backward\n",
    "          loss.backward()\n",
    "\n",
    "          # Step 5: Trigger the optimizer to perform one update\n",
    "          optimizer.step()\n",
    "      \n",
    "      print('\\n======epoch {} loss======'.format(epoch_i),np.mean(ep_loss))\n",
    "      \n",
    "      # after each epoch, we can test the model's performance on the dev set\n",
    "      with torch.no_grad(): # let pytorch know that no gradient should be computed\n",
    "          model.eval() # let the model know that it in test mode, i.e. no gradient and no dropout\n",
    "          dev_predictions = []\n",
    "          for idx in range(0,len(dev_docs),batch_size):\n",
    "              x_data = build_mini_batch(dev_docs[idx:idx+batch_size], word_vectors)\n",
    "              if x_data.shape[0] == 0: continue # to avoid empty batch\n",
    "              x_tensor = torch.tensor(x_data, dtype=torch.float)\n",
    "              if gpu:\n",
    "                  x_tensor = x_tensor.to('cuda')\n",
    "              y_pred = model(x_tensor).cpu().detach().numpy()\n",
    "              pred_labels = [np.argmax(entry) for entry in y_pred]\n",
    "              dev_predictions += pred_labels\n",
    "              # print(pred_labels)\n",
    "          pre, rec, f1, _ = precision_recall_fscore_support(dev_labels, dev_predictions,average='macro')\n",
    "          f1_list.append([f1])\n",
    "          print('\\n---> after epoch {} the macro-F1 on dev set is {}'.format(epoch_i, f1))\n",
    "          print(\"Accuracy is:\", np.sum(np.array(dev_labels) == np.array(dev_predictions))/len(dev_labels))\n",
    "          for param_group in optimizer.param_groups:\n",
    "              print('learning rate', param_group['lr'])\n",
    "          \n",
    "          # save the best model. NOTE: Just because the model yields the highest f1_score does not mean we will use this model. \n",
    "          if f1 > best_f1:\n",
    "              best_f1 = f1\n",
    "              best_model = copy.deepcopy(model.state_dict())\n",
    "              print('best model updated; new best macro-F1',f1)\n",
    "      \n",
    "      # (optional) adjust learning rate according to the scheduler\n",
    "      scheduler.step()\n",
    "      f1_f1_list.append([f1_list])"
   ]
  },
  {
   "cell_type": "markdown",
   "metadata": {
    "colab_type": "text",
    "id": "J8-TxDm0E0u3"
   },
   "source": [
    "These are the average values obtained for randomly initiated variations of the CNN. The parameters are specified in the array names. If you look carefully, the best values are obtained by \"six_filters_lr_08_batch_50_with_titles.\""
   ]
  },
  {
   "cell_type": "code",
   "execution_count": 0,
   "metadata": {
    "colab": {},
    "colab_type": "code",
    "id": "7D_qGTvInR4z"
   },
   "outputs": [],
   "source": [
    "epochs = np.array([range(50)])\n",
    "five_filters = np.array([[0.689159  , 0.69357333, 0.69597384, 0.69764266, 0.67157637,\n",
    "        0.62491282, 0.68915813, 0.67991502, 0.67027722, 0.68323764,\n",
    "        0.68964119, 0.68214578, 0.68626741, 0.6859088 , 0.68320797,\n",
    "        0.69024449, 0.68754711, 0.69185463, 0.69283982, 0.69785673,\n",
    "        0.69668003, 0.69698868, 0.69765664, 0.6973613 , 0.69536757,\n",
    "        0.69530517, 0.6965039 , 0.69620609, 0.69802279, 0.69503855,\n",
    "        0.69431653, 0.69090956, 0.69518669, 0.69564008, 0.6945968 ,\n",
    "        0.69311983, 0.69073361, 0.69419104, 0.69302332, 0.69263434,\n",
    "        0.69181805, 0.69314051, 0.69511627, 0.69047736, 0.69194712,\n",
    "        0.69071395, 0.69028273, 0.69213113, 0.69233486, 0.69232727]])\n",
    "\n",
    "six_filters_lr_008_batch_50 = np.array([[0.68500073, 0.69899023, 0.70056773, 0.6927544 , 0.66689909,\n",
    "        0.64322888, 0.69751431, 0.67316237, 0.67603439, 0.68588956,\n",
    "        0.6932878 , 0.6931877 , 0.68920708, 0.69395561, 0.68693265,\n",
    "        0.68712024, 0.68980793, 0.69307177, 0.7006853 , 0.70021024,\n",
    "        0.70034554, 0.69935364, 0.697158  , 0.6972721 , 0.69803559,\n",
    "        0.69549073, 0.69302631, 0.69559636, 0.69119961, 0.69225074,\n",
    "        0.69497962, 0.69059953, 0.69385182, 0.69344728, 0.69520026,\n",
    "        0.6906246 , 0.69289845, 0.69202982, 0.68819023, 0.68931833,\n",
    "        0.690668  , 0.68749313, 0.69170477, 0.68859991, 0.68875499,\n",
    "        0.6900046 , 0.69005655, 0.69090709, 0.69350965, 0.69165816]])\n",
    "\n",
    "seven_filters_lr_008_batch_50 = np.array([[0.6973593 , 0.69784008, 0.69209882, 0.68888244, 0.66014157,\n",
    "        0.62189435, 0.68234263, 0.67607749, 0.68539087, 0.68747895,\n",
    "        0.68282647, 0.68720445, 0.69048791, 0.68900428, 0.68686468,\n",
    "        0.68621498, 0.69482772, 0.69387339, 0.69898552, 0.69763695,\n",
    "        0.69441281, 0.69880482, 0.69727439, 0.69205625, 0.69412439,\n",
    "        0.69692509, 0.69302184, 0.69232068, 0.6923811 , 0.69098792,\n",
    "        0.69309427, 0.69325396, 0.69616843, 0.6909174 , 0.69322357,\n",
    "        0.68902064, 0.69106003, 0.69128901, 0.68976439, 0.69019868,\n",
    "        0.69005782, 0.68709626, 0.68853987, 0.69079922, 0.69150608,\n",
    "        0.68848421, 0.69055365, 0.68870067, 0.69183818, 0.69015231]])\n",
    "\n",
    "four_filters_lr_01_batch_50 = np.array([[0.65187231, 0.68235541, 0.68857301, 0.69517986, 0.68412579,\n",
    "        0.68876921, 0.69002847, 0.68879767, 0.68643359, 0.67888545,\n",
    "        0.6886914 , 0.68552557, 0.69314347, 0.69596572, 0.70004325,\n",
    "        0.69251213, 0.69036232, 0.68999764, 0.69488578, 0.69346013,\n",
    "        0.69977065, 0.69754837, 0.69974837, 0.697533  , 0.7001609 ,\n",
    "        0.69757931, 0.69890824, 0.6987574 , 0.69465927, 0.69555185,\n",
    "        0.69408881, 0.69361634, 0.69738774, 0.69449793, 0.69505946,\n",
    "        0.69426051, 0.69351686, 0.69627958, 0.69376742, 0.69342413,\n",
    "        0.68790398, 0.6886532 , 0.6894754 , 0.69458703, 0.69185755,\n",
    "        0.69026041, 0.68985654, 0.69012765, 0.6938733 , 0.69205482]])\n",
    "\n",
    "six_filters_lr_07_batch_32 = np.array([[0.69321048, 0.69847867, 0.7029722 , 0.69676731, 0.68592319,\n",
    "        0.68236842, 0.68922581, 0.67007352, 0.65715114, 0.67091185,\n",
    "        0.68389083, 0.68495409, 0.68477494, 0.68604563, 0.69219954,\n",
    "        0.68164825, 0.68764537, 0.68415545, 0.68398868, 0.69241245,\n",
    "        0.68755449, 0.68775114, 0.69358905, 0.69065146, 0.69091458,\n",
    "        0.69208852, 0.69646967, 0.69299135, 0.69506155, 0.69535793,\n",
    "        0.69613586, 0.69612512, 0.69173532, 0.69637159, 0.69474492,\n",
    "        0.69274966, 0.69491336, 0.69240122, 0.69500427, 0.69413387,\n",
    "        0.69241552, 0.69150962, 0.69254817, 0.69515819, 0.68906508,\n",
    "        0.68934905, 0.68882911, 0.68756043, 0.68908689, 0.69127369]])\n",
    "\n",
    "\n",
    "## This yields the best result: By concatenating the titles and doc data and using the combination of parameters as specified below,\n",
    "## we can obtain ~ 71.11 f1 score and a steady ~70 f1 score across many epochs.\n",
    "six_filters_lr_08_batch_50_with_titles = np.array([[0.6867197 , 0.70250532, 0.70644734, 0.69383334, 0.67238293,\n",
    "        0.65560372, 0.64251847, 0.66466363, 0.65608042, 0.68243905,\n",
    "        0.70993472, 0.70320015, 0.69546404, 0.69001629, 0.69252853,\n",
    "        0.69386414, 0.69832086, 0.69930148, 0.70749678, 0.71142634,\n",
    "        0.70760391, 0.70871986, 0.70680673, 0.70517363, 0.70533372,\n",
    "        0.7078145 , 0.70522261, 0.71173592, 0.70498664, 0.70528113,\n",
    "        0.69974197, 0.70511361, 0.69797336, 0.6995155 , 0.70091249,\n",
    "        0.69899868, 0.69536061, 0.69537984, 0.69450365, 0.70003994,\n",
    "        0.69547929, 0.69775505, 0.6958497 , 0.69335255, 0.69686976,\n",
    "        0.69893437, 0.69459692, 0.69629818, 0.69685906, 0.69721838]])"
   ]
  },
  {
   "cell_type": "markdown",
   "metadata": {
    "colab_type": "text",
    "id": "V_QYkG36zCj1"
   },
   "source": [
    "The array below has the f1 scores across 50 epochs for the following parameters:\n",
    "#### - lr = 0.08\n",
    "#### - batch_size = 50\n",
    "#### - filters = 200 for each kernel\n",
    "#### - kernels = [1,2,3,4,5,6]\n"
   ]
  },
  {
   "cell_type": "code",
   "execution_count": 134,
   "metadata": {
    "colab": {
     "base_uri": "https://localhost:8080/",
     "height": 451
    },
    "colab_type": "code",
    "id": "mf2rbEFzzasN",
    "outputId": "59abce4a-dcd1-4664-d710-b3ce90dd5813"
   },
   "outputs": [
    {
     "data": {
      "text/plain": [
       "array([0.61043934, 0.61909549, 0.61535965, 0.61039372, 0.61084116,\n",
       "       0.65007571, 0.68809939, 0.71741769, 0.70857105, 0.70611819,\n",
       "       0.68449159, 0.68515931, 0.68315048, 0.70519115, 0.69133572,\n",
       "       0.71737015, 0.71020724, 0.67302705, 0.65923203, 0.66069348,\n",
       "       0.6350334 , 0.63028873, 0.65992593, 0.6389408 , 0.67545235,\n",
       "       0.68077545, 0.68560782, 0.70130023, 0.68650782, 0.68778363,\n",
       "       0.69722574, 0.69190111, 0.69431992, 0.69271471, 0.68442013,\n",
       "       0.68743463, 0.6847871 , 0.67289349, 0.67978738, 0.6647929 ,\n",
       "       0.69406177, 0.67206376, 0.69190111, 0.66333309, 0.67262454,\n",
       "       0.65878469, 0.671772  , 0.67399862, 0.67098749, 0.67329582])"
      ]
     },
     "execution_count": 134,
     "metadata": {
      "tags": []
     },
     "output_type": "execute_result"
    },
    {
     "data": {
      "image/png": "[encoded data removed]",
      "text/plain": [
       "<Figure size 432x288 with 1 Axes>"
      ]
     },
     "metadata": {
      "tags": []
     },
     "output_type": "display_data"
    }
   ],
   "source": [
    "## This yields the best result: By concatenating the titles and doc data and using the combination of parameters as specified below,\n",
    "## we can obtain ~ 71.11 f1 score and a steady ~70 f1 score across many epochs.\n",
    "u = np.array((f1_f1_list[49][0])).reshape(1,50)[0]\n",
    "v = np.array((f1_f1_list[99][0])).reshape(1,50)[0]\n",
    "w = np.array((f1_f1_list[149][0])).reshape(1,50)[0]\n",
    "x = np.array((f1_f1_list[199][0])).reshape(1,50)[0]\n",
    "y = np.array((f1_f1_list[249][0])).reshape(1,50)[0]\n",
    "\n",
    "six_filters_lr_08_batch_32_with_titles = ((u+v+w+x+y)/5).reshape(1, 50)\n",
    "#six_filters_lr_07_batch_32\n",
    "split1  = np.array([0.61043934, 0.61909549, 0.61535965, 0.61039372, 0.61084116,\n",
    "       0.65007571, 0.68809939, 0.71741769, 0.70857105, 0.70611819,\n",
    "       0.68449159, 0.68515931, 0.68315048, 0.70519115, 0.69133572,\n",
    "       0.71737015, 0.71020724, 0.67302705, 0.65923203, 0.66069348,\n",
    "       0.6350334 , 0.63028873, 0.65992593, 0.6389408 , 0.67545235,\n",
    "       0.68077545, 0.68560782, 0.70130023, 0.68650782, 0.68778363,\n",
    "       0.69722574, 0.69190111, 0.69431992, 0.69271471, 0.68442013,\n",
    "       0.68743463, 0.6847871 , 0.67289349, 0.67978738, 0.6647929 ,\n",
    "       0.69406177, 0.67206376, 0.69190111, 0.66333309, 0.67262454,\n",
    "       0.65878469, 0.671772  , 0.67399862, 0.67098749, 0.67329582])\n",
    "split2 = np.array([0.68193621, 0.69882142, 0.70880249, 0.71680922, 0.70064101,\n",
    "       0.69878461, 0.6583316 , 0.68944579, 0.70309524, 0.68969443,\n",
    "       0.70085212, 0.7121023 , 0.71435483, 0.71262574, 0.70995981,\n",
    "       0.69436828, 0.70076996, 0.70956159, 0.71578609, 0.70903441,\n",
    "       0.71764508, 0.7122322 , 0.7127139 , 0.70977414, 0.70413789,\n",
    "       0.70220926, 0.69547351, 0.70936405, 0.71351852, 0.70716057,\n",
    "       0.7076925 , 0.70750473, 0.71035282, 0.71364642, 0.70967236,\n",
    "       0.71655399, 0.71243713, 0.71570434, 0.71660401, 0.71323424,\n",
    "       0.7155215 , 0.7155757 , 0.71906123, 0.71472847, 0.71271177,\n",
    "       0.71037155, 0.71303889, 0.71218091, 0.71433936, 0.71793002])\n",
    "split3 = np.array([0.64250833, 0.68599157, 0.70812255, 0.71679186, 0.71688748,\n",
    "       0.70903768, 0.72155063, 0.71626208, 0.67586134, 0.63540486,\n",
    "       0.61041438, 0.69760746, 0.697111  , 0.73072131, 0.72827908,\n",
    "       0.72621637, 0.72763777, 0.72404136, 0.72904852, 0.72274857,\n",
    "       0.7308795 , 0.73078895, 0.73189848, 0.73106432, 0.7305378 ,\n",
    "       0.73061476, 0.73581535, 0.72778252, 0.73332083, 0.7334451 ,\n",
    "       0.73244879, 0.73589783, 0.73669223, 0.73515311, 0.7344007 ,\n",
    "       0.7306631 , 0.73068722, 0.72544359, 0.72711822, 0.72889221,\n",
    "       0.72762338, 0.72002591, 0.72988395, 0.73224876, 0.72959305,\n",
    "       0.71911178, 0.72903792, 0.73059742, 0.71636084, 0.72520784])\n",
    "split4 = np.array([0.68730232, 0.69970006, 0.70443232, 0.70653984, 0.69053275,\n",
    "       0.69135108, 0.690258  , 0.68705579, 0.69103916, 0.61297163,\n",
    "       0.62372059, 0.65753242, 0.69134719, 0.70402189, 0.70183612,\n",
    "       0.70565771, 0.70636264, 0.69848488, 0.69737825, 0.68997327,\n",
    "       0.70463925, 0.69486796, 0.7091611 , 0.69893639, 0.71326823,\n",
    "       0.71757264, 0.72236299, 0.71326823, 0.71249682, 0.7166785 ,\n",
    "       0.71820848, 0.72165573, 0.71996369, 0.71799397, 0.71841048,\n",
    "       0.71945202, 0.72027138, 0.71123043, 0.71657164, 0.7107563 ,\n",
    "       0.7175513 , 0.7133187 , 0.70587306, 0.71173154, 0.70655949,\n",
    "       0.7092659 , 0.71064897, 0.70287753, 0.69895026, 0.70829401])\n",
    "split5 = np.array([0.66473411, 0.69155439, 0.70033293, 0.71931834, 0.70215312,\n",
    "       0.60501638, 0.54096076, 0.63421409, 0.6760668 , 0.68994046,\n",
    "       0.71593365, 0.72026236, 0.71705887, 0.71466016, 0.71773404,\n",
    "       0.71517869, 0.71774037, 0.7090054 , 0.71278323, 0.71952897,\n",
    "       0.70790835, 0.71418656, 0.70985039, 0.71263168, 0.71089151,\n",
    "       0.71372193, 0.71328308, 0.71720143, 0.71594904, 0.71492256,\n",
    "       0.71189583, 0.71208702, 0.71030372, 0.70606319, 0.71305071,\n",
    "       0.7126652 , 0.70832862, 0.70714559, 0.69614441, 0.70400927,\n",
    "       0.70665586, 0.70587672, 0.70927053, 0.70733607, 0.70734389,\n",
    "       0.70817477, 0.70912539, 0.70697674, 0.7126515 , 0.70528558])\n",
    "\n",
    "six_filters_lr_08_batch_32_average_with_titles = np.array([[0.66102655, 0.6807622 , 0.68815854, 0.69253158, 0.68881028,\n",
    "        0.68449993, 0.66309716, 0.66973215, 0.67258594, 0.65811   ,\n",
    "        0.66196086, 0.68129622, 0.69667215, 0.71421494, 0.71058003,\n",
    "        0.71193887, 0.71336594, 0.70463296, 0.7048736 , 0.70054044,\n",
    "        0.70105005, 0.69835677, 0.706938  , 0.7003709 , 0.70929333,\n",
    "        0.71060484, 0.7124937 , 0.715376  , 0.71406059, 0.71354734,\n",
    "        0.71551163, 0.71566759, 0.7161294 , 0.71560409, 0.7135528 ,\n",
    "        0.7146122 , 0.71192104, 0.70940186, 0.71138299, 0.70723612,\n",
    "        0.7156822 , 0.7066982 , 0.71284518, 0.70721216, 0.7074202 ,\n",
    "        0.70220773, 0.70725666, 0.70699754, 0.70379702, 0.70577292]])\n",
    "\n",
    "epochs = np.array(range(50))\n",
    "\n",
    "## Plotting the epochs vs f1_score to determine what range of epochs should be be used to train final model \n",
    "\n",
    "import matplotlib.pyplot as plt\n",
    "from matplotlib.pyplot import vlines\n",
    "plt.title(\"F1_Scores vs Epochs for 5 Splits of Data\")\n",
    "plt.plot(epochs, u, marker = \".\")\n",
    "plt.plot(epochs, v, marker = \".\")\n",
    "plt.plot(epochs, w, marker = \".\")\n",
    "plt.plot(epochs, x, marker = \".\")\n",
    "plt.plot(epochs, y, marker = \".\")\n",
    "plt.vlines(25, ymin = .530 ,ymax = .740)\n",
    "plt.vlines(32, ymin = .530 ,ymax = .740)\n",
    "plt.ylim((.530, .740))\n"
   ]
  },
  {
   "cell_type": "markdown",
   "metadata": {
    "colab_type": "text",
    "id": "Pf_qgtO28llf"
   },
   "source": [
    "## Based on Graph Above, How do We Choose the Optimal Epoch?\n",
    "\n",
    "The line graph above displays the f1_score vs epoch. Good epoch selection comes to the the following properties:\n",
    "\n",
    "--> 1) Low Variance Between Datasplits: The data splits (different colored lines) should be close to each other for a range of epochs. For instance, from the epochs in the range (0,10), this would not be a good epoch use when training our final model because of the large variance between the data splits. All of the data splits are not moving together in a systematic fashion. Thus, if we choose an epoch here, even if it has a high average f1_score, the variance between the data splits in this area of epochs is too high to validate the selection of an epoch within this range.\n",
    "\n",
    "\n",
    "--> 2) Stability of between Epochs: We want to choose a range of values where the f1_values are relatively consistent. This maximizes are chance of selecting an ideal epoch for our final model. Again, this decision also comes down to variance, we want to minimize the variance among epochs when we make our decision of what epoch is best. \n",
    "\n",
    "The black vertical lines above denote the range of values where there is both low variance (small vertical variance) among the data splits and stability (small horizontal variance) among the epochs. We choose 32 as are epoch for training. \n",
    "\n",
    "\n"
   ]
  },
  {
   "cell_type": "markdown",
   "metadata": {
    "colab_type": "text",
    "id": "R43pl3-SDfJ9"
   },
   "source": [
    "## Below we will train the model on the entire training set to obtain the weights (32 epochs)"
   ]
  },
  {
   "cell_type": "code",
   "execution_count": 149,
   "metadata": {
    "colab": {
     "base_uri": "https://localhost:8080/",
     "height": 1000
    },
    "colab_type": "code",
    "id": "VYlcjcpI1kND",
    "outputId": "60678cf5-b6f6-41e5-ae77-7f1f649c885d"
   },
   "outputs": [
    {
     "name": "stderr",
     "output_type": "stream",
     "text": [
      "\n",
      "\n",
      "  0%|          | 0/33 [00:00<?, ?it/s]\u001b[A\u001b[A\n",
      "\n",
      "  3%|▎         | 1/33 [00:13<07:07, 13.34s/it]\u001b[A\u001b[A"
     ]
    },
    {
     "name": "stdout",
     "output_type": "stream",
     "text": [
      "\n",
      "======epoch 0 loss====== 0.5480079\n"
     ]
    },
    {
     "name": "stderr",
     "output_type": "stream",
     "text": [
      "\n",
      "\n",
      "  6%|▌         | 2/33 [00:26<06:55, 13.42s/it]\u001b[A\u001b[A"
     ]
    },
    {
     "name": "stdout",
     "output_type": "stream",
     "text": [
      "\n",
      "======epoch 1 loss====== 0.47247425\n"
     ]
    },
    {
     "name": "stderr",
     "output_type": "stream",
     "text": [
      "\n",
      "\n",
      "  9%|▉         | 3/33 [00:40<06:43, 13.45s/it]\u001b[A\u001b[A"
     ]
    },
    {
     "name": "stdout",
     "output_type": "stream",
     "text": [
      "\n",
      "======epoch 2 loss====== 0.43082878\n"
     ]
    },
    {
     "name": "stderr",
     "output_type": "stream",
     "text": [
      "\n",
      "\n",
      " 12%|█▏        | 4/33 [00:53<06:30, 13.45s/it]\u001b[A\u001b[A"
     ]
    },
    {
     "name": "stdout",
     "output_type": "stream",
     "text": [
      "\n",
      "======epoch 3 loss====== 0.38193598\n"
     ]
    },
    {
     "name": "stderr",
     "output_type": "stream",
     "text": [
      "\n",
      "\n",
      " 15%|█▌        | 5/33 [01:07<06:15, 13.41s/it]\u001b[A\u001b[A"
     ]
    },
    {
     "name": "stdout",
     "output_type": "stream",
     "text": [
      "\n",
      "======epoch 4 loss====== 0.3393407\n"
     ]
    },
    {
     "name": "stderr",
     "output_type": "stream",
     "text": [
      "\n",
      "\n",
      " 18%|█▊        | 6/33 [01:20<06:01, 13.40s/it]\u001b[A\u001b[A"
     ]
    },
    {
     "name": "stdout",
     "output_type": "stream",
     "text": [
      "\n",
      "======epoch 5 loss====== 0.29982936\n"
     ]
    },
    {
     "name": "stderr",
     "output_type": "stream",
     "text": [
      "\n",
      "\n",
      " 21%|██        | 7/33 [01:33<05:47, 13.38s/it]\u001b[A\u001b[A"
     ]
    },
    {
     "name": "stdout",
     "output_type": "stream",
     "text": [
      "\n",
      "======epoch 6 loss====== 0.26097265\n"
     ]
    },
    {
     "name": "stderr",
     "output_type": "stream",
     "text": [
      "\n",
      "\n",
      " 24%|██▍       | 8/33 [01:47<05:34, 13.37s/it]\u001b[A\u001b[A"
     ]
    },
    {
     "name": "stdout",
     "output_type": "stream",
     "text": [
      "\n",
      "======epoch 7 loss====== 0.23728448\n"
     ]
    },
    {
     "name": "stderr",
     "output_type": "stream",
     "text": [
      "\n",
      "\n",
      " 27%|██▋       | 9/33 [02:00<05:19, 13.33s/it]\u001b[A\u001b[A"
     ]
    },
    {
     "name": "stdout",
     "output_type": "stream",
     "text": [
      "\n",
      "======epoch 8 loss====== 0.20793061\n"
     ]
    },
    {
     "name": "stderr",
     "output_type": "stream",
     "text": [
      "\n",
      "\n",
      " 30%|███       | 10/33 [02:13<05:04, 13.25s/it]\u001b[A\u001b[A"
     ]
    },
    {
     "name": "stdout",
     "output_type": "stream",
     "text": [
      "\n",
      "======epoch 9 loss====== 0.16774409\n"
     ]
    },
    {
     "name": "stderr",
     "output_type": "stream",
     "text": [
      "\n",
      "\n",
      " 33%|███▎      | 11/33 [02:26<04:51, 13.24s/it]\u001b[A\u001b[A"
     ]
    },
    {
     "name": "stdout",
     "output_type": "stream",
     "text": [
      "\n",
      "======epoch 10 loss====== 0.14394315\n"
     ]
    },
    {
     "name": "stderr",
     "output_type": "stream",
     "text": [
      "\n",
      "\n",
      " 36%|███▋      | 12/33 [02:39<04:37, 13.21s/it]\u001b[A\u001b[A"
     ]
    },
    {
     "name": "stdout",
     "output_type": "stream",
     "text": [
      "\n",
      "======epoch 11 loss====== 0.122690186\n"
     ]
    },
    {
     "name": "stderr",
     "output_type": "stream",
     "text": [
      "\n",
      "\n",
      " 39%|███▉      | 13/33 [02:52<04:22, 13.14s/it]\u001b[A\u001b[A"
     ]
    },
    {
     "name": "stdout",
     "output_type": "stream",
     "text": [
      "\n",
      "======epoch 12 loss====== 0.118754044\n"
     ]
    },
    {
     "name": "stderr",
     "output_type": "stream",
     "text": [
      "\n",
      "\n",
      " 42%|████▏     | 14/33 [03:05<04:09, 13.11s/it]\u001b[A\u001b[A"
     ]
    },
    {
     "name": "stdout",
     "output_type": "stream",
     "text": [
      "\n",
      "======epoch 13 loss====== 0.10440138\n"
     ]
    },
    {
     "name": "stderr",
     "output_type": "stream",
     "text": [
      "\n",
      "\n",
      " 45%|████▌     | 15/33 [03:18<03:54, 13.04s/it]\u001b[A\u001b[A"
     ]
    },
    {
     "name": "stdout",
     "output_type": "stream",
     "text": [
      "\n",
      "======epoch 14 loss====== 0.09739707\n"
     ]
    },
    {
     "name": "stderr",
     "output_type": "stream",
     "text": [
      "\n",
      "\n",
      " 48%|████▊     | 16/33 [03:31<03:41, 13.01s/it]\u001b[A\u001b[A"
     ]
    },
    {
     "name": "stdout",
     "output_type": "stream",
     "text": [
      "\n",
      "======epoch 15 loss====== 0.0989939\n"
     ]
    },
    {
     "name": "stderr",
     "output_type": "stream",
     "text": [
      "\n",
      "\n",
      " 52%|█████▏    | 17/33 [03:44<03:27, 12.97s/it]\u001b[A\u001b[A"
     ]
    },
    {
     "name": "stdout",
     "output_type": "stream",
     "text": [
      "\n",
      "======epoch 16 loss====== 0.10328698\n"
     ]
    },
    {
     "name": "stderr",
     "output_type": "stream",
     "text": [
      "\n",
      "\n",
      " 55%|█████▍    | 18/33 [03:57<03:14, 12.97s/it]\u001b[A\u001b[A"
     ]
    },
    {
     "name": "stdout",
     "output_type": "stream",
     "text": [
      "\n",
      "======epoch 17 loss====== 0.11194124\n"
     ]
    },
    {
     "name": "stderr",
     "output_type": "stream",
     "text": [
      "\n",
      "\n",
      " 58%|█████▊    | 19/33 [04:10<03:00, 12.93s/it]\u001b[A\u001b[A"
     ]
    },
    {
     "name": "stdout",
     "output_type": "stream",
     "text": [
      "\n",
      "======epoch 18 loss====== 0.087551564\n"
     ]
    },
    {
     "name": "stderr",
     "output_type": "stream",
     "text": [
      "\n",
      "\n",
      " 61%|██████    | 20/33 [04:23<02:47, 12.88s/it]\u001b[A\u001b[A"
     ]
    },
    {
     "name": "stdout",
     "output_type": "stream",
     "text": [
      "\n",
      "======epoch 19 loss====== 0.08616932\n"
     ]
    },
    {
     "name": "stderr",
     "output_type": "stream",
     "text": [
      "\n",
      "\n",
      " 64%|██████▎   | 21/33 [04:36<02:34, 12.86s/it]\u001b[A\u001b[A"
     ]
    },
    {
     "name": "stdout",
     "output_type": "stream",
     "text": [
      "\n",
      "======epoch 20 loss====== 0.07871238\n"
     ]
    },
    {
     "name": "stderr",
     "output_type": "stream",
     "text": [
      "\n",
      "\n",
      " 67%|██████▋   | 22/33 [04:48<02:21, 12.83s/it]\u001b[A\u001b[A"
     ]
    },
    {
     "name": "stdout",
     "output_type": "stream",
     "text": [
      "\n",
      "======epoch 21 loss====== 0.07531715\n"
     ]
    },
    {
     "name": "stderr",
     "output_type": "stream",
     "text": [
      "\n",
      "\n",
      " 70%|██████▉   | 23/33 [05:01<02:08, 12.82s/it]\u001b[A\u001b[A"
     ]
    },
    {
     "name": "stdout",
     "output_type": "stream",
     "text": [
      "\n",
      "======epoch 22 loss====== 0.06914431\n"
     ]
    },
    {
     "name": "stderr",
     "output_type": "stream",
     "text": [
      "\n",
      "\n",
      " 73%|███████▎  | 24/33 [05:14<01:56, 12.90s/it]\u001b[A\u001b[A"
     ]
    },
    {
     "name": "stdout",
     "output_type": "stream",
     "text": [
      "\n",
      "======epoch 23 loss====== 0.06867829\n"
     ]
    },
    {
     "name": "stderr",
     "output_type": "stream",
     "text": [
      "\n",
      "\n",
      " 76%|███████▌  | 25/33 [05:27<01:43, 12.95s/it]\u001b[A\u001b[A"
     ]
    },
    {
     "name": "stdout",
     "output_type": "stream",
     "text": [
      "\n",
      "======epoch 24 loss====== 0.060100395\n"
     ]
    },
    {
     "name": "stderr",
     "output_type": "stream",
     "text": [
      "\n",
      "\n",
      " 79%|███████▉  | 26/33 [05:40<01:31, 13.01s/it]\u001b[A\u001b[A"
     ]
    },
    {
     "name": "stdout",
     "output_type": "stream",
     "text": [
      "\n",
      "======epoch 25 loss====== 0.068915084\n"
     ]
    },
    {
     "name": "stderr",
     "output_type": "stream",
     "text": [
      "\n",
      "\n",
      " 82%|████████▏ | 27/33 [05:53<01:18, 13.04s/it]\u001b[A\u001b[A"
     ]
    },
    {
     "name": "stdout",
     "output_type": "stream",
     "text": [
      "\n",
      "======epoch 26 loss====== 0.067730814\n"
     ]
    },
    {
     "name": "stderr",
     "output_type": "stream",
     "text": [
      "\n",
      "\n",
      " 85%|████████▍ | 28/33 [06:07<01:05, 13.08s/it]\u001b[A\u001b[A"
     ]
    },
    {
     "name": "stdout",
     "output_type": "stream",
     "text": [
      "\n",
      "======epoch 27 loss====== 0.07179834\n"
     ]
    },
    {
     "name": "stderr",
     "output_type": "stream",
     "text": [
      "\n",
      "\n",
      " 88%|████████▊ | 29/33 [06:20<00:52, 13.19s/it]\u001b[A\u001b[A"
     ]
    },
    {
     "name": "stdout",
     "output_type": "stream",
     "text": [
      "\n",
      "======epoch 28 loss====== 0.056401733\n"
     ]
    },
    {
     "name": "stderr",
     "output_type": "stream",
     "text": [
      "\n",
      "\n",
      " 91%|█████████ | 30/33 [06:33<00:39, 13.17s/it]\u001b[A\u001b[A"
     ]
    },
    {
     "name": "stdout",
     "output_type": "stream",
     "text": [
      "\n",
      "======epoch 29 loss====== 0.069798164\n"
     ]
    },
    {
     "name": "stderr",
     "output_type": "stream",
     "text": [
      "\n",
      "\n",
      " 94%|█████████▍| 31/33 [06:46<00:26, 13.19s/it]\u001b[A\u001b[A"
     ]
    },
    {
     "name": "stdout",
     "output_type": "stream",
     "text": [
      "\n",
      "======epoch 30 loss====== 0.06454318\n"
     ]
    },
    {
     "name": "stderr",
     "output_type": "stream",
     "text": [
      "\n",
      "\n",
      " 97%|█████████▋| 32/33 [06:59<00:13, 13.12s/it]\u001b[A\u001b[A"
     ]
    },
    {
     "name": "stdout",
     "output_type": "stream",
     "text": [
      "\n",
      "======epoch 31 loss====== 0.06970759\n"
     ]
    },
    {
     "name": "stderr",
     "output_type": "stream",
     "text": [
      "\n",
      "\n",
      "100%|██████████| 33/33 [07:12<00:00, 13.06s/it]\u001b[A\u001b[A\n",
      "\n",
      "\u001b[A\u001b[A"
     ]
    },
    {
     "name": "stdout",
     "output_type": "stream",
     "text": [
      "\n",
      "======epoch 32 loss====== 0.077708505\n"
     ]
    }
   ],
   "source": [
    "# training the CNN model\n",
    "\n",
    "best_f1 = -1.\n",
    "#best_model = None\n",
    "import copy\n",
    "import numpy as np\n",
    "from sklearn.metrics import precision_recall_fscore_support\n",
    "from nltk.tokenize import word_tokenize\n",
    "from tqdm import tqdm\n",
    "\n",
    "train_docs = combined3\n",
    "train_labels = labels\n",
    "#***********************************************************#\n",
    "## We vary the below values.\n",
    "dropout_rate = 0.5 # dropout rate\n",
    "filter_sizes = [1,2,3,4, 5, 6]\n",
    "filter_nums = [200]*len(filter_sizes)\n",
    "word_vec_dim = 300\n",
    "# hyper parameters\n",
    "\n",
    "##############################################################\n",
    "n_epochs = 33 # number of epoch (i.e. number of iterations) --> Setting this value to 32 for reasons as specified earlier\n",
    "##############################################################\n",
    "batch_size = 50\n",
    "lr = 0.0008\n",
    "\n",
    "#************************************************************#\n",
    "gpu = True # whether use gpu to accelerate the training\n",
    "model = CNN_Clf(word_vec_dim, filter_sizes, filter_nums, 2, dropout_rate, gpu)\n",
    "loss_fnc = torch.nn.CrossEntropyLoss() # cross entropy loss\n",
    "\n",
    "\n",
    "train_docs = combined3\n",
    "# init optimizer and scheduler (lr adjustor)\n",
    "import torch.optim as optim\n",
    "optimizer = optim.Adam(params=model.parameters(), lr=lr) # use Adam as the optimizer\n",
    "scheduler = torch.optim.lr_scheduler.StepLR(optimizer, step_size=1, gamma=0.95) # after each epoch, the learning rate is discounted to its 95%\n",
    "f1_list = []\n",
    "for epoch_i in tqdm(range(n_epochs)):\n",
    "    # the inner loop is over the batches in the dataset\n",
    "    model.train() # let pytorch know that gradients should be computed, so as to update the model\n",
    "    ep_loss = []\n",
    "    for idx in range(0,len(train_docs),batch_size):\n",
    "        # Step 0: Get the data\n",
    "        x_data = build_mini_batch(train_docs[idx:idx+batch_size], word_vectors)\n",
    "        if x_data.shape[0] == 0: continue # to avoid empty batch\n",
    "        y_target = torch.tensor([train_labels[idx:idx+batch_size]], dtype=torch.int64).squeeze()\n",
    "        if gpu:\n",
    "            y_target = y_target.to('cuda')\n",
    "        \n",
    "        # Step 1: Clear the gradients \n",
    "        optimizer.zero_grad()\n",
    "\n",
    "        # Step 2: Compute the forward pass of the model\n",
    "        x_tensor = torch.tensor(x_data, dtype=torch.float)\n",
    "        if gpu:\n",
    "            x_tensor = x_tensor.to('cuda')\n",
    "        y_pred = model(x_tensor)\n",
    "        pred_labels = [np.argmax(entry) for entry in y_pred.cpu().detach().numpy()]\n",
    "        # print('pred labels', pred_labels)\n",
    "        # print('true labels', y_target)\n",
    "\n",
    "        # Step 3: Compute the loss value that we wish to optimize\n",
    "        loss = loss_fnc(y_pred, y_target)\n",
    "        # print(loss)\n",
    "        ep_loss.append(loss.cpu().detach().numpy())\n",
    "\n",
    "        # Step 4: Propagate the loss signal backward\n",
    "        loss.backward()\n",
    "\n",
    "        # Step 5: Trigger the optimizer to perform one update\n",
    "        optimizer.step()\n",
    "    \n",
    "    print('\\n======epoch {} loss======'.format(epoch_i),np.mean(ep_loss))\n",
    "    \n",
    "    \n"
   ]
  },
  {
   "cell_type": "markdown",
   "metadata": {
    "colab_type": "text",
    "id": "ONl7sDf4yEGB"
   },
   "source": [
    "## Now We Will Explore a more simple machine learning model; namely the Logistic Regression Classification Model "
   ]
  },
  {
   "cell_type": "code",
   "execution_count": 170,
   "metadata": {
    "colab": {
     "base_uri": "https://localhost:8080/",
     "height": 887
    },
    "colab_type": "code",
    "id": "PnlXHTKr3imo",
    "outputId": "8ce3eeba-4b16-4285-fccd-0bdd038bff35"
   },
   "outputs": [
    {
     "name": "stdout",
     "output_type": "stream",
     "text": [
      "Fitting 4 folds for each of 324 candidates, totalling 1296 fits\n"
     ]
    },
    {
     "name": "stderr",
     "output_type": "stream",
     "text": [
      "[Parallel(n_jobs=-1)]: Using backend LokyBackend with 2 concurrent workers.\n",
      "[Parallel(n_jobs=-1)]: Done  46 tasks      | elapsed:  1.5min\n",
      "/usr/local/lib/python3.6/dist-packages/joblib/externals/loky/process_executor.py:706: UserWarning: A worker stopped while some jobs were given to the executor. This can be caused by a too short worker timeout or by a memory leak.\n",
      "  \"timeout or by a memory leak.\", UserWarning\n",
      "[Parallel(n_jobs=-1)]: Done 196 tasks      | elapsed:  6.9min\n",
      "[Parallel(n_jobs=-1)]: Done 446 tasks      | elapsed: 15.6min\n",
      "[Parallel(n_jobs=-1)]: Done 796 tasks      | elapsed: 27.3min\n",
      "[Parallel(n_jobs=-1)]: Done 1246 tasks      | elapsed: 42.5min\n",
      "[Parallel(n_jobs=-1)]: Done 1296 out of 1296 | elapsed: 44.4min finished\n",
      "/usr/local/lib/python3.6/dist-packages/sklearn/linear_model/_logistic.py:940: ConvergenceWarning: lbfgs failed to converge (status=1):\n",
      "STOP: TOTAL NO. of ITERATIONS REACHED LIMIT.\n",
      "\n",
      "Increase the number of iterations (max_iter) or scale the data as shown in:\n",
      "    https://scikit-learn.org/stable/modules/preprocessing.html\n",
      "Please also refer to the documentation for alternative solver options:\n",
      "    https://scikit-learn.org/stable/modules/linear_model.html#logistic-regression\n",
      "  extra_warning_msg=_LOGISTIC_SOLVER_CONVERGENCE_MSG)\n"
     ]
    },
    {
     "data": {
      "text/plain": [
       "GridSearchCV(cv=4, error_score=nan,\n",
       "             estimator=Pipeline(memory=None,\n",
       "                                steps=[('vect',\n",
       "                                        TfidfVectorizer(analyzer='word',\n",
       "                                                        binary=False,\n",
       "                                                        decode_error='strict',\n",
       "                                                        dtype=<class 'numpy.float64'>,\n",
       "                                                        encoding='utf-8',\n",
       "                                                        input='content',\n",
       "                                                        lowercase=True,\n",
       "                                                        max_df=1.0,\n",
       "                                                        max_features=None,\n",
       "                                                        min_df=1,\n",
       "                                                        ngram_range=(1, 1),\n",
       "                                                        norm='l2',\n",
       "                                                        preprocessor=None,\n",
       "                                                        smooth_idf=True,\n",
       "                                                        stop_words=None,\n",
       "                                                        strip_acce...\n",
       "                                                           solver='lbfgs',\n",
       "                                                           tol=0.0001,\n",
       "                                                           verbose=0,\n",
       "                                                           warm_start=False))],\n",
       "                                verbose=False),\n",
       "             iid='deprecated', n_jobs=-1,\n",
       "             param_grid={'clf__C': (5, 10, 20, 30, 40, 100),\n",
       "                         'vect__max_df': (0.5, 0.75, 1.0),\n",
       "                         'vect__max_features': (1000, 10000, 30000, 50000,\n",
       "                                                70000, 100000),\n",
       "                         'vect__ngram_range': ((1, 2), (1, 3), (1, 5))},\n",
       "             pre_dispatch='2*n_jobs', refit=True, return_train_score=False,\n",
       "             scoring='f1_macro', verbose=1)"
      ]
     },
     "execution_count": 170,
     "metadata": {
      "tags": []
     },
     "output_type": "execute_result"
    }
   ],
   "source": [
    "from sklearn.model_selection import cross_validate\n",
    "from sklearn.feature_extraction.text import TfidfVectorizer\n",
    "from sklearn.linear_model import LogisticRegression\n",
    "from sklearn.pipeline import Pipeline\n",
    "from sklearn.model_selection import GridSearchCV\n",
    "\n",
    "pipeline = Pipeline([\n",
    "    ('vect', TfidfVectorizer()),\n",
    "    ('clf', LogisticRegression()),\n",
    "])\n",
    "\n",
    "\n",
    "parameters = {\n",
    "    'vect__max_df': (0.5, 0.75, 1.0),\n",
    "    # 'vect__max_features': (None, 5000, 10000, 50000, 100000),\n",
    "    'vect__ngram_range': ((1, 2), (1,3), (1,5)),  # unigrams or bigrams,\n",
    "    'vect__max_features': (1000, 10000, 30000, 50000, 70000, 100000),\n",
    "    # 'tfidf__use_idf': (True, False),\n",
    "    # 'tfidf__norm': ('l1', 'l2'),\n",
    "    #'clf__max_iter': (20,),\n",
    "    'clf__C': (5, 10, 20, 30, 40, 100),\n",
    "    #'clf__penalty': ('l2', 'elasticnet'),\n",
    "    # 'clf__max_iter': (10, 50, 80),\n",
    "}\n",
    "\n",
    "grid_search = GridSearchCV(pipeline, parameters, n_jobs=-1, verbose=1, scoring = 'f1_macro', cv = 4)\n",
    "grid_search.fit(combined3, labels)"
   ]
  },
  {
   "cell_type": "markdown",
   "metadata": {
    "colab_type": "text",
    "id": "qlC-pB6zKSeD"
   },
   "source": [
    "#### A rudimentary grid search of a logistic regression model coupled with the tdf-idf vectorizer yields the best model with params printed below. "
   ]
  },
  {
   "cell_type": "code",
   "execution_count": 178,
   "metadata": {
    "colab": {
     "base_uri": "https://localhost:8080/",
     "height": 34
    },
    "colab_type": "code",
    "id": "ovx-uuVlHYfZ",
    "outputId": "5a36eb44-c8ab-44a8-fbd6-92b2d1141d68"
   },
   "outputs": [
    {
     "name": "stdout",
     "output_type": "stream",
     "text": [
      "{'clf__C': 20, 'vect__max_df': 1.0, 'vect__max_features': 100000, 'vect__ngram_range': (1, 3)}\n"
     ]
    }
   ],
   "source": [
    "print(grid_search.best_params_)\n",
    "\n"
   ]
  },
  {
   "cell_type": "markdown",
   "metadata": {
    "colab_type": "text",
    "id": "mJPz6VCKKdlX"
   },
   "source": [
    "### Now lets test the the CNN model and the logistic regression model on the same training_validation splits."
   ]
  },
  {
   "cell_type": "code",
   "execution_count": 15,
   "metadata": {
    "colab": {
     "base_uri": "https://localhost:8080/",
     "height": 1000
    },
    "colab_type": "code",
    "id": "bQkBy66rKpDd",
    "outputId": "f2b2747c-8fcd-47b6-e7e0-ee97a80d3c08"
   },
   "outputs": [
    {
     "name": "stderr",
     "output_type": "stream",
     "text": [
      "/usr/local/lib/python3.6/dist-packages/sklearn/linear_model/_logistic.py:940: ConvergenceWarning: lbfgs failed to converge (status=1):\n",
      "STOP: TOTAL NO. of ITERATIONS REACHED LIMIT.\n",
      "\n",
      "Increase the number of iterations (max_iter) or scale the data as shown in:\n",
      "    https://scikit-learn.org/stable/modules/preprocessing.html\n",
      "Please also refer to the documentation for alternative solver options:\n",
      "    https://scikit-learn.org/stable/modules/linear_model.html#logistic-regression\n",
      "  extra_warning_msg=_LOGISTIC_SOLVER_CONVERGENCE_MSG)\n",
      "  3%|▎         | 1/33 [00:10<05:29, 10.30s/it]"
     ]
    },
    {
     "name": "stdout",
     "output_type": "stream",
     "text": [
      "\n",
      "======epoch 0 loss====== 0.558586\n"
     ]
    },
    {
     "name": "stderr",
     "output_type": "stream",
     "text": [
      "\r",
      "  6%|▌         | 2/33 [00:20<05:14, 10.15s/it]"
     ]
    },
    {
     "name": "stdout",
     "output_type": "stream",
     "text": [
      "\n",
      "======epoch 1 loss====== 0.4710662\n"
     ]
    },
    {
     "name": "stderr",
     "output_type": "stream",
     "text": [
      "\r",
      "  9%|▉         | 3/33 [00:29<05:01, 10.05s/it]"
     ]
    },
    {
     "name": "stdout",
     "output_type": "stream",
     "text": [
      "\n",
      "======epoch 2 loss====== 0.41341794\n"
     ]
    },
    {
     "name": "stderr",
     "output_type": "stream",
     "text": [
      "\r",
      " 12%|█▏        | 4/33 [00:39<04:49,  9.98s/it]"
     ]
    },
    {
     "name": "stdout",
     "output_type": "stream",
     "text": [
      "\n",
      "======epoch 3 loss====== 0.36613747\n"
     ]
    },
    {
     "name": "stderr",
     "output_type": "stream",
     "text": [
      "\r",
      " 15%|█▌        | 5/33 [00:49<04:38,  9.94s/it]"
     ]
    },
    {
     "name": "stdout",
     "output_type": "stream",
     "text": [
      "\n",
      "======epoch 4 loss====== 0.32296184\n"
     ]
    },
    {
     "name": "stderr",
     "output_type": "stream",
     "text": [
      "\r",
      " 18%|█▊        | 6/33 [00:59<04:27,  9.90s/it]"
     ]
    },
    {
     "name": "stdout",
     "output_type": "stream",
     "text": [
      "\n",
      "======epoch 5 loss====== 0.28878438\n"
     ]
    },
    {
     "name": "stderr",
     "output_type": "stream",
     "text": [
      "\r",
      " 21%|██        | 7/33 [01:09<04:16,  9.88s/it]"
     ]
    },
    {
     "name": "stdout",
     "output_type": "stream",
     "text": [
      "\n",
      "======epoch 6 loss====== 0.24373434\n"
     ]
    },
    {
     "name": "stderr",
     "output_type": "stream",
     "text": [
      "\r",
      " 24%|██▍       | 8/33 [01:19<04:06,  9.86s/it]"
     ]
    },
    {
     "name": "stdout",
     "output_type": "stream",
     "text": [
      "\n",
      "======epoch 7 loss====== 0.20291135\n"
     ]
    },
    {
     "name": "stderr",
     "output_type": "stream",
     "text": [
      "\r",
      " 27%|██▋       | 9/33 [01:28<03:56,  9.84s/it]"
     ]
    },
    {
     "name": "stdout",
     "output_type": "stream",
     "text": [
      "\n",
      "======epoch 8 loss====== 0.16897112\n"
     ]
    },
    {
     "name": "stderr",
     "output_type": "stream",
     "text": [
      "\r",
      " 30%|███       | 10/33 [01:38<03:45,  9.82s/it]"
     ]
    },
    {
     "name": "stdout",
     "output_type": "stream",
     "text": [
      "\n",
      "======epoch 9 loss====== 0.1542105\n"
     ]
    },
    {
     "name": "stderr",
     "output_type": "stream",
     "text": [
      "\r",
      " 33%|███▎      | 11/33 [01:48<03:35,  9.80s/it]"
     ]
    },
    {
     "name": "stdout",
     "output_type": "stream",
     "text": [
      "\n",
      "======epoch 10 loss====== 0.1393834\n"
     ]
    },
    {
     "name": "stderr",
     "output_type": "stream",
     "text": [
      "\r",
      " 36%|███▋      | 12/33 [01:58<03:25,  9.79s/it]"
     ]
    },
    {
     "name": "stdout",
     "output_type": "stream",
     "text": [
      "\n",
      "======epoch 11 loss====== 0.14129591\n"
     ]
    },
    {
     "name": "stderr",
     "output_type": "stream",
     "text": [
      "\r",
      " 39%|███▉      | 13/33 [02:07<03:15,  9.79s/it]"
     ]
    },
    {
     "name": "stdout",
     "output_type": "stream",
     "text": [
      "\n",
      "======epoch 12 loss====== 0.14127313\n"
     ]
    },
    {
     "name": "stderr",
     "output_type": "stream",
     "text": [
      "\r",
      " 42%|████▏     | 14/33 [02:17<03:05,  9.78s/it]"
     ]
    },
    {
     "name": "stdout",
     "output_type": "stream",
     "text": [
      "\n",
      "======epoch 13 loss====== 0.13455874\n"
     ]
    },
    {
     "name": "stderr",
     "output_type": "stream",
     "text": [
      "\r",
      " 45%|████▌     | 15/33 [02:27<02:55,  9.76s/it]"
     ]
    },
    {
     "name": "stdout",
     "output_type": "stream",
     "text": [
      "\n",
      "======epoch 14 loss====== 0.10825079\n"
     ]
    },
    {
     "name": "stderr",
     "output_type": "stream",
     "text": [
      "\r",
      " 48%|████▊     | 16/33 [02:37<02:45,  9.76s/it]"
     ]
    },
    {
     "name": "stdout",
     "output_type": "stream",
     "text": [
      "\n",
      "======epoch 15 loss====== 0.09897812\n"
     ]
    },
    {
     "name": "stderr",
     "output_type": "stream",
     "text": [
      "\r",
      " 52%|█████▏    | 17/33 [02:46<02:36,  9.76s/it]"
     ]
    },
    {
     "name": "stdout",
     "output_type": "stream",
     "text": [
      "\n",
      "======epoch 16 loss====== 0.09027867\n"
     ]
    },
    {
     "name": "stderr",
     "output_type": "stream",
     "text": [
      "\r",
      " 55%|█████▍    | 18/33 [02:56<02:26,  9.76s/it]"
     ]
    },
    {
     "name": "stdout",
     "output_type": "stream",
     "text": [
      "\n",
      "======epoch 17 loss====== 0.07850769\n"
     ]
    },
    {
     "name": "stderr",
     "output_type": "stream",
     "text": [
      "\r",
      " 58%|█████▊    | 19/33 [03:06<02:17,  9.79s/it]"
     ]
    },
    {
     "name": "stdout",
     "output_type": "stream",
     "text": [
      "\n",
      "======epoch 18 loss====== 0.07618548\n"
     ]
    },
    {
     "name": "stderr",
     "output_type": "stream",
     "text": [
      "\r",
      " 61%|██████    | 20/33 [03:16<02:07,  9.78s/it]"
     ]
    },
    {
     "name": "stdout",
     "output_type": "stream",
     "text": [
      "\n",
      "======epoch 19 loss====== 0.07990263\n"
     ]
    },
    {
     "name": "stderr",
     "output_type": "stream",
     "text": [
      "\r",
      " 64%|██████▎   | 21/33 [03:26<01:57,  9.77s/it]"
     ]
    },
    {
     "name": "stdout",
     "output_type": "stream",
     "text": [
      "\n",
      "======epoch 20 loss====== 0.07971493\n"
     ]
    },
    {
     "name": "stderr",
     "output_type": "stream",
     "text": [
      "\r",
      " 67%|██████▋   | 22/33 [03:35<01:47,  9.77s/it]"
     ]
    },
    {
     "name": "stdout",
     "output_type": "stream",
     "text": [
      "\n",
      "======epoch 21 loss====== 0.06450906\n"
     ]
    },
    {
     "name": "stderr",
     "output_type": "stream",
     "text": [
      "\r",
      " 70%|██████▉   | 23/33 [03:45<01:37,  9.78s/it]"
     ]
    },
    {
     "name": "stdout",
     "output_type": "stream",
     "text": [
      "\n",
      "======epoch 22 loss====== 0.055367187\n"
     ]
    },
    {
     "name": "stderr",
     "output_type": "stream",
     "text": [
      "\r",
      " 73%|███████▎  | 24/33 [03:55<01:27,  9.77s/it]"
     ]
    },
    {
     "name": "stdout",
     "output_type": "stream",
     "text": [
      "\n",
      "======epoch 23 loss====== 0.056118272\n"
     ]
    },
    {
     "name": "stderr",
     "output_type": "stream",
     "text": [
      "\r",
      " 76%|███████▌  | 25/33 [04:05<01:18,  9.77s/it]"
     ]
    },
    {
     "name": "stdout",
     "output_type": "stream",
     "text": [
      "\n",
      "======epoch 24 loss====== 0.057179403\n"
     ]
    },
    {
     "name": "stderr",
     "output_type": "stream",
     "text": [
      "\r",
      " 79%|███████▉  | 26/33 [04:14<01:08,  9.79s/it]"
     ]
    },
    {
     "name": "stdout",
     "output_type": "stream",
     "text": [
      "\n",
      "======epoch 25 loss====== 0.05435437\n"
     ]
    },
    {
     "name": "stderr",
     "output_type": "stream",
     "text": [
      "\r",
      " 82%|████████▏ | 27/33 [04:24<00:58,  9.79s/it]"
     ]
    },
    {
     "name": "stdout",
     "output_type": "stream",
     "text": [
      "\n",
      "======epoch 26 loss====== 0.056699622\n"
     ]
    },
    {
     "name": "stderr",
     "output_type": "stream",
     "text": [
      "\r",
      " 85%|████████▍ | 28/33 [04:34<00:48,  9.78s/it]"
     ]
    },
    {
     "name": "stdout",
     "output_type": "stream",
     "text": [
      "\n",
      "======epoch 27 loss====== 0.047476638\n"
     ]
    },
    {
     "name": "stderr",
     "output_type": "stream",
     "text": [
      "\r",
      " 88%|████████▊ | 29/33 [04:44<00:39,  9.76s/it]"
     ]
    },
    {
     "name": "stdout",
     "output_type": "stream",
     "text": [
      "\n",
      "======epoch 28 loss====== 0.048329238\n"
     ]
    },
    {
     "name": "stderr",
     "output_type": "stream",
     "text": [
      "\r",
      " 91%|█████████ | 30/33 [04:53<00:29,  9.75s/it]"
     ]
    },
    {
     "name": "stdout",
     "output_type": "stream",
     "text": [
      "\n",
      "======epoch 29 loss====== 0.043283917\n"
     ]
    },
    {
     "name": "stderr",
     "output_type": "stream",
     "text": [
      "\r",
      " 94%|█████████▍| 31/33 [05:03<00:19,  9.74s/it]"
     ]
    },
    {
     "name": "stdout",
     "output_type": "stream",
     "text": [
      "\n",
      "======epoch 30 loss====== 0.04211143\n"
     ]
    },
    {
     "name": "stderr",
     "output_type": "stream",
     "text": [
      "\r",
      " 97%|█████████▋| 32/33 [05:13<00:09,  9.73s/it]"
     ]
    },
    {
     "name": "stdout",
     "output_type": "stream",
     "text": [
      "\n",
      "======epoch 31 loss====== 0.04257398\n"
     ]
    },
    {
     "name": "stderr",
     "output_type": "stream",
     "text": [
      "\r",
      "100%|██████████| 33/33 [05:23<00:00,  9.73s/it]"
     ]
    },
    {
     "name": "stdout",
     "output_type": "stream",
     "text": [
      "\n",
      "======epoch 32 loss====== 0.03767485\n"
     ]
    },
    {
     "name": "stderr",
     "output_type": "stream",
     "text": [
      "\n"
     ]
    }
   ],
   "source": [
    "x_train6, x_dev6, y_train6, y_dev6= train_test_split(combined3, labels,  train_size = 0.7, test_size = 0.3, stratify = labels, random_state = 787)\n",
    "from sklearn.feature_extraction.text import TfidfVectorizer\n",
    "from sklearn.model_selection import cross_validate\n",
    "from sklearn.feature_extraction.text import TfidfVectorizer\n",
    "from sklearn.linear_model import LogisticRegression\n",
    "\n",
    "\n",
    "################################################ LOGISIC REGRESSION PART ##########################################################\n",
    "max_feature_num = 100000\n",
    "train_vectorizer = TfidfVectorizer(ngram_range = (1,3), max_features = max_feature_num)\n",
    "all_vecs = train_vectorizer.fit_transform(x_train6)\n",
    "test_vecs = TfidfVectorizer(ngram_range = (1,3), max_features=max_feature_num,\\\n",
    " vocabulary = train_vectorizer.vocabulary_).fit_transform(x_dev6)\n",
    "clf_fit = LogisticRegression(penalty = 'l2', C = 20)\n",
    "clf_fit.fit(all_vecs,  y_train6)\n",
    "\n",
    "################################################ LOGISIC REGRESSION PART ##########################################################\n",
    "\n",
    "\n",
    "############################################## CONVOLUTION NEURAL NET PART ########################################################\n",
    "best_f1 = -1.\n",
    "#best_model = None\n",
    "import copy\n",
    "import numpy as np\n",
    "from sklearn.metrics import precision_recall_fscore_support\n",
    "from nltk.tokenize import word_tokenize\n",
    "from tqdm import tqdm\n",
    "\n",
    "train_docs = x_train6\n",
    "train_labels = y_train6\n",
    "#***********************************************************#\n",
    "## We vary the below values.\n",
    "dropout_rate = 0.5 # dropout rate\n",
    "filter_sizes = [1,2,3,4, 5, 6]\n",
    "filter_nums = [200]*len(filter_sizes)\n",
    "word_vec_dim = 300\n",
    "# hyper parameters\n",
    "\n",
    "##############################################################\n",
    "n_epochs = 33 # number of epoch (i.e. number of iterations) --> Setting this value to 32 for reasons as specified earlier\n",
    "##############################################################\n",
    "batch_size = 50\n",
    "lr = 0.0008\n",
    "\n",
    "#************************************************************#\n",
    "gpu = True # whether use gpu to accelerate the training\n",
    "model = CNN_Clf(word_vec_dim, filter_sizes, filter_nums, 2, dropout_rate, gpu)\n",
    "loss_fnc = torch.nn.CrossEntropyLoss() # cross entropy loss\n",
    "\n",
    "# init optimizer and scheduler (lr adjustor)\n",
    "import torch.optim as optim\n",
    "optimizer = optim.Adam(params=model.parameters(), lr=lr) # use Adam as the optimizer\n",
    "scheduler = torch.optim.lr_scheduler.StepLR(optimizer, step_size=1, gamma=0.95) # after each epoch, the learning rate is discounted to its 95%\n",
    "f1_list = []\n",
    "\n",
    "oov_vec = oov_vec\n",
    "def get_sent_word_vecs(word_vectors, sent_words, largest_len):\n",
    "    vecs = []\n",
    "    for ww in sent_words:\n",
    "        if ww in word_vectors:\n",
    "            vecs.append(word_vectors[ww])\n",
    "        else:\n",
    "            vecs.append(oov_vec)\n",
    "    for i in range(largest_len-len(sent_words)):\n",
    "        vecs.append([0.]*word_vec_dim)\n",
    "    return np.array(np.transpose(vecs))\n",
    "\n",
    "def build_mini_batch(sent_list, word_vectors):\n",
    "    tokenized_sents = [word_tokenize(ss.lower()) for ss in sent_list]\n",
    "    largest_len = np.max([len(tokens) for tokens in tokenized_sents])\n",
    "    text_vecs = []\n",
    "    for ts in tokenized_sents:\n",
    "        vv = get_sent_word_vecs(word_vectors, ts, largest_len)\n",
    "        text_vecs.append(vv)\n",
    "    # print('mini batch shape',np.array(text_vecs).shape)\n",
    "    return np.array(text_vecs)\n",
    "  \n",
    "for epoch_i in tqdm(range(n_epochs)):\n",
    "    # the inner loop is over the batches in the dataset\n",
    "    model.train() # let pytorch know that gradients should be computed, so as to update the model\n",
    "    ep_loss = []\n",
    "    for idx in range(0,len(train_docs),batch_size):\n",
    "        # Step 0: Get the data\n",
    "        x_data = build_mini_batch(train_docs[idx:idx+batch_size], word_vectors)\n",
    "        if x_data.shape[0] == 0: continue # to avoid empty batch\n",
    "        y_target = torch.tensor([train_labels[idx:idx+batch_size]], dtype=torch.int64).squeeze()\n",
    "        if gpu:\n",
    "            y_target = y_target.to('cuda')\n",
    "        \n",
    "        # Step 1: Clear the gradients \n",
    "        optimizer.zero_grad()\n",
    "\n",
    "        # Step 2: Compute the forward pass of the model\n",
    "        x_tensor = torch.tensor(x_data, dtype=torch.float)\n",
    "        if gpu:\n",
    "            x_tensor = x_tensor.to('cuda')\n",
    "        y_pred = model(x_tensor)\n",
    "        pred_labels = [np.argmax(entry) for entry in y_pred.cpu().detach().numpy()]\n",
    "        # print('pred labels', pred_labels)\n",
    "        # print('true labels', y_target)\n",
    "\n",
    "        # Step 3: Compute the loss value that we wish to optimize\n",
    "        loss = loss_fnc(y_pred, y_target)\n",
    "        # print(loss)\n",
    "        ep_loss.append(loss.cpu().detach().numpy())\n",
    "\n",
    "        # Step 4: Propagate the loss signal backward\n",
    "        loss.backward()\n",
    "\n",
    "        # Step 5: Trigger the optimizer to perform one update\n",
    "        optimizer.step()\n",
    "\n",
    "    print('\\n======epoch {} loss======'.format(epoch_i),np.mean(ep_loss))\n",
    "    \n",
    "############################################## CONVOLUTION NEURAL NET PART ########################################################\n",
    "\n",
    "\n"
   ]
  },
  {
   "cell_type": "code",
   "execution_count": 0,
   "metadata": {
    "colab": {},
    "colab_type": "code",
    "id": "4CP1WLftReVw"
   },
   "outputs": [],
   "source": [
    "## LOGISTIC REGResSION PREDICTIONS\n",
    "logistic_predictions = clf_fit.predict(test_vecs)\n",
    "\n",
    "### CNN PREDICTIONS\n",
    "gpu = True\n",
    "dev_docs = x_dev6\n",
    "with torch.no_grad(): # let pytorch know that no gradient should be computed\n",
    "  model.eval() # let the model know that it in test mode, i.e. no gradient and no dropout\n",
    "  dev_predictions = []\n",
    "  x_data = build_mini_batch(dev_docs, word_vectors)\n",
    "  # if x_data.shape[0] == 0: \n",
    "  #   continue # to avoid empty batch\n",
    "  x_tensor = torch.tensor(x_data, dtype=torch.float)\n",
    "  if gpu:\n",
    "      x_tensor = x_tensor.to('cuda')\n",
    "  y_pred = model(x_tensor).cpu().detach().numpy()\n",
    "  pred_labels = [np.argmax(entry) for entry in y_pred]\n",
    "            #dev_predictions += pred_labels\n",
    "            # print(pred_labels)\n",
    "       # pre, rec, f1, _ = precision_recall_fscore_support(dev_labels, dev_predictions,average='macro')\n",
    "cnn_predictions = pred_labels\n",
    "#confusion_matrix(logistic_predictions,\n"
   ]
  },
  {
   "cell_type": "code",
   "execution_count": 30,
   "metadata": {
    "colab": {
     "base_uri": "https://localhost:8080/",
     "height": 221
    },
    "colab_type": "code",
    "id": "RjE8CfeYbC_I",
    "outputId": "47389d06-f2d3-40cd-b544-0d63cce75859"
   },
   "outputs": [
    {
     "name": "stdout",
     "output_type": "stream",
     "text": [
      "[[2167  547]\n",
      " [ 302  424]]\n",
      "[[1973  368]\n",
      " [ 496  603]]\n",
      "true negatives, false negatives\n",
      "true positives,  false positives\n",
      " \n",
      "precision_recall_fscore Logistic Predictions: (0.6571732531798002, 0.6912372536242035, 0.667950308059154, None)\n",
      "precision_recall_fscore CNN Neural predictions: (0.7100591098936806, 0.6957414200086367, 0.7014914580131972, None)\n",
      " \n",
      "logistic accuracy: 0.7531976744186046\n",
      "cnn accuracy: 0.7488372093023256\n"
     ]
    }
   ],
   "source": [
    "print(confusion_matrix(logistic_predictions, y_dev6))\n",
    "print(confusion_matrix(cnn_predictions, y_dev6))\n",
    "\n",
    "print(\"true negatives,\", \"false negatives\")\n",
    "print(\"true positives,\" \" \", \"false positives\")\n",
    "\n",
    "print(\" \")\n",
    "print(\"precision_recall_fscore Logistic Predictions:\", precision_recall_fscore_support(logistic_predictions, y_dev6,average='macro'))\n",
    "print(\"precision_recall_fscore CNN Neural predictions:\", precision_recall_fscore_support(cnn_predictions, y_dev6,average='macro'))\n",
    "\n",
    "print(\" \")\n",
    "\n",
    "print('logistic accuracy:', np.sum(np.array(logistic_predictions) == np.array(y_dev6))/len(logistic_predictions)   )\n",
    "print('cnn accuracy:', np.sum(np.array(cnn_predictions) == np.array(y_dev6))/len(cnn_predictions))"
   ]
  },
  {
   "cell_type": "markdown",
   "metadata": {
    "colab_type": "text",
    "id": "lWpwc-2ecPkF"
   },
   "source": [
    "### Which is the Better Model: Convolution Neural Network or Logistic Regression (See printed values above)\n",
    "\n",
    "As you can see above, although the logistic and CNN accuracies are relatively close, we can see that our CNN is better in almost every other category. These are the categories it is better in:\n",
    "\n",
    "a) The Convolutional Neural Net has a much lower false positive rate (as shown by the much higher precision). It has a lower tendency to misclassify non-propaganda texts as propaganda texts.\n",
    "\n",
    "b) The CNN also has a much lower tendency to misclassify propaganda text as non-propaganda text. Hence, it has a better recall.\n",
    "\n",
    "Thus, with this in mind we can see that the convolutional neural net is a better model than the logistic regression."
   ]
  },
  {
   "cell_type": "markdown",
   "metadata": {
    "colab_type": "text",
    "id": "BJ2I09L8eMue"
   },
   "source": [
    "## SAVE YOUR TRAINED MODEL\n",
    "After you have obtained the best model, save your trained model and other necessary components to a file. The markers will load your model from the saved file and test your trained model on some held-out test data. Make sure that you have included all necessary files to re-run your model. **The markers will NOT re-run your code to train your model; instead, they will directly use your trained model to run the test**. \n",
    "\n",
    "Below is the sample code for saving the model and other necessary components, using the *pickle* package in Python. *You should adjust the code to save all necessary components for re-running your model.*"
   ]
  },
  {
   "cell_type": "code",
   "execution_count": 0,
   "metadata": {
    "colab": {},
    "colab_type": "code",
    "id": "DA7CWwVadELD"
   },
   "outputs": [],
   "source": [
    "import pickle\n",
    "\n",
    "# save model and other necessary components of your model\n",
    "# DO NOT include the embedding files in your submission\n",
    "word_vec_dim = 300\n",
    "dropout_rate = 0.5\n",
    "oov_vec\n",
    "all_info_want_to_save = {\n",
    "    'input_dim': word_vec_dim,\n",
    "    'dropout_rate': dropout_rate,\n",
    "    'neural_weights': model.state_dict(),\n",
    "    'oov_vector': oov_vec,\n",
    "    'filter_size_list': [1,2,3,4,5,6],\n",
    "    'filter_num_list': [200, 200, 200, 200, 200, 200],\n",
    "    'class_num': 2\n",
    "\n",
    "}\n",
    "save_path = open(\"cw2_sample_saved_file.pickle\",\"wb\")\n",
    "pickle.dump(all_info_want_to_save, save_path)\n",
    "save_path.close()"
   ]
  }
 ],
 "metadata": {
  "accelerator": "GPU",
  "colab": {
   "collapsed_sections": [],
   "machine_shape": "hm",
   "name": "lab8.2_project23",
   "provenance": []
  },
  "kernelspec": {
   "display_name": "Python 3",
   "language": "python",
   "name": "python3"
  },
  "language_info": {
   "codemirror_mode": {
    "name": "ipython",
    "version": 3
   },
   "file_extension": ".py",
   "mimetype": "text/x-python",
   "name": "python",
   "nbconvert_exporter": "python",
   "pygments_lexer": "ipython3",
   "version": "3.7.3"
  }
 },
 "nbformat": 4,
 "nbformat_minor": 1
}
