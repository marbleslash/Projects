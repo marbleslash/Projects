{
 "cells": [
  {
   "cell_type": "code",
   "execution_count": 1,
   "metadata": {},
   "outputs": [],
   "source": [
    "# load pre-trained glove embeddings\n",
    "from gensim.test.utils import datapath, get_tmpfile\n",
    "from gensim.models import KeyedVectors\n",
    "from gensim.scripts.glove2word2vec import glove2word2vec\n",
    "\n",
    "# specify the loaction of the downloaded glove file\n",
    "path_of_downloaded_files = \"/home/cim/staff/uhac002/Library/Embeddings/GloVe/glove.6B.300d.txt\"\n",
    "# path_of_downloaded_files = \"/Users/yg211/Embeddings/Glove/glove.6B.300d.txt\"\n",
    "glove_file = datapath(path_of_downloaded_files)\n",
    "word2vec_glove_file = get_tmpfile(\"glove.6B.300d.txt\")\n",
    "glove2word2vec(glove_file, word2vec_glove_file)\n",
    "word_vectors = KeyedVectors.load_word2vec_format(word2vec_glove_file)"
   ]
  },
  {
   "cell_type": "code",
   "execution_count": 6,
   "metadata": {},
   "outputs": [],
   "source": [
    "# then we define the attentive RNN-based classifier\n",
    "import torch\n",
    "import torch.nn as nn\n",
    "\n",
    "class RNN_Attention(nn.Module):\n",
    "    def __init__(self, embd_dim, hidden_dim, cls_num, gpu):\n",
    "        super(RNN_Attention, self).__init__()\n",
    "        self.lstm = nn.LSTM(input_size=embd_dim, hidden_size=hidden_dim, batch_first=True, bidirectional=False)\n",
    "        self.softmax = nn.Softmax()\n",
    "        self.fc = nn.Linear(hidden_dim, cls_num)\n",
    "        self.query_vec = torch.randn(1,hidden_dim, requires_grad=True)\n",
    "        self.gpu = gpu\n",
    "        if gpu: \n",
    "            self.to('cuda')\n",
    "            self.query_vec = self.query_vec.to('cuda')\n",
    "    def weighted_sum_vector(self, hidden_states, weights):\n",
    "        # we view the weighted summation of hidden states as a covolutional computation process\n",
    "        # covolutional computation is very efficient to run\n",
    "        aggregation_layer = torch.nn.Conv1d(in_channels=hidden_states.shape[0], out_channels=1, kernel_size=1, bias=False)\n",
    "        if self.gpu: aggregation_layer.to('cuda')\n",
    "        aggregation_layer.weight = torch.nn.Parameter(weights.unsqueeze(2))\n",
    "        # print('weights', aggregation_layer.weight.shape)\n",
    "        weighted_vec = aggregation_layer(hidden_states.unsqueeze(0))\n",
    "        return weighted_vec\n",
    "    def forward(self, input_matrix):\n",
    "        hidden_states = self.lstm(input_matrix.unsqueeze(0))[0].squeeze()\n",
    "        # print('len shape', len(hidden_states.shape))\n",
    "        if len(hidden_states.shape) == 1: hidden_states = hidden_states.unsqueeze(0)\n",
    "        # print('hidden states', hidden_states.shape)\n",
    "        atten_logits = torch.mm(self.query_vec, torch.transpose(hidden_states,0,1))\n",
    "        # print('atten logits', atten_logits.shape)\n",
    "        atten_probs = self.softmax(atten_logits)\n",
    "        weighted_vec = self.weighted_sum_vector(hidden_states, atten_probs)\n",
    "        # print('weighted sum vec', weighted_vec.shape)\n",
    "        logits = self.fc(weighted_vec)\n",
    "        return logits, atten_probs"
   ]
  },
  {
   "cell_type": "code",
   "execution_count": 7,
   "metadata": {},
   "outputs": [],
   "source": [
    "import pickle\n",
    "\n",
    "saved_dic = pickle.load(open('sample_trained_model.pickle', 'rb'))\n",
    "oov_vec = saved_dic['oov_vec']\n",
    "embd_dim = saved_dic['embd_dim']\n",
    "hidden_dim = saved_dic['hidden_dim']\n",
    "cls_num = saved_dic['cls_num']\n",
    "query_vec = saved_dic['query_vec']"
   ]
  },
  {
   "cell_type": "code",
   "execution_count": 8,
   "metadata": {},
   "outputs": [],
   "source": [
    "gpu = False \n",
    "model = RNN_Attention(embd_dim, hidden_dim, cls_num, gpu)\n",
    "\n",
    "if gpu:\n",
    "    model.load_state_dict(torch.load('attentive_rnn_trained_model.state_dict'))\n",
    "    model.query_vec = query_vec\n",
    "else:\n",
    "    model.load_state_dict(torch.load('attentive_rnn_trained_model.state_dict', map_location=lambda storage, loc: storage))\n",
    "    model.query_vec = query_vec.cpu().detach()\n",
    "\n",
    "\n",
    "import matplotlib.pyplot as plt\n",
    "from nltk.tokenize import word_tokenize\n",
    "import numpy as np\n",
    "\n",
    "\n",
    "def get_sent_word_vecs(word_vectors, sent_words, largest_len):\n",
    "    vecs = []\n",
    "    for ww in sent_words:\n",
    "        if ww in word_vectors:\n",
    "            vecs.append(word_vectors[ww])\n",
    "        else:\n",
    "            vecs.append(oov_vec)\n",
    "    return np.array(vecs)\n",
    "\n",
    "def build_mini_batch(sent_list, word_vectors):\n",
    "    tokenized_sents = [word_tokenize(ss.lower()) for ss in sent_list]\n",
    "    largest_len = np.max([len(tokens) for tokens in tokenized_sents])\n",
    "    text_vecs = []\n",
    "    for ts in tokenized_sents:\n",
    "        vv = get_sent_word_vecs(word_vectors, ts, largest_len)\n",
    "        text_vecs.append(vv)\n",
    "    # print('mini batch shape',np.array(text_vecs).shape)\n",
    "    return np.array(text_vecs)\n",
    "\n",
    "def predict_explain(sent, word_vectors, model, use_gpu=False):\n",
    "    with torch.no_grad(): # let pytorch know that no gradient should be computed\n",
    "        model.eval() # let the model know that it in test mode, i.e. no gradient and no dropout\n",
    "        batch = build_mini_batch([sent], word_vectors)\n",
    "        input_sent = torch.from_numpy(batch[0]).float()\n",
    "        if use_gpu: input_sent = input_sent.to('cuda')\n",
    "        logits, attentions = model(input_sent)\n",
    "        softmax = nn.Softmax()\n",
    "        probs = softmax(logits.squeeze()).cpu()\n",
    "        print('probability pos: {:3f}, neg: {:3f}'.format(probs[0], probs[1]))\n",
    "        words = word_tokenize(sent)\n",
    "        attentions = list(attentions.squeeze().cpu().detach().numpy())\n",
    "        print('attention values', attentions)\n",
    "        assert len(words) == len(attentions)\n",
    "        plt.bar(words, attentions)\n",
    "        plt.show()"
   ]
  },
  {
   "cell_type": "code",
   "execution_count": 11,
   "metadata": {},
   "outputs": [
    {
     "name": "stdout",
     "output_type": "stream",
     "text": [
      "probability pos: 0.286933, neg: 0.713067\n",
      "attention values [0.317649, 0.682351]\n"
     ]
    },
    {
     "name": "stderr",
     "output_type": "stream",
     "text": [
      "/home/cim/staff/uhac002/PycharmProjects/ScratchPad/venv_nlp/lib/python3.7/site-packages/ipykernel_launcher.py:32: UserWarning: Implicit dimension choice for softmax has been deprecated. Change the call to include dim=X as an argument.\n",
      "/home/cim/staff/uhac002/PycharmProjects/ScratchPad/venv_nlp/lib/python3.7/site-packages/ipykernel_launcher.py:44: UserWarning: Implicit dimension choice for softmax has been deprecated. Change the call to include dim=X as an argument.\n"
     ]
    },
    {
     "data": {
      "image/png": "[encoded data removed]",
      "text/plain": [
       "<Figure size 432x288 with 1 Axes>"
      ]
     },
     "metadata": {
      "needs_background": "light"
     },
     "output_type": "display_data"
    }
   ],
   "source": [
    "predict_explain(\n",
    "    \"not interested\",\n",
    "    word_vectors, model, gpu)"
   ]
  },
  {
   "cell_type": "code",
   "execution_count": null,
   "metadata": {},
   "outputs": [],
   "source": []
  }
 ],
 "metadata": {
  "kernelspec": {
   "display_name": "venv_nlp",
   "language": "python",
   "name": "venv_nlp"
  },
  "language_info": {
   "codemirror_mode": {
    "name": "ipython",
    "version": 3
   },
   "file_extension": ".py",
   "mimetype": "text/x-python",
   "name": "python",
   "nbconvert_exporter": "python",
   "pygments_lexer": "ipython3",
   "version": "3.7.3"
  }
 },
 "nbformat": 4,
 "nbformat_minor": 2
}
